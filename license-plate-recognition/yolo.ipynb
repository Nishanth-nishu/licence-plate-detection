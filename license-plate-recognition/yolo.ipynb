{
  "cells": [
    {
      "cell_type": "code",
      "execution_count": null,
      "metadata": {
        "colab": {
          "base_uri": "https://localhost:8080/"
        },
        "id": "JuSuJpoM8Kol",
        "outputId": "54bfbe4c-48dc-4e9b-d12f-de01c568a1cf"
      },
      "outputs": [
        {
          "output_type": "stream",
          "name": "stdout",
          "text": [
            "Mounted at /content/drive\n",
            "\u001b[2K   \u001b[90m━━━━━━━━━━━━━━━━━━━━━━━━━━━━━━━━━━━━━━━━\u001b[0m \u001b[32m2.9/2.9 MB\u001b[0m \u001b[31m25.3 MB/s\u001b[0m eta \u001b[36m0:00:00\u001b[0m\n",
            "\u001b[2K   \u001b[90m━━━━━━━━━━━━━━━━━━━━━━━━━━━━━━━━━━━━━━━━\u001b[0m \u001b[32m422.9/422.9 kB\u001b[0m \u001b[31m22.2 MB/s\u001b[0m eta \u001b[36m0:00:00\u001b[0m\n",
            "\u001b[2K   \u001b[90m━━━━━━━━━━━━━━━━━━━━━━━━━━━━━━━━━━━━━━━━\u001b[0m \u001b[32m912.2/912.2 kB\u001b[0m \u001b[31m39.3 MB/s\u001b[0m eta \u001b[36m0:00:00\u001b[0m\n",
            "\u001b[2K   \u001b[90m━━━━━━━━━━━━━━━━━━━━━━━━━━━━━━━━━━━━━━━━\u001b[0m \u001b[32m286.8/286.8 kB\u001b[0m \u001b[31m17.3 MB/s\u001b[0m eta \u001b[36m0:00:00\u001b[0m\n",
            "\u001b[2K   \u001b[90m━━━━━━━━━━━━━━━━━━━━━━━━━━━━━━━━━━━━━━━━\u001b[0m \u001b[32m905.3/905.3 kB\u001b[0m \u001b[31m15.7 MB/s\u001b[0m eta \u001b[36m0:00:00\u001b[0m\n",
            "\u001b[?25hCreating new Ultralytics Settings v0.0.6 file ✅ \n",
            "View Ultralytics Settings with 'yolo settings' or at '/root/.config/Ultralytics/settings.json'\n",
            "Update Settings with 'yolo settings key=value', i.e. 'yolo settings runs_dir=path/to/dir'. For help see https://docs.ultralytics.com/quickstart/#ultralytics-settings.\n"
          ]
        }
      ],
      "source": [
        "# Mount Google Drive\n",
        "from google.colab import drive\n",
        "drive.mount('/content/drive',force_remount=True)\n",
        "\n",
        "# Install required libraries\n",
        "!pip install torch torchvision --quiet\n",
        "!pip install easyocr --quiet\n",
        "!pip install opencv-python-headless --quiet\n",
        "!pip install ultralytics --quiet  # For YOLOv8\n",
        "\n",
        "import os\n",
        "import cv2\n",
        "import numpy as np\n",
        "import torch\n",
        "from torchvision import transforms\n",
        "from PIL import Image\n",
        "import easyocr\n",
        "from ultralytics import YOLO\n"
      ]
    },
    {
      "cell_type": "code",
      "execution_count": null,
      "metadata": {
        "colab": {
          "base_uri": "https://localhost:8080/"
        },
        "id": "1em1F9cW9gXY",
        "outputId": "c7cf0347-cea0-4bdd-aa90-393850d531f6"
      },
      "outputs": [
        {
          "output_type": "stream",
          "name": "stdout",
          "text": [
            "Extracted /content/drive/MyDrive/DATA SCIENTIST_ASSIGNMENT/test.zip to /content/extracted_detection_images\n",
            "Extracted /content/drive/MyDrive/DATA SCIENTIST_ASSIGNMENT/Licplatesrecognition_train.zip to /content/extracted_recognition_images\n"
          ]
        }
      ],
      "source": [
        "import zipfile\n",
        "import os\n",
        "!pip install torch torchvision --quiet\n",
        "!pip install easyocr --quiet\n",
        "!pip install opencv-python-headless --quiet\n",
        "!pip install ultralytics --quiet  # For YOLOv8\n",
        "\n",
        "import os\n",
        "import cv2\n",
        "import numpy as np\n",
        "import torch\n",
        "from torchvision import transforms\n",
        "from PIL import Image\n",
        "import easyocr\n",
        "from ultralytics import YOLO\n",
        "\n",
        "# Paths to the zip files\n",
        "detection_zip_path = '/content/drive/MyDrive/DATA SCIENTIST_ASSIGNMENT/test.zip'  # The zip file for detection images\n",
        "recognition_zip_path = '/content/drive/MyDrive/DATA SCIENTIST_ASSIGNMENT/Licplatesrecognition_train.zip'  # The zip file for recognition images\n",
        "\n",
        "# Destination folders where the images will be extracted\n",
        "detection_extract_path = '/content/extracted_detection_images'\n",
        "recognition_extract_path = '/content/extracted_recognition_images'\n",
        "\n",
        "# Function to extract zip files\n",
        "def extract_zip(zip_path, extract_to):\n",
        "    if not os.path.exists(extract_to):\n",
        "        os.makedirs(extract_to)\n",
        "    with zipfile.ZipFile(zip_path, 'r') as zip_ref:\n",
        "        zip_ref.extractall(extract_to)\n",
        "    print(f\"Extracted {zip_path} to {extract_to}\")\n",
        "\n",
        "# Extract detection and recognition images\n",
        "extract_zip(detection_zip_path, detection_extract_path)\n",
        "extract_zip(recognition_zip_path, recognition_extract_path)\n"
      ]
    },
    {
      "cell_type": "code",
      "execution_count": null,
      "metadata": {
        "colab": {
          "base_uri": "https://localhost:8080/"
        },
        "id": "2rRW8VaT-DE8",
        "outputId": "52485a86-de1e-4419-b1c1-be5997b45f8e"
      },
      "outputs": [
        {
          "data": {
            "text/plain": [
              "Index(['img_id', 'ymin', 'xmin', 'ymax', 'xmax'], dtype='object')"
            ]
          },
          "execution_count": 10,
          "metadata": {},
          "output_type": "execute_result"
        }
      ],
      "source": [
        "df.columns"
      ]
    },
    {
      "cell_type": "code",
      "execution_count": null,
      "metadata": {
        "colab": {
          "base_uri": "https://localhost:8080/"
        },
        "id": "SiDibWAa8PcM",
        "outputId": "ced57407-a4c3-4f75-faaa-fcad4a36fd56"
      },
      "outputs": [
        {
          "output_type": "stream",
          "name": "stdout",
          "text": [
            "Loaded 900 annotations from /content/drive/MyDrive/DATA SCIENTIST_ASSIGNMENT/Licplatesdetection_train.csv.\n",
            "Unique image IDs in CSV: 900\n",
            "Total images in directory: 900\n",
            "\n",
            "Summary:\n",
            "Images with annotations: 900\n",
            "Images without annotations: 0\n",
            "Annotations without images: 0\n",
            "\n",
            "Details saved to 'missing_annotations.txt' and 'orphan_annotations.txt'.\n"
          ]
        }
      ],
      "source": [
        "import os\n",
        "import pandas as pd\n",
        "\n",
        "# Paths\n",
        "CSV_FILE_PATH = \"/content/drive/MyDrive/DATA SCIENTIST_ASSIGNMENT/Licplatesdetection_train.csv\"  # Path to the CSV file\n",
        "IMAGE_DIR = \"/content/extracted_detection_images/license_plates_detection_train\"  # Path to the folder containing images\n",
        "\n",
        "# Load CSV file\n",
        "try:\n",
        "    df = pd.read_csv(CSV_FILE_PATH, delimiter=\",\")  # Assuming tab-delimited CSV\n",
        "    print(f\"Loaded {len(df)} annotations from {CSV_FILE_PATH}.\")\n",
        "except Exception as e:\n",
        "    print(f\"Error loading CSV: {e}\")\n",
        "    raise\n",
        "\n",
        "# Extract unique image IDs from the CSV\n",
        "csv_image_ids = set(df['img_id'].unique())\n",
        "print(f\"Unique image IDs in CSV: {len(csv_image_ids)}\")\n",
        "\n",
        "# Get all image filenames in the directory\n",
        "image_filenames = set(os.listdir(IMAGE_DIR))\n",
        "print(f\"Total images in directory: {len(image_filenames)}\")\n",
        "\n",
        "# Cross-check\n",
        "images_with_annotations = csv_image_ids & image_filenames\n",
        "missing_annotations = image_filenames - csv_image_ids\n",
        "orphan_annotations = csv_image_ids - image_filenames\n",
        "\n",
        "# Results\n",
        "print(\"\\nSummary:\")\n",
        "print(f\"Images with annotations: {len(images_with_annotations)}\")\n",
        "print(f\"Images without annotations: {len(missing_annotations)}\")\n",
        "print(f\"Annotations without images: {len(orphan_annotations)}\")\n",
        "\n",
        "# Save results for review\n",
        "with open(\"missing_annotations.txt\", \"w\") as f:\n",
        "    f.writelines(f\"{img}\\n\" for img in missing_annotations)\n",
        "\n",
        "with open(\"orphan_annotations.txt\", \"w\") as f:\n",
        "    f.writelines(f\"{img}\\n\" for img in orphan_annotations)\n",
        "\n",
        "print(\"\\nDetails saved to 'missing_annotations.txt' and 'orphan_annotations.txt'.\")\n"
      ]
    },
    {
      "cell_type": "code",
      "execution_count": null,
      "metadata": {
        "colab": {
          "base_uri": "https://localhost:8080/"
        },
        "id": "bed4LvgT-45x",
        "outputId": "2852a5a0-716b-4a6c-9179-e935fa3063a7"
      },
      "outputs": [
        {
          "name": "stdout",
          "output_type": "stream",
          "text": [
            "YOLO annotations saved to: /content/yolo_labels\n"
          ]
        }
      ],
      "source": [
        "import os\n",
        "import pandas as pd\n",
        "from PIL import Image\n",
        "\n",
        "# Paths\n",
        "csv_file_path = \"/content/drive/MyDrive/DATA SCIENTIST_ASSIGNMENT/Licplatesdetection_train.csv\"\n",
        "images_directory = \"/content/extracted_detection_images/license_plates_detection_train\"\n",
        "output_directory = \"/content/yolo_labels\"\n",
        "\n",
        "# Create output directory if it doesn't exist\n",
        "os.makedirs(output_directory, exist_ok=True)\n",
        "\n",
        "# Load the CSV file\n",
        "data = pd.read_csv(csv_file_path)\n",
        "data.columns = [col.strip() for col in data.columns]  # Clean column names\n",
        "\n",
        "# Ensure the CSV has the correct structure\n",
        "required_columns = {\"img_id\", \"xmin\", \"ymin\", \"xmax\", \"ymax\"}\n",
        "if not required_columns.issubset(data.columns):\n",
        "    raise ValueError(f\"CSV file must contain the following columns: {required_columns}\")\n",
        "\n",
        "# Iterate through each image and process annotations\n",
        "for img_id, group in data.groupby(\"img_id\"):\n",
        "    image_path = os.path.join(images_directory, img_id)\n",
        "    if not os.path.exists(image_path):\n",
        "        print(f\"Warning: Image {img_id} not found in {images_directory}. Skipping.\")\n",
        "        continue\n",
        "\n",
        "    # Open the image to get dimensions\n",
        "    with Image.open(image_path) as img:\n",
        "        img_width, img_height = img.size\n",
        "\n",
        "    # Prepare YOLO format annotations\n",
        "    yolo_annotations = []\n",
        "    for _, row in group.iterrows():\n",
        "        # Normalize coordinates\n",
        "        x_center = ((row[\"xmin\"] + row[\"xmax\"]) / 2) / img_width\n",
        "        y_center = ((row[\"ymin\"] + row[\"ymax\"]) / 2) / img_height\n",
        "        width = (row[\"xmax\"] - row[\"xmin\"]) / img_width\n",
        "        height = (row[\"ymax\"] - row[\"ymin\"]) / img_height\n",
        "\n",
        "        # Append class ID (0 for single class) and normalized coordinates\n",
        "        yolo_annotations.append(f\"0 {x_center} {y_center} {width} {height}\")\n",
        "\n",
        "    # Save annotations to a text file in YOLO format\n",
        "    output_file_path = os.path.join(output_directory, os.path.splitext(img_id)[0] + \".txt\")\n",
        "    with open(output_file_path, \"w\") as f:\n",
        "        f.write(\"\\n\".join(yolo_annotations))\n",
        "\n",
        "print(f\"YOLO annotations saved to: {output_directory}\")\n"
      ]
    },
    {
      "cell_type": "code",
      "execution_count": null,
      "metadata": {
        "colab": {
          "base_uri": "https://localhost:8080/"
        },
        "id": "6x2bE83SDLxO",
        "outputId": "5093411a-8ad3-4c1e-f60d-8d871d6ee769"
      },
      "outputs": [
        {
          "name": "stdout",
          "output_type": "stream",
          "text": [
            "Dataset split into 720 training and 180 validation samples.\n"
          ]
        }
      ],
      "source": [
        "import os\n",
        "import shutil\n",
        "import random\n",
        "\n",
        "# Paths\n",
        "images_directory = '/content/extracted_detection_images/license_plates_detection_train'  # Path to images\n",
        "labels_directory = '/content/yolo_labels'  # Path to YOLO annotations\n",
        "train_images_dir = '/content/train/images'  # Path for training images\n",
        "train_labels_dir = '/content/train/labels'  # Path for training labels\n",
        "val_images_dir = '/content/val/images'  # Path for validation images\n",
        "val_labels_dir = '/content/val/labels'  # Path for validation labels\n",
        "\n",
        "# Create train and val directories if they don't exist\n",
        "os.makedirs(train_images_dir, exist_ok=True)\n",
        "os.makedirs(train_labels_dir, exist_ok=True)\n",
        "os.makedirs(val_images_dir, exist_ok=True)\n",
        "os.makedirs(val_labels_dir, exist_ok=True)\n",
        "\n",
        "# Get the list of image files\n",
        "image_files = [f for f in os.listdir(images_directory) if f.endswith('.jpg')]  # Assuming images are in .jpg format\n",
        "\n",
        "# Shuffle the list of image files\n",
        "random.shuffle(image_files)\n",
        "\n",
        "# Split into 80% train and 20% validation\n",
        "split_ratio = 0.8\n",
        "train_size = int(len(image_files) * split_ratio)\n",
        "train_files = image_files[:train_size]\n",
        "val_files = image_files[train_size:]\n",
        "\n",
        "# Function to move files to the appropriate directories\n",
        "def move_files(files, src_image_dir, src_label_dir, dest_image_dir, dest_label_dir):\n",
        "    for file in files:\n",
        "        # Move images\n",
        "        shutil.move(os.path.join(src_image_dir, file), os.path.join(dest_image_dir, file))\n",
        "\n",
        "        # Move corresponding label files\n",
        "        label_file = os.path.splitext(file)[0] + '.txt'  # Assuming labels have the same name as images\n",
        "        shutil.move(os.path.join(src_label_dir, label_file), os.path.join(dest_label_dir, label_file))\n",
        "\n",
        "# Move training and validation files\n",
        "move_files(train_files, images_directory, labels_directory, train_images_dir, train_labels_dir)\n",
        "move_files(val_files, images_directory, labels_directory, val_images_dir, val_labels_dir)\n",
        "\n",
        "print(f\"Dataset split into {len(train_files)} training and {len(val_files)} validation samples.\")\n"
      ]
    },
    {
      "cell_type": "code",
      "execution_count": null,
      "metadata": {
        "colab": {
          "base_uri": "https://localhost:8080/"
        },
        "id": "Qu5NWOv4DnZW",
        "outputId": "c24d31d1-dcd8-4fb6-efb6-343c8b5b6c97"
      },
      "outputs": [
        {
          "name": "stdout",
          "output_type": "stream",
          "text": [
            "data.yaml file has been created and saved to /content/data.yaml\n"
          ]
        }
      ],
      "source": [
        "import yaml\n",
        "\n",
        "# Define paths for training and validation sets\n",
        "train_images_path = '/content/train/images'\n",
        "val_images_path = '/content/val/images'\n",
        "\n",
        "# Number of classes\n",
        "num_classes = 1\n",
        "class_names = ['license_plate']\n",
        "\n",
        "# Create the data.yaml content\n",
        "data_yaml = {\n",
        "    'train': train_images_path,\n",
        "    'val': val_images_path,\n",
        "    'nc': num_classes,\n",
        "    'names': class_names\n",
        "}\n",
        "\n",
        "# Define the path for saving the data.yaml file\n",
        "yaml_file_path = '/content/data.yaml'\n",
        "\n",
        "# Write the YAML file\n",
        "with open(yaml_file_path, 'w') as yaml_file:\n",
        "    yaml.dump(data_yaml, yaml_file)\n",
        "\n",
        "print(f\"data.yaml file has been created and saved to {yaml_file_path}\")\n"
      ]
    },
    {
      "cell_type": "code",
      "execution_count": null,
      "metadata": {
        "colab": {
          "base_uri": "https://localhost:8080/"
        },
        "id": "mIH8-gooEd9-",
        "outputId": "3c660af0-ffcb-4cba-891c-108f31435434"
      },
      "outputs": [
        {
          "name": "stdout",
          "output_type": "stream",
          "text": [
            "Ultralytics 8.3.58 🚀 Python-3.10.12 torch-2.5.1+cu121 CUDA:0 (Tesla T4, 15102MiB)\n",
            "\u001b[34m\u001b[1mengine/trainer: \u001b[0mtask=detect, mode=train, model=yolov8n.yaml, data=/content/data.yaml, epochs=50, time=None, patience=100, batch=16, imgsz=640, save=True, save_period=-1, cache=False, device=0, workers=8, project=/content/yolo_training, name=license_plate_model, exist_ok=True, pretrained=True, optimizer=auto, verbose=True, seed=0, deterministic=True, single_cls=False, rect=False, cos_lr=False, close_mosaic=10, resume=False, amp=True, fraction=1.0, profile=False, freeze=None, multi_scale=False, overlap_mask=True, mask_ratio=4, dropout=0.0, val=True, split=val, save_json=False, save_hybrid=False, conf=None, iou=0.7, max_det=300, half=False, dnn=False, plots=True, source=None, vid_stride=1, stream_buffer=False, visualize=False, augment=True, agnostic_nms=False, classes=None, retina_masks=False, embed=None, show=False, save_frames=False, save_txt=False, save_conf=False, save_crop=False, show_labels=True, show_conf=True, show_boxes=True, line_width=None, format=torchscript, keras=False, optimize=False, int8=False, dynamic=False, simplify=True, opset=None, workspace=None, nms=False, lr0=0.01, lrf=0.01, momentum=0.937, weight_decay=0.0005, warmup_epochs=3.0, warmup_momentum=0.8, warmup_bias_lr=0.1, box=7.5, cls=0.5, dfl=1.5, pose=12.0, kobj=1.0, nbs=64, hsv_h=0.015, hsv_s=0.7, hsv_v=0.4, degrees=0.0, translate=0.1, scale=0.5, shear=0.0, perspective=0.0, flipud=0.0, fliplr=0.5, bgr=0.0, mosaic=1.0, mixup=0.0, copy_paste=0.0, copy_paste_mode=flip, auto_augment=randaugment, erasing=0.4, crop_fraction=1.0, cfg=None, tracker=botsort.yaml, save_dir=/content/yolo_training/license_plate_model\n",
            "Downloading https://ultralytics.com/assets/Arial.ttf to '/root/.config/Ultralytics/Arial.ttf'...\n"
          ]
        },
        {
          "name": "stderr",
          "output_type": "stream",
          "text": [
            "100%|██████████| 755k/755k [00:00<00:00, 22.8MB/s]\n"
          ]
        },
        {
          "name": "stdout",
          "output_type": "stream",
          "text": [
            "Overriding model.yaml nc=80 with nc=1\n",
            "\n",
            "                   from  n    params  module                                       arguments                     \n",
            "  0                  -1  1       464  ultralytics.nn.modules.conv.Conv             [3, 16, 3, 2]                 \n",
            "  1                  -1  1      4672  ultralytics.nn.modules.conv.Conv             [16, 32, 3, 2]                \n",
            "  2                  -1  1      7360  ultralytics.nn.modules.block.C2f             [32, 32, 1, True]             \n",
            "  3                  -1  1     18560  ultralytics.nn.modules.conv.Conv             [32, 64, 3, 2]                \n",
            "  4                  -1  2     49664  ultralytics.nn.modules.block.C2f             [64, 64, 2, True]             \n",
            "  5                  -1  1     73984  ultralytics.nn.modules.conv.Conv             [64, 128, 3, 2]               \n",
            "  6                  -1  2    197632  ultralytics.nn.modules.block.C2f             [128, 128, 2, True]           \n",
            "  7                  -1  1    295424  ultralytics.nn.modules.conv.Conv             [128, 256, 3, 2]              \n",
            "  8                  -1  1    460288  ultralytics.nn.modules.block.C2f             [256, 256, 1, True]           \n",
            "  9                  -1  1    164608  ultralytics.nn.modules.block.SPPF            [256, 256, 5]                 \n",
            " 10                  -1  1         0  torch.nn.modules.upsampling.Upsample         [None, 2, 'nearest']          \n",
            " 11             [-1, 6]  1         0  ultralytics.nn.modules.conv.Concat           [1]                           \n",
            " 12                  -1  1    148224  ultralytics.nn.modules.block.C2f             [384, 128, 1]                 \n",
            " 13                  -1  1         0  torch.nn.modules.upsampling.Upsample         [None, 2, 'nearest']          \n",
            " 14             [-1, 4]  1         0  ultralytics.nn.modules.conv.Concat           [1]                           \n",
            " 15                  -1  1     37248  ultralytics.nn.modules.block.C2f             [192, 64, 1]                  \n",
            " 16                  -1  1     36992  ultralytics.nn.modules.conv.Conv             [64, 64, 3, 2]                \n",
            " 17            [-1, 12]  1         0  ultralytics.nn.modules.conv.Concat           [1]                           \n",
            " 18                  -1  1    123648  ultralytics.nn.modules.block.C2f             [192, 128, 1]                 \n",
            " 19                  -1  1    147712  ultralytics.nn.modules.conv.Conv             [128, 128, 3, 2]              \n",
            " 20             [-1, 9]  1         0  ultralytics.nn.modules.conv.Concat           [1]                           \n",
            " 21                  -1  1    493056  ultralytics.nn.modules.block.C2f             [384, 256, 1]                 \n",
            " 22        [15, 18, 21]  1    751507  ultralytics.nn.modules.head.Detect           [1, [64, 128, 256]]           \n",
            "YOLOv8n summary: 225 layers, 3,011,043 parameters, 3,011,027 gradients, 8.2 GFLOPs\n",
            "\n",
            "\u001b[34m\u001b[1mTensorBoard: \u001b[0mStart with 'tensorboard --logdir /content/yolo_training/license_plate_model', view at http://localhost:6006/\n",
            "Freezing layer 'model.22.dfl.conv.weight'\n",
            "\u001b[34m\u001b[1mAMP: \u001b[0mrunning Automatic Mixed Precision (AMP) checks...\n",
            "Downloading https://github.com/ultralytics/assets/releases/download/v8.3.0/yolo11n.pt to 'yolo11n.pt'...\n"
          ]
        },
        {
          "name": "stderr",
          "output_type": "stream",
          "text": [
            "100%|██████████| 5.35M/5.35M [00:00<00:00, 95.6MB/s]\n"
          ]
        },
        {
          "name": "stdout",
          "output_type": "stream",
          "text": [
            "\u001b[34m\u001b[1mAMP: \u001b[0mchecks passed ✅\n"
          ]
        },
        {
          "name": "stderr",
          "output_type": "stream",
          "text": [
            "\u001b[34m\u001b[1mtrain: \u001b[0mScanning /content/train/labels... 720 images, 0 backgrounds, 0 corrupt: 100%|██████████| 720/720 [00:00<00:00, 1966.78it/s]"
          ]
        },
        {
          "name": "stdout",
          "output_type": "stream",
          "text": [
            "\u001b[34m\u001b[1mtrain: \u001b[0mNew cache created: /content/train/labels.cache\n"
          ]
        },
        {
          "name": "stderr",
          "output_type": "stream",
          "text": [
            "\n"
          ]
        },
        {
          "name": "stdout",
          "output_type": "stream",
          "text": [
            "\u001b[34m\u001b[1malbumentations: \u001b[0mBlur(p=0.01, blur_limit=(3, 7)), MedianBlur(p=0.01, blur_limit=(3, 7)), ToGray(p=0.01, num_output_channels=3, method='weighted_average'), CLAHE(p=0.01, clip_limit=(1.0, 4.0), tile_grid_size=(8, 8))\n"
          ]
        },
        {
          "name": "stderr",
          "output_type": "stream",
          "text": [
            "/usr/local/lib/python3.10/dist-packages/albumentations/__init__.py:24: UserWarning: A new version of Albumentations is available: 1.4.24 (you have 1.4.20). Upgrade using: pip install -U albumentations. To disable automatic update checks, set the environment variable NO_ALBUMENTATIONS_UPDATE to 1.\n",
            "  check_for_updates()\n",
            "\u001b[34m\u001b[1mval: \u001b[0mScanning /content/val/labels... 180 images, 0 backgrounds, 0 corrupt: 100%|██████████| 180/180 [00:00<00:00, 1470.56it/s]"
          ]
        },
        {
          "name": "stdout",
          "output_type": "stream",
          "text": [
            "\u001b[34m\u001b[1mval: \u001b[0mNew cache created: /content/val/labels.cache\n"
          ]
        },
        {
          "name": "stderr",
          "output_type": "stream",
          "text": [
            "\n"
          ]
        },
        {
          "name": "stdout",
          "output_type": "stream",
          "text": [
            "Plotting labels to /content/yolo_training/license_plate_model/labels.jpg... \n",
            "\u001b[34m\u001b[1moptimizer:\u001b[0m 'optimizer=auto' found, ignoring 'lr0=0.01' and 'momentum=0.937' and determining best 'optimizer', 'lr0' and 'momentum' automatically... \n",
            "\u001b[34m\u001b[1moptimizer:\u001b[0m AdamW(lr=0.002, momentum=0.9) with parameter groups 57 weight(decay=0.0), 64 weight(decay=0.0005), 63 bias(decay=0.0)\n",
            "\u001b[34m\u001b[1mTensorBoard: \u001b[0mmodel graph visualization added ✅\n",
            "Image sizes 640 train, 640 val\n",
            "Using 2 dataloader workers\n",
            "Logging results to \u001b[1m/content/yolo_training/license_plate_model\u001b[0m\n",
            "Starting training for 50 epochs...\n",
            "\n",
            "      Epoch    GPU_mem   box_loss   cls_loss   dfl_loss  Instances       Size\n"
          ]
        },
        {
          "name": "stderr",
          "output_type": "stream",
          "text": [
            "       1/50      2.19G      4.465      5.557      4.196         34        640: 100%|██████████| 45/45 [00:17<00:00,  2.61it/s]\n",
            "                 Class     Images  Instances      Box(P          R      mAP50  mAP50-95): 100%|██████████| 6/6 [00:02<00:00,  2.03it/s]"
          ]
        },
        {
          "name": "stdout",
          "output_type": "stream",
          "text": [
            "                   all        180        180   2.02e-05    0.00556   1.05e-05   4.19e-06\n"
          ]
        },
        {
          "name": "stderr",
          "output_type": "stream",
          "text": [
            "\n"
          ]
        },
        {
          "name": "stdout",
          "output_type": "stream",
          "text": [
            "\n",
            "      Epoch    GPU_mem   box_loss   cls_loss   dfl_loss  Instances       Size\n"
          ]
        },
        {
          "name": "stderr",
          "output_type": "stream",
          "text": [
            "       2/50      2.14G      3.211      3.165      3.126         24        640: 100%|██████████| 45/45 [00:15<00:00,  2.91it/s]\n",
            "                 Class     Images  Instances      Box(P          R      mAP50  mAP50-95): 100%|██████████| 6/6 [00:01<00:00,  3.88it/s]\n"
          ]
        },
        {
          "name": "stdout",
          "output_type": "stream",
          "text": [
            "                   all        180        180   5.16e-05     0.0111   2.75e-05   4.08e-06\n",
            "\n",
            "      Epoch    GPU_mem   box_loss   cls_loss   dfl_loss  Instances       Size\n"
          ]
        },
        {
          "name": "stderr",
          "output_type": "stream",
          "text": [
            "       3/50      2.14G      2.647      2.565      2.674         26        640: 100%|██████████| 45/45 [00:15<00:00,  2.93it/s]\n",
            "                 Class     Images  Instances      Box(P          R      mAP50  mAP50-95): 100%|██████████| 6/6 [00:01<00:00,  3.48it/s]"
          ]
        },
        {
          "name": "stdout",
          "output_type": "stream",
          "text": [
            "                   all        180        180      0.203      0.139       0.12     0.0508\n"
          ]
        },
        {
          "name": "stderr",
          "output_type": "stream",
          "text": [
            "\n"
          ]
        },
        {
          "name": "stdout",
          "output_type": "stream",
          "text": [
            "\n",
            "      Epoch    GPU_mem   box_loss   cls_loss   dfl_loss  Instances       Size\n"
          ]
        },
        {
          "name": "stderr",
          "output_type": "stream",
          "text": [
            "       4/50      2.14G      2.324      2.084      2.428         27        640: 100%|██████████| 45/45 [00:15<00:00,  2.92it/s]\n",
            "                 Class     Images  Instances      Box(P          R      mAP50  mAP50-95): 100%|██████████| 6/6 [00:01<00:00,  4.00it/s]"
          ]
        },
        {
          "name": "stdout",
          "output_type": "stream",
          "text": [
            "                   all        180        180      0.425      0.156      0.255      0.113\n"
          ]
        },
        {
          "name": "stderr",
          "output_type": "stream",
          "text": [
            "\n"
          ]
        },
        {
          "name": "stdout",
          "output_type": "stream",
          "text": [
            "\n",
            "      Epoch    GPU_mem   box_loss   cls_loss   dfl_loss  Instances       Size\n"
          ]
        },
        {
          "name": "stderr",
          "output_type": "stream",
          "text": [
            "       5/50      2.14G      1.949      1.678      2.125         26        640: 100%|██████████| 45/45 [00:15<00:00,  2.99it/s]\n",
            "                 Class     Images  Instances      Box(P          R      mAP50  mAP50-95): 100%|██████████| 6/6 [00:01<00:00,  4.09it/s]"
          ]
        },
        {
          "name": "stdout",
          "output_type": "stream",
          "text": [
            "                   all        180        180      0.728      0.745      0.713      0.369\n"
          ]
        },
        {
          "name": "stderr",
          "output_type": "stream",
          "text": [
            "\n"
          ]
        },
        {
          "name": "stdout",
          "output_type": "stream",
          "text": [
            "\n",
            "      Epoch    GPU_mem   box_loss   cls_loss   dfl_loss  Instances       Size\n"
          ]
        },
        {
          "name": "stderr",
          "output_type": "stream",
          "text": [
            "       6/50      2.14G      1.872      1.489      2.006         27        640: 100%|██████████| 45/45 [00:14<00:00,  3.09it/s]\n",
            "                 Class     Images  Instances      Box(P          R      mAP50  mAP50-95): 100%|██████████| 6/6 [00:02<00:00,  2.87it/s]"
          ]
        },
        {
          "name": "stdout",
          "output_type": "stream",
          "text": [
            "                   all        180        180      0.823      0.728      0.806      0.318\n"
          ]
        },
        {
          "name": "stderr",
          "output_type": "stream",
          "text": [
            "\n"
          ]
        },
        {
          "name": "stdout",
          "output_type": "stream",
          "text": [
            "\n",
            "      Epoch    GPU_mem   box_loss   cls_loss   dfl_loss  Instances       Size\n"
          ]
        },
        {
          "name": "stderr",
          "output_type": "stream",
          "text": [
            "       7/50      2.14G      1.771      1.331      1.885         32        640: 100%|██████████| 45/45 [00:13<00:00,  3.25it/s]\n",
            "                 Class     Images  Instances      Box(P          R      mAP50  mAP50-95): 100%|██████████| 6/6 [00:03<00:00,  1.93it/s]"
          ]
        },
        {
          "name": "stdout",
          "output_type": "stream",
          "text": [
            "                   all        180        180      0.751      0.672      0.786      0.348\n"
          ]
        },
        {
          "name": "stderr",
          "output_type": "stream",
          "text": [
            "\n"
          ]
        },
        {
          "name": "stdout",
          "output_type": "stream",
          "text": [
            "\n",
            "      Epoch    GPU_mem   box_loss   cls_loss   dfl_loss  Instances       Size\n"
          ]
        },
        {
          "name": "stderr",
          "output_type": "stream",
          "text": [
            "       8/50      2.14G      1.643      1.221      1.808         28        640: 100%|██████████| 45/45 [00:13<00:00,  3.41it/s]\n",
            "                 Class     Images  Instances      Box(P          R      mAP50  mAP50-95): 100%|██████████| 6/6 [00:02<00:00,  2.19it/s]"
          ]
        },
        {
          "name": "stdout",
          "output_type": "stream",
          "text": [
            "                   all        180        180      0.968       0.85      0.932      0.521\n"
          ]
        },
        {
          "name": "stderr",
          "output_type": "stream",
          "text": [
            "\n"
          ]
        },
        {
          "name": "stdout",
          "output_type": "stream",
          "text": [
            "\n",
            "      Epoch    GPU_mem   box_loss   cls_loss   dfl_loss  Instances       Size\n"
          ]
        },
        {
          "name": "stderr",
          "output_type": "stream",
          "text": [
            "       9/50      2.14G      1.601      1.101      1.721         25        640: 100%|██████████| 45/45 [00:12<00:00,  3.61it/s]\n",
            "                 Class     Images  Instances      Box(P          R      mAP50  mAP50-95): 100%|██████████| 6/6 [00:02<00:00,  2.39it/s]"
          ]
        },
        {
          "name": "stdout",
          "output_type": "stream",
          "text": [
            "                   all        180        180      0.904      0.833      0.935      0.576\n"
          ]
        },
        {
          "name": "stderr",
          "output_type": "stream",
          "text": [
            "\n"
          ]
        },
        {
          "name": "stdout",
          "output_type": "stream",
          "text": [
            "\n",
            "      Epoch    GPU_mem   box_loss   cls_loss   dfl_loss  Instances       Size\n"
          ]
        },
        {
          "name": "stderr",
          "output_type": "stream",
          "text": [
            "      10/50      2.14G      1.533      1.096      1.641         29        640: 100%|██████████| 45/45 [00:12<00:00,  3.50it/s]\n",
            "                 Class     Images  Instances      Box(P          R      mAP50  mAP50-95): 100%|██████████| 6/6 [00:02<00:00,  2.24it/s]"
          ]
        },
        {
          "name": "stdout",
          "output_type": "stream",
          "text": [
            "                   all        180        180      0.946      0.878      0.949       0.57\n"
          ]
        },
        {
          "name": "stderr",
          "output_type": "stream",
          "text": [
            "\n"
          ]
        },
        {
          "name": "stdout",
          "output_type": "stream",
          "text": [
            "\n",
            "      Epoch    GPU_mem   box_loss   cls_loss   dfl_loss  Instances       Size\n"
          ]
        },
        {
          "name": "stderr",
          "output_type": "stream",
          "text": [
            "      11/50      2.13G      1.586      1.071      1.666         27        640: 100%|██████████| 45/45 [00:13<00:00,  3.39it/s]\n",
            "                 Class     Images  Instances      Box(P          R      mAP50  mAP50-95): 100%|██████████| 6/6 [00:02<00:00,  2.79it/s]"
          ]
        },
        {
          "name": "stdout",
          "output_type": "stream",
          "text": [
            "                   all        180        180      0.894      0.894      0.945      0.552\n"
          ]
        },
        {
          "name": "stderr",
          "output_type": "stream",
          "text": [
            "\n"
          ]
        },
        {
          "name": "stdout",
          "output_type": "stream",
          "text": [
            "\n",
            "      Epoch    GPU_mem   box_loss   cls_loss   dfl_loss  Instances       Size\n"
          ]
        },
        {
          "name": "stderr",
          "output_type": "stream",
          "text": [
            "      12/50      2.13G      1.554      1.027      1.653         32        640: 100%|██████████| 45/45 [00:15<00:00,  2.99it/s]\n",
            "                 Class     Images  Instances      Box(P          R      mAP50  mAP50-95): 100%|██████████| 6/6 [00:01<00:00,  3.51it/s]"
          ]
        },
        {
          "name": "stdout",
          "output_type": "stream",
          "text": [
            "                   all        180        180      0.864       0.92      0.957      0.539\n"
          ]
        },
        {
          "name": "stderr",
          "output_type": "stream",
          "text": [
            "\n"
          ]
        },
        {
          "name": "stdout",
          "output_type": "stream",
          "text": [
            "\n",
            "      Epoch    GPU_mem   box_loss   cls_loss   dfl_loss  Instances       Size\n"
          ]
        },
        {
          "name": "stderr",
          "output_type": "stream",
          "text": [
            "      13/50      2.13G      1.509     0.9668        1.6         32        640: 100%|██████████| 45/45 [00:14<00:00,  3.01it/s]\n",
            "                 Class     Images  Instances      Box(P          R      mAP50  mAP50-95): 100%|██████████| 6/6 [00:01<00:00,  3.68it/s]"
          ]
        },
        {
          "name": "stdout",
          "output_type": "stream",
          "text": [
            "                   all        180        180      0.855      0.853      0.912      0.475\n"
          ]
        },
        {
          "name": "stderr",
          "output_type": "stream",
          "text": [
            "\n"
          ]
        },
        {
          "name": "stdout",
          "output_type": "stream",
          "text": [
            "\n",
            "      Epoch    GPU_mem   box_loss   cls_loss   dfl_loss  Instances       Size\n"
          ]
        },
        {
          "name": "stderr",
          "output_type": "stream",
          "text": [
            "      14/50      2.14G      1.454     0.9175      1.552         24        640: 100%|██████████| 45/45 [00:15<00:00,  2.87it/s]\n",
            "                 Class     Images  Instances      Box(P          R      mAP50  mAP50-95): 100%|██████████| 6/6 [00:01<00:00,  3.71it/s]\n"
          ]
        },
        {
          "name": "stdout",
          "output_type": "stream",
          "text": [
            "                   all        180        180      0.731      0.813      0.843      0.492\n",
            "\n",
            "      Epoch    GPU_mem   box_loss   cls_loss   dfl_loss  Instances       Size\n"
          ]
        },
        {
          "name": "stderr",
          "output_type": "stream",
          "text": [
            "      15/50      2.14G      1.423     0.8856       1.51         30        640: 100%|██████████| 45/45 [00:15<00:00,  2.93it/s]\n",
            "                 Class     Images  Instances      Box(P          R      mAP50  mAP50-95): 100%|██████████| 6/6 [00:01<00:00,  3.64it/s]"
          ]
        },
        {
          "name": "stdout",
          "output_type": "stream",
          "text": [
            "                   all        180        180      0.923      0.889      0.945      0.575\n"
          ]
        },
        {
          "name": "stderr",
          "output_type": "stream",
          "text": [
            "\n"
          ]
        },
        {
          "name": "stdout",
          "output_type": "stream",
          "text": [
            "\n",
            "      Epoch    GPU_mem   box_loss   cls_loss   dfl_loss  Instances       Size\n"
          ]
        },
        {
          "name": "stderr",
          "output_type": "stream",
          "text": [
            "      16/50      2.13G      1.375     0.8774      1.511         29        640: 100%|██████████| 45/45 [00:15<00:00,  2.99it/s]\n",
            "                 Class     Images  Instances      Box(P          R      mAP50  mAP50-95): 100%|██████████| 6/6 [00:01<00:00,  3.86it/s]"
          ]
        },
        {
          "name": "stdout",
          "output_type": "stream",
          "text": [
            "                   all        180        180      0.963      0.863      0.974       0.57\n"
          ]
        },
        {
          "name": "stderr",
          "output_type": "stream",
          "text": [
            "\n"
          ]
        },
        {
          "name": "stdout",
          "output_type": "stream",
          "text": [
            "\n",
            "      Epoch    GPU_mem   box_loss   cls_loss   dfl_loss  Instances       Size\n"
          ]
        },
        {
          "name": "stderr",
          "output_type": "stream",
          "text": [
            "      17/50      2.14G      1.382     0.8603      1.507         30        640: 100%|██████████| 45/45 [00:15<00:00,  2.96it/s]\n",
            "                 Class     Images  Instances      Box(P          R      mAP50  mAP50-95): 100%|██████████| 6/6 [00:01<00:00,  3.61it/s]"
          ]
        },
        {
          "name": "stdout",
          "output_type": "stream",
          "text": [
            "                   all        180        180      0.955      0.946      0.984      0.623\n"
          ]
        },
        {
          "name": "stderr",
          "output_type": "stream",
          "text": [
            "\n"
          ]
        },
        {
          "name": "stdout",
          "output_type": "stream",
          "text": [
            "\n",
            "      Epoch    GPU_mem   box_loss   cls_loss   dfl_loss  Instances       Size\n"
          ]
        },
        {
          "name": "stderr",
          "output_type": "stream",
          "text": [
            "      18/50      2.14G      1.389     0.8504      1.505         20        640: 100%|██████████| 45/45 [00:15<00:00,  2.87it/s]\n",
            "                 Class     Images  Instances      Box(P          R      mAP50  mAP50-95): 100%|██████████| 6/6 [00:01<00:00,  3.88it/s]"
          ]
        },
        {
          "name": "stdout",
          "output_type": "stream",
          "text": [
            "                   all        180        180      0.959      0.933       0.98      0.614\n"
          ]
        },
        {
          "name": "stderr",
          "output_type": "stream",
          "text": [
            "\n"
          ]
        },
        {
          "name": "stdout",
          "output_type": "stream",
          "text": [
            "\n",
            "      Epoch    GPU_mem   box_loss   cls_loss   dfl_loss  Instances       Size\n"
          ]
        },
        {
          "name": "stderr",
          "output_type": "stream",
          "text": [
            "      19/50      2.14G      1.376     0.8084      1.462         22        640: 100%|██████████| 45/45 [00:15<00:00,  2.83it/s]\n",
            "                 Class     Images  Instances      Box(P          R      mAP50  mAP50-95): 100%|██████████| 6/6 [00:01<00:00,  3.98it/s]"
          ]
        },
        {
          "name": "stdout",
          "output_type": "stream",
          "text": [
            "                   all        180        180      0.977      0.935      0.982      0.637\n"
          ]
        },
        {
          "name": "stderr",
          "output_type": "stream",
          "text": [
            "\n"
          ]
        },
        {
          "name": "stdout",
          "output_type": "stream",
          "text": [
            "\n",
            "      Epoch    GPU_mem   box_loss   cls_loss   dfl_loss  Instances       Size\n"
          ]
        },
        {
          "name": "stderr",
          "output_type": "stream",
          "text": [
            "      20/50      2.14G      1.359     0.8036      1.443         40        640: 100%|██████████| 45/45 [00:15<00:00,  2.89it/s]\n",
            "                 Class     Images  Instances      Box(P          R      mAP50  mAP50-95): 100%|██████████| 6/6 [00:01<00:00,  3.76it/s]"
          ]
        },
        {
          "name": "stdout",
          "output_type": "stream",
          "text": [
            "                   all        180        180      0.966      0.934      0.985      0.619\n"
          ]
        },
        {
          "name": "stderr",
          "output_type": "stream",
          "text": [
            "\n"
          ]
        },
        {
          "name": "stdout",
          "output_type": "stream",
          "text": [
            "\n",
            "      Epoch    GPU_mem   box_loss   cls_loss   dfl_loss  Instances       Size\n"
          ]
        },
        {
          "name": "stderr",
          "output_type": "stream",
          "text": [
            "      21/50      2.14G      1.294     0.7602      1.395         26        640: 100%|██████████| 45/45 [00:15<00:00,  2.93it/s]\n",
            "                 Class     Images  Instances      Box(P          R      mAP50  mAP50-95): 100%|██████████| 6/6 [00:01<00:00,  3.06it/s]"
          ]
        },
        {
          "name": "stdout",
          "output_type": "stream",
          "text": [
            "                   all        180        180      0.919       0.95      0.979      0.641\n"
          ]
        },
        {
          "name": "stderr",
          "output_type": "stream",
          "text": [
            "\n"
          ]
        },
        {
          "name": "stdout",
          "output_type": "stream",
          "text": [
            "\n",
            "      Epoch    GPU_mem   box_loss   cls_loss   dfl_loss  Instances       Size\n"
          ]
        },
        {
          "name": "stderr",
          "output_type": "stream",
          "text": [
            "      22/50      2.14G      1.275     0.7444      1.367         38        640: 100%|██████████| 45/45 [00:14<00:00,  3.07it/s]\n",
            "                 Class     Images  Instances      Box(P          R      mAP50  mAP50-95): 100%|██████████| 6/6 [00:02<00:00,  2.31it/s]"
          ]
        },
        {
          "name": "stdout",
          "output_type": "stream",
          "text": [
            "                   all        180        180      0.985      0.939      0.986      0.649\n"
          ]
        },
        {
          "name": "stderr",
          "output_type": "stream",
          "text": [
            "\n"
          ]
        },
        {
          "name": "stdout",
          "output_type": "stream",
          "text": [
            "\n",
            "      Epoch    GPU_mem   box_loss   cls_loss   dfl_loss  Instances       Size\n"
          ]
        },
        {
          "name": "stderr",
          "output_type": "stream",
          "text": [
            "      23/50      2.14G      1.303     0.7666      1.409         37        640: 100%|██████████| 45/45 [00:14<00:00,  3.17it/s]\n",
            "                 Class     Images  Instances      Box(P          R      mAP50  mAP50-95): 100%|██████████| 6/6 [00:02<00:00,  2.07it/s]"
          ]
        },
        {
          "name": "stdout",
          "output_type": "stream",
          "text": [
            "                   all        180        180      0.983      0.956      0.989       0.68\n"
          ]
        },
        {
          "name": "stderr",
          "output_type": "stream",
          "text": [
            "\n"
          ]
        },
        {
          "name": "stdout",
          "output_type": "stream",
          "text": [
            "\n",
            "      Epoch    GPU_mem   box_loss   cls_loss   dfl_loss  Instances       Size\n"
          ]
        },
        {
          "name": "stderr",
          "output_type": "stream",
          "text": [
            "      24/50      2.14G      1.299     0.7458      1.365         27        640: 100%|██████████| 45/45 [00:13<00:00,  3.36it/s]\n",
            "                 Class     Images  Instances      Box(P          R      mAP50  mAP50-95): 100%|██████████| 6/6 [00:04<00:00,  1.46it/s]"
          ]
        },
        {
          "name": "stdout",
          "output_type": "stream",
          "text": [
            "                   all        180        180      0.986      0.978       0.99      0.662\n"
          ]
        },
        {
          "name": "stderr",
          "output_type": "stream",
          "text": [
            "\n"
          ]
        },
        {
          "name": "stdout",
          "output_type": "stream",
          "text": [
            "\n",
            "      Epoch    GPU_mem   box_loss   cls_loss   dfl_loss  Instances       Size\n"
          ]
        },
        {
          "name": "stderr",
          "output_type": "stream",
          "text": [
            "      25/50      2.14G      1.246     0.7261      1.369         24        640: 100%|██████████| 45/45 [00:14<00:00,  3.15it/s]\n",
            "                 Class     Images  Instances      Box(P          R      mAP50  mAP50-95): 100%|██████████| 6/6 [00:03<00:00,  1.92it/s]"
          ]
        },
        {
          "name": "stdout",
          "output_type": "stream",
          "text": [
            "                   all        180        180      0.981      0.956      0.991      0.696\n"
          ]
        },
        {
          "name": "stderr",
          "output_type": "stream",
          "text": [
            "\n"
          ]
        },
        {
          "name": "stdout",
          "output_type": "stream",
          "text": [
            "\n",
            "      Epoch    GPU_mem   box_loss   cls_loss   dfl_loss  Instances       Size\n"
          ]
        },
        {
          "name": "stderr",
          "output_type": "stream",
          "text": [
            "      26/50      2.14G      1.198     0.7049      1.344         20        640: 100%|██████████| 45/45 [00:13<00:00,  3.41it/s]\n",
            "                 Class     Images  Instances      Box(P          R      mAP50  mAP50-95): 100%|██████████| 6/6 [00:02<00:00,  2.33it/s]"
          ]
        },
        {
          "name": "stdout",
          "output_type": "stream",
          "text": [
            "                   all        180        180      0.977      0.955      0.991      0.667\n"
          ]
        },
        {
          "name": "stderr",
          "output_type": "stream",
          "text": [
            "\n"
          ]
        },
        {
          "name": "stdout",
          "output_type": "stream",
          "text": [
            "\n",
            "      Epoch    GPU_mem   box_loss   cls_loss   dfl_loss  Instances       Size\n"
          ]
        },
        {
          "name": "stderr",
          "output_type": "stream",
          "text": [
            "      27/50      2.14G      1.218     0.7187      1.329         28        640: 100%|██████████| 45/45 [00:12<00:00,  3.53it/s]\n",
            "                 Class     Images  Instances      Box(P          R      mAP50  mAP50-95): 100%|██████████| 6/6 [00:02<00:00,  2.28it/s]"
          ]
        },
        {
          "name": "stdout",
          "output_type": "stream",
          "text": [
            "                   all        180        180      0.977      0.961      0.991       0.65\n"
          ]
        },
        {
          "name": "stderr",
          "output_type": "stream",
          "text": [
            "\n"
          ]
        },
        {
          "name": "stdout",
          "output_type": "stream",
          "text": [
            "\n",
            "      Epoch    GPU_mem   box_loss   cls_loss   dfl_loss  Instances       Size\n"
          ]
        },
        {
          "name": "stderr",
          "output_type": "stream",
          "text": [
            "      28/50      2.14G       1.22     0.7099      1.332         25        640: 100%|██████████| 45/45 [00:12<00:00,  3.46it/s]\n",
            "                 Class     Images  Instances      Box(P          R      mAP50  mAP50-95): 100%|██████████| 6/6 [00:02<00:00,  2.34it/s]"
          ]
        },
        {
          "name": "stdout",
          "output_type": "stream",
          "text": [
            "                   all        180        180      0.955      0.942      0.985      0.649\n"
          ]
        },
        {
          "name": "stderr",
          "output_type": "stream",
          "text": [
            "\n"
          ]
        },
        {
          "name": "stdout",
          "output_type": "stream",
          "text": [
            "\n",
            "      Epoch    GPU_mem   box_loss   cls_loss   dfl_loss  Instances       Size\n"
          ]
        },
        {
          "name": "stderr",
          "output_type": "stream",
          "text": [
            "      29/50      2.14G      1.235     0.7036      1.347         27        640: 100%|██████████| 45/45 [00:13<00:00,  3.36it/s]\n",
            "                 Class     Images  Instances      Box(P          R      mAP50  mAP50-95): 100%|██████████| 6/6 [00:02<00:00,  2.48it/s]"
          ]
        },
        {
          "name": "stdout",
          "output_type": "stream",
          "text": [
            "                   all        180        180      0.991      0.956      0.991      0.617\n"
          ]
        },
        {
          "name": "stderr",
          "output_type": "stream",
          "text": [
            "\n"
          ]
        },
        {
          "name": "stdout",
          "output_type": "stream",
          "text": [
            "\n",
            "      Epoch    GPU_mem   box_loss   cls_loss   dfl_loss  Instances       Size\n"
          ]
        },
        {
          "name": "stderr",
          "output_type": "stream",
          "text": [
            "      30/50      2.14G      1.219     0.6925      1.329         32        640: 100%|██████████| 45/45 [00:14<00:00,  3.16it/s]\n",
            "                 Class     Images  Instances      Box(P          R      mAP50  mAP50-95): 100%|██████████| 6/6 [00:01<00:00,  3.73it/s]"
          ]
        },
        {
          "name": "stdout",
          "output_type": "stream",
          "text": [
            "                   all        180        180      0.989      0.971       0.99      0.689\n"
          ]
        },
        {
          "name": "stderr",
          "output_type": "stream",
          "text": [
            "\n"
          ]
        },
        {
          "name": "stdout",
          "output_type": "stream",
          "text": [
            "\n",
            "      Epoch    GPU_mem   box_loss   cls_loss   dfl_loss  Instances       Size\n"
          ]
        },
        {
          "name": "stderr",
          "output_type": "stream",
          "text": [
            "      31/50      2.14G      1.209     0.6883      1.325         36        640: 100%|██████████| 45/45 [00:14<00:00,  3.07it/s]\n",
            "                 Class     Images  Instances      Box(P          R      mAP50  mAP50-95): 100%|██████████| 6/6 [00:01<00:00,  3.98it/s]"
          ]
        },
        {
          "name": "stdout",
          "output_type": "stream",
          "text": [
            "                   all        180        180      0.983      0.961      0.989      0.709\n"
          ]
        },
        {
          "name": "stderr",
          "output_type": "stream",
          "text": [
            "\n"
          ]
        },
        {
          "name": "stdout",
          "output_type": "stream",
          "text": [
            "\n",
            "      Epoch    GPU_mem   box_loss   cls_loss   dfl_loss  Instances       Size\n"
          ]
        },
        {
          "name": "stderr",
          "output_type": "stream",
          "text": [
            "      32/50      2.13G      1.155     0.6587      1.284         27        640: 100%|██████████| 45/45 [00:15<00:00,  2.94it/s]\n",
            "                 Class     Images  Instances      Box(P          R      mAP50  mAP50-95): 100%|██████████| 6/6 [00:01<00:00,  4.03it/s]"
          ]
        },
        {
          "name": "stdout",
          "output_type": "stream",
          "text": [
            "                   all        180        180      0.983      0.972      0.992      0.681\n"
          ]
        },
        {
          "name": "stderr",
          "output_type": "stream",
          "text": [
            "\n"
          ]
        },
        {
          "name": "stdout",
          "output_type": "stream",
          "text": [
            "\n",
            "      Epoch    GPU_mem   box_loss   cls_loss   dfl_loss  Instances       Size\n"
          ]
        },
        {
          "name": "stderr",
          "output_type": "stream",
          "text": [
            "      33/50      2.14G      1.193     0.6521       1.29         36        640: 100%|██████████| 45/45 [00:15<00:00,  2.95it/s]\n",
            "                 Class     Images  Instances      Box(P          R      mAP50  mAP50-95): 100%|██████████| 6/6 [00:01<00:00,  3.99it/s]"
          ]
        },
        {
          "name": "stdout",
          "output_type": "stream",
          "text": [
            "                   all        180        180      0.983      0.971      0.991      0.697\n"
          ]
        },
        {
          "name": "stderr",
          "output_type": "stream",
          "text": [
            "\n"
          ]
        },
        {
          "name": "stdout",
          "output_type": "stream",
          "text": [
            "\n",
            "      Epoch    GPU_mem   box_loss   cls_loss   dfl_loss  Instances       Size\n"
          ]
        },
        {
          "name": "stderr",
          "output_type": "stream",
          "text": [
            "      34/50      2.14G      1.174     0.6507       1.27         26        640: 100%|██████████| 45/45 [00:15<00:00,  2.91it/s]\n",
            "                 Class     Images  Instances      Box(P          R      mAP50  mAP50-95): 100%|██████████| 6/6 [00:01<00:00,  3.83it/s]"
          ]
        },
        {
          "name": "stdout",
          "output_type": "stream",
          "text": [
            "                   all        180        180      0.972      0.952      0.989      0.698\n"
          ]
        },
        {
          "name": "stderr",
          "output_type": "stream",
          "text": [
            "\n"
          ]
        },
        {
          "name": "stdout",
          "output_type": "stream",
          "text": [
            "\n",
            "      Epoch    GPU_mem   box_loss   cls_loss   dfl_loss  Instances       Size\n"
          ]
        },
        {
          "name": "stderr",
          "output_type": "stream",
          "text": [
            "      35/50      2.14G      1.152     0.6306      1.247         34        640: 100%|██████████| 45/45 [00:15<00:00,  2.90it/s]\n",
            "                 Class     Images  Instances      Box(P          R      mAP50  mAP50-95): 100%|██████████| 6/6 [00:01<00:00,  3.69it/s]\n"
          ]
        },
        {
          "name": "stdout",
          "output_type": "stream",
          "text": [
            "                   all        180        180      0.973      0.967      0.993      0.696\n",
            "\n",
            "      Epoch    GPU_mem   box_loss   cls_loss   dfl_loss  Instances       Size\n"
          ]
        },
        {
          "name": "stderr",
          "output_type": "stream",
          "text": [
            "      36/50      2.14G      1.108     0.6261      1.257         31        640: 100%|██████████| 45/45 [00:15<00:00,  2.91it/s]\n",
            "                 Class     Images  Instances      Box(P          R      mAP50  mAP50-95): 100%|██████████| 6/6 [00:01<00:00,  3.76it/s]"
          ]
        },
        {
          "name": "stdout",
          "output_type": "stream",
          "text": [
            "                   all        180        180      0.989      0.976      0.993      0.683\n"
          ]
        },
        {
          "name": "stderr",
          "output_type": "stream",
          "text": [
            "\n"
          ]
        },
        {
          "name": "stdout",
          "output_type": "stream",
          "text": [
            "\n",
            "      Epoch    GPU_mem   box_loss   cls_loss   dfl_loss  Instances       Size\n"
          ]
        },
        {
          "name": "stderr",
          "output_type": "stream",
          "text": [
            "      37/50      2.14G      1.156     0.6337      1.275         27        640: 100%|██████████| 45/45 [00:14<00:00,  3.09it/s]\n",
            "                 Class     Images  Instances      Box(P          R      mAP50  mAP50-95): 100%|██████████| 6/6 [00:01<00:00,  3.52it/s]"
          ]
        },
        {
          "name": "stdout",
          "output_type": "stream",
          "text": [
            "                   all        180        180      0.989      0.967      0.993      0.688\n"
          ]
        },
        {
          "name": "stderr",
          "output_type": "stream",
          "text": [
            "\n"
          ]
        },
        {
          "name": "stdout",
          "output_type": "stream",
          "text": [
            "\n",
            "      Epoch    GPU_mem   box_loss   cls_loss   dfl_loss  Instances       Size\n"
          ]
        },
        {
          "name": "stderr",
          "output_type": "stream",
          "text": [
            "      38/50      2.14G      1.161     0.6193      1.273         24        640: 100%|██████████| 45/45 [00:15<00:00,  2.91it/s]\n",
            "                 Class     Images  Instances      Box(P          R      mAP50  mAP50-95): 100%|██████████| 6/6 [00:01<00:00,  3.54it/s]"
          ]
        },
        {
          "name": "stdout",
          "output_type": "stream",
          "text": [
            "                   all        180        180      0.978      0.981      0.993        0.7\n"
          ]
        },
        {
          "name": "stderr",
          "output_type": "stream",
          "text": [
            "\n"
          ]
        },
        {
          "name": "stdout",
          "output_type": "stream",
          "text": [
            "\n",
            "      Epoch    GPU_mem   box_loss   cls_loss   dfl_loss  Instances       Size\n"
          ]
        },
        {
          "name": "stderr",
          "output_type": "stream",
          "text": [
            "      39/50      2.14G      1.132     0.5911      1.229         31        640: 100%|██████████| 45/45 [00:13<00:00,  3.27it/s]\n",
            "                 Class     Images  Instances      Box(P          R      mAP50  mAP50-95): 100%|██████████| 6/6 [00:02<00:00,  2.30it/s]"
          ]
        },
        {
          "name": "stdout",
          "output_type": "stream",
          "text": [
            "                   all        180        180      0.987      0.989      0.992      0.716\n"
          ]
        },
        {
          "name": "stderr",
          "output_type": "stream",
          "text": [
            "\n"
          ]
        },
        {
          "name": "stdout",
          "output_type": "stream",
          "text": [
            "\n",
            "      Epoch    GPU_mem   box_loss   cls_loss   dfl_loss  Instances       Size\n"
          ]
        },
        {
          "name": "stderr",
          "output_type": "stream",
          "text": [
            "      40/50      2.14G       1.09     0.5943      1.215         22        640: 100%|██████████| 45/45 [00:13<00:00,  3.23it/s]\n",
            "                 Class     Images  Instances      Box(P          R      mAP50  mAP50-95): 100%|██████████| 6/6 [00:02<00:00,  2.67it/s]"
          ]
        },
        {
          "name": "stdout",
          "output_type": "stream",
          "text": [
            "                   all        180        180      0.982      0.989      0.993      0.722\n"
          ]
        },
        {
          "name": "stderr",
          "output_type": "stream",
          "text": [
            "\n"
          ]
        },
        {
          "name": "stdout",
          "output_type": "stream",
          "text": [
            "Closing dataloader mosaic\n",
            "\u001b[34m\u001b[1malbumentations: \u001b[0mBlur(p=0.01, blur_limit=(3, 7)), MedianBlur(p=0.01, blur_limit=(3, 7)), ToGray(p=0.01, num_output_channels=3, method='weighted_average'), CLAHE(p=0.01, clip_limit=(1.0, 4.0), tile_grid_size=(8, 8))\n",
            "\n",
            "      Epoch    GPU_mem   box_loss   cls_loss   dfl_loss  Instances       Size\n"
          ]
        },
        {
          "name": "stderr",
          "output_type": "stream",
          "text": [
            "      41/50      2.14G      1.021     0.5691      1.244         16        640: 100%|██████████| 45/45 [00:15<00:00,  2.88it/s]\n",
            "                 Class     Images  Instances      Box(P          R      mAP50  mAP50-95): 100%|██████████| 6/6 [00:02<00:00,  2.90it/s]"
          ]
        },
        {
          "name": "stdout",
          "output_type": "stream",
          "text": [
            "                   all        180        180      0.985      0.972      0.991      0.722\n"
          ]
        },
        {
          "name": "stderr",
          "output_type": "stream",
          "text": [
            "\n"
          ]
        },
        {
          "name": "stdout",
          "output_type": "stream",
          "text": [
            "\n",
            "      Epoch    GPU_mem   box_loss   cls_loss   dfl_loss  Instances       Size\n"
          ]
        },
        {
          "name": "stderr",
          "output_type": "stream",
          "text": [
            "      42/50      2.14G      1.016     0.5542      1.236         16        640: 100%|██████████| 45/45 [00:12<00:00,  3.52it/s]\n",
            "                 Class     Images  Instances      Box(P          R      mAP50  mAP50-95): 100%|██████████| 6/6 [00:03<00:00,  1.88it/s]"
          ]
        },
        {
          "name": "stdout",
          "output_type": "stream",
          "text": [
            "                   all        180        180      0.983      0.978      0.992      0.722\n"
          ]
        },
        {
          "name": "stderr",
          "output_type": "stream",
          "text": [
            "\n"
          ]
        },
        {
          "name": "stdout",
          "output_type": "stream",
          "text": [
            "\n",
            "      Epoch    GPU_mem   box_loss   cls_loss   dfl_loss  Instances       Size\n"
          ]
        },
        {
          "name": "stderr",
          "output_type": "stream",
          "text": [
            "      43/50      2.14G      1.013     0.5487      1.209         16        640: 100%|██████████| 45/45 [00:12<00:00,  3.61it/s]\n",
            "                 Class     Images  Instances      Box(P          R      mAP50  mAP50-95): 100%|██████████| 6/6 [00:02<00:00,  2.12it/s]"
          ]
        },
        {
          "name": "stdout",
          "output_type": "stream",
          "text": [
            "                   all        180        180      0.992      0.978      0.994      0.729\n"
          ]
        },
        {
          "name": "stderr",
          "output_type": "stream",
          "text": [
            "\n"
          ]
        },
        {
          "name": "stdout",
          "output_type": "stream",
          "text": [
            "\n",
            "      Epoch    GPU_mem   box_loss   cls_loss   dfl_loss  Instances       Size\n"
          ]
        },
        {
          "name": "stderr",
          "output_type": "stream",
          "text": [
            "      44/50      2.14G      1.005     0.5378      1.215         16        640: 100%|██████████| 45/45 [00:11<00:00,  3.80it/s]\n",
            "                 Class     Images  Instances      Box(P          R      mAP50  mAP50-95): 100%|██████████| 6/6 [00:02<00:00,  2.27it/s]"
          ]
        },
        {
          "name": "stdout",
          "output_type": "stream",
          "text": [
            "                   all        180        180      0.988      0.983      0.994      0.735\n"
          ]
        },
        {
          "name": "stderr",
          "output_type": "stream",
          "text": [
            "\n"
          ]
        },
        {
          "name": "stdout",
          "output_type": "stream",
          "text": [
            "\n",
            "      Epoch    GPU_mem   box_loss   cls_loss   dfl_loss  Instances       Size\n"
          ]
        },
        {
          "name": "stderr",
          "output_type": "stream",
          "text": [
            "      45/50      2.14G     0.9877     0.5401      1.212         16        640: 100%|██████████| 45/45 [00:12<00:00,  3.49it/s]\n",
            "                 Class     Images  Instances      Box(P          R      mAP50  mAP50-95): 100%|██████████| 6/6 [00:01<00:00,  3.55it/s]"
          ]
        },
        {
          "name": "stdout",
          "output_type": "stream",
          "text": [
            "                   all        180        180      0.984      0.978      0.993      0.734\n"
          ]
        },
        {
          "name": "stderr",
          "output_type": "stream",
          "text": [
            "\n"
          ]
        },
        {
          "name": "stdout",
          "output_type": "stream",
          "text": [
            "\n",
            "      Epoch    GPU_mem   box_loss   cls_loss   dfl_loss  Instances       Size\n"
          ]
        },
        {
          "name": "stderr",
          "output_type": "stream",
          "text": [
            "      46/50      2.14G      1.001      0.523      1.209         16        640: 100%|██████████| 45/45 [00:14<00:00,  3.14it/s]\n",
            "                 Class     Images  Instances      Box(P          R      mAP50  mAP50-95): 100%|██████████| 6/6 [00:01<00:00,  4.12it/s]"
          ]
        },
        {
          "name": "stdout",
          "output_type": "stream",
          "text": [
            "                   all        180        180      0.988      0.989      0.993      0.721\n"
          ]
        },
        {
          "name": "stderr",
          "output_type": "stream",
          "text": [
            "\n"
          ]
        },
        {
          "name": "stdout",
          "output_type": "stream",
          "text": [
            "\n",
            "      Epoch    GPU_mem   box_loss   cls_loss   dfl_loss  Instances       Size\n"
          ]
        },
        {
          "name": "stderr",
          "output_type": "stream",
          "text": [
            "      47/50      2.14G     0.9711      0.522      1.183         16        640: 100%|██████████| 45/45 [00:15<00:00,  2.97it/s]\n",
            "                 Class     Images  Instances      Box(P          R      mAP50  mAP50-95): 100%|██████████| 6/6 [00:01<00:00,  4.28it/s]"
          ]
        },
        {
          "name": "stdout",
          "output_type": "stream",
          "text": [
            "                   all        180        180       0.98      0.983      0.994      0.739\n"
          ]
        },
        {
          "name": "stderr",
          "output_type": "stream",
          "text": [
            "\n"
          ]
        },
        {
          "name": "stdout",
          "output_type": "stream",
          "text": [
            "\n",
            "      Epoch    GPU_mem   box_loss   cls_loss   dfl_loss  Instances       Size\n"
          ]
        },
        {
          "name": "stderr",
          "output_type": "stream",
          "text": [
            "      48/50      2.14G       0.97      0.513      1.184         16        640: 100%|██████████| 45/45 [00:15<00:00,  2.97it/s]\n",
            "                 Class     Images  Instances      Box(P          R      mAP50  mAP50-95): 100%|██████████| 6/6 [00:01<00:00,  3.82it/s]"
          ]
        },
        {
          "name": "stdout",
          "output_type": "stream",
          "text": [
            "                   all        180        180      0.987      0.983      0.994      0.736\n"
          ]
        },
        {
          "name": "stderr",
          "output_type": "stream",
          "text": [
            "\n"
          ]
        },
        {
          "name": "stdout",
          "output_type": "stream",
          "text": [
            "\n",
            "      Epoch    GPU_mem   box_loss   cls_loss   dfl_loss  Instances       Size\n"
          ]
        },
        {
          "name": "stderr",
          "output_type": "stream",
          "text": [
            "      49/50      2.14G     0.9445     0.5036      1.179         16        640: 100%|██████████| 45/45 [00:15<00:00,  2.86it/s]\n",
            "                 Class     Images  Instances      Box(P          R      mAP50  mAP50-95): 100%|██████████| 6/6 [00:01<00:00,  4.14it/s]"
          ]
        },
        {
          "name": "stdout",
          "output_type": "stream",
          "text": [
            "                   all        180        180      0.989      0.987      0.993      0.747\n"
          ]
        },
        {
          "name": "stderr",
          "output_type": "stream",
          "text": [
            "\n"
          ]
        },
        {
          "name": "stdout",
          "output_type": "stream",
          "text": [
            "\n",
            "      Epoch    GPU_mem   box_loss   cls_loss   dfl_loss  Instances       Size\n"
          ]
        },
        {
          "name": "stderr",
          "output_type": "stream",
          "text": [
            "      50/50      2.14G     0.9389     0.4995      1.187         16        640: 100%|██████████| 45/45 [00:14<00:00,  3.06it/s]\n",
            "                 Class     Images  Instances      Box(P          R      mAP50  mAP50-95): 100%|██████████| 6/6 [00:01<00:00,  3.98it/s]"
          ]
        },
        {
          "name": "stdout",
          "output_type": "stream",
          "text": [
            "                   all        180        180      0.985      0.983      0.993      0.743\n"
          ]
        },
        {
          "name": "stderr",
          "output_type": "stream",
          "text": [
            "\n"
          ]
        },
        {
          "name": "stdout",
          "output_type": "stream",
          "text": [
            "\n",
            "50 epochs completed in 0.244 hours.\n",
            "Optimizer stripped from /content/yolo_training/license_plate_model/weights/last.pt, 6.2MB\n",
            "Optimizer stripped from /content/yolo_training/license_plate_model/weights/best.pt, 6.2MB\n",
            "\n",
            "Validating /content/yolo_training/license_plate_model/weights/best.pt...\n",
            "Ultralytics 8.3.58 🚀 Python-3.10.12 torch-2.5.1+cu121 CUDA:0 (Tesla T4, 15102MiB)\n",
            "YOLOv8n summary (fused): 168 layers, 3,005,843 parameters, 0 gradients, 8.1 GFLOPs\n"
          ]
        },
        {
          "name": "stderr",
          "output_type": "stream",
          "text": [
            "                 Class     Images  Instances      Box(P          R      mAP50  mAP50-95): 100%|██████████| 6/6 [00:03<00:00,  1.96it/s]\n"
          ]
        },
        {
          "name": "stdout",
          "output_type": "stream",
          "text": [
            "                   all        180        180      0.981      0.989      0.993      0.744\n",
            "Speed: 0.2ms preprocess, 11.4ms inference, 0.0ms loss, 1.5ms postprocess per image\n",
            "Results saved to \u001b[1m/content/yolo_training/license_plate_model\u001b[0m\n"
          ]
        }
      ],
      "source": [
        "from ultralytics import YOLO\n",
        "\n",
        "# Path to your custom data.yaml file\n",
        "data_yaml_path = '/content/data.yaml'\n",
        "\n",
        "# Load the YOLOv8 model (can be yolov8n, yolov8s, yolov8m, yolov8l, etc. depending on your requirements)\n",
        "model = YOLO('yolov8n.yaml')  # You can try 'yolov8s.yaml' or 'yolov8m.yaml' for better performance\n",
        "\n",
        "# Start training with augmentations enabled and training on GPU\n",
        "results = model.train(\n",
        "    data=data_yaml_path,          # Path to the data.yaml\n",
        "    epochs=50,                    # Number of epochs (adjust based on your needs)\n",
        "    batch=16,                     # Correct parameter name for batch size\n",
        "    imgsz=640,                    # Correct parameter name for image size\n",
        "    project='/content/yolo_training',  # Directory to save the training outputs\n",
        "    name='license_plate_model',   # Subfolder name to store this training run\n",
        "    save=True,                    # Save the model and outputs\n",
        "    exist_ok=True,                # Overwrite existing folder if necessary\n",
        "    device=0,                     # Train on the first GPU (set to 0 for a single GPU)\n",
        "    augment=True                  # Enable data augmentation (this is the default behavior)\n",
        ")\n",
        "\n",
        "# Check training results and save model weights, logs, and metrics\n"
      ]
    },
    {
      "cell_type": "code",
      "execution_count": null,
      "metadata": {
        "colab": {
          "base_uri": "https://localhost:8080/"
        },
        "id": "zH1mlY3vIaUp",
        "outputId": "546d8263-e79f-4fa5-c92f-463ce405c640"
      },
      "outputs": [
        {
          "name": "stdout",
          "output_type": "stream",
          "text": [
            "Ultralytics 8.3.58 🚀 Python-3.10.12 torch-2.5.1+cu121 CUDA:0 (Tesla T4, 15102MiB)\n",
            "YOLOv8n summary (fused): 168 layers, 3,005,843 parameters, 0 gradients, 8.1 GFLOPs\n"
          ]
        },
        {
          "name": "stderr",
          "output_type": "stream",
          "text": [
            "\u001b[34m\u001b[1mval: \u001b[0mScanning /content/val/labels.cache... 180 images, 0 backgrounds, 0 corrupt: 100%|██████████| 180/180 [00:00<?, ?it/s]\n",
            "                 Class     Images  Instances      Box(P          R      mAP50  mAP50-95): 100%|██████████| 12/12 [00:03<00:00,  3.30it/s]\n"
          ]
        },
        {
          "name": "stdout",
          "output_type": "stream",
          "text": [
            "                   all        180        180      0.982      0.989      0.993      0.738\n",
            "Speed: 0.2ms preprocess, 13.6ms inference, 0.0ms loss, 0.9ms postprocess per image\n",
            "Results saved to \u001b[1m/content/yolo_training/license_plate_model\u001b[0m\n",
            "ultralytics.utils.metrics.DetMetrics object with attributes:\n",
            "\n",
            "ap_class_index: array([0])\n",
            "box: ultralytics.utils.metrics.Metric object\n",
            "confusion_matrix: <ultralytics.utils.metrics.ConfusionMatrix object at 0x7d5d98a70ca0>\n",
            "curves: ['Precision-Recall(B)', 'F1-Confidence(B)', 'Precision-Confidence(B)', 'Recall-Confidence(B)']\n",
            "curves_results: [[array([          0,    0.001001,    0.002002,    0.003003,    0.004004,    0.005005,    0.006006,    0.007007,    0.008008,    0.009009,     0.01001,    0.011011,    0.012012,    0.013013,    0.014014,    0.015015,    0.016016,    0.017017,    0.018018,    0.019019,     0.02002,    0.021021,    0.022022,    0.023023,\n",
            "          0.024024,    0.025025,    0.026026,    0.027027,    0.028028,    0.029029,     0.03003,    0.031031,    0.032032,    0.033033,    0.034034,    0.035035,    0.036036,    0.037037,    0.038038,    0.039039,     0.04004,    0.041041,    0.042042,    0.043043,    0.044044,    0.045045,    0.046046,    0.047047,\n",
            "          0.048048,    0.049049,     0.05005,    0.051051,    0.052052,    0.053053,    0.054054,    0.055055,    0.056056,    0.057057,    0.058058,    0.059059,     0.06006,    0.061061,    0.062062,    0.063063,    0.064064,    0.065065,    0.066066,    0.067067,    0.068068,    0.069069,     0.07007,    0.071071,\n",
            "          0.072072,    0.073073,    0.074074,    0.075075,    0.076076,    0.077077,    0.078078,    0.079079,     0.08008,    0.081081,    0.082082,    0.083083,    0.084084,    0.085085,    0.086086,    0.087087,    0.088088,    0.089089,     0.09009,    0.091091,    0.092092,    0.093093,    0.094094,    0.095095,\n",
            "          0.096096,    0.097097,    0.098098,    0.099099,      0.1001,      0.1011,      0.1021,      0.1031,      0.1041,     0.10511,     0.10611,     0.10711,     0.10811,     0.10911,     0.11011,     0.11111,     0.11211,     0.11311,     0.11411,     0.11512,     0.11612,     0.11712,     0.11812,     0.11912,\n",
            "           0.12012,     0.12112,     0.12212,     0.12312,     0.12412,     0.12513,     0.12613,     0.12713,     0.12813,     0.12913,     0.13013,     0.13113,     0.13213,     0.13313,     0.13413,     0.13514,     0.13614,     0.13714,     0.13814,     0.13914,     0.14014,     0.14114,     0.14214,     0.14314,\n",
            "           0.14414,     0.14515,     0.14615,     0.14715,     0.14815,     0.14915,     0.15015,     0.15115,     0.15215,     0.15315,     0.15415,     0.15516,     0.15616,     0.15716,     0.15816,     0.15916,     0.16016,     0.16116,     0.16216,     0.16316,     0.16416,     0.16517,     0.16617,     0.16717,\n",
            "           0.16817,     0.16917,     0.17017,     0.17117,     0.17217,     0.17317,     0.17417,     0.17518,     0.17618,     0.17718,     0.17818,     0.17918,     0.18018,     0.18118,     0.18218,     0.18318,     0.18418,     0.18519,     0.18619,     0.18719,     0.18819,     0.18919,     0.19019,     0.19119,\n",
            "           0.19219,     0.19319,     0.19419,      0.1952,      0.1962,      0.1972,      0.1982,      0.1992,      0.2002,      0.2012,      0.2022,      0.2032,      0.2042,     0.20521,     0.20621,     0.20721,     0.20821,     0.20921,     0.21021,     0.21121,     0.21221,     0.21321,     0.21421,     0.21522,\n",
            "           0.21622,     0.21722,     0.21822,     0.21922,     0.22022,     0.22122,     0.22222,     0.22322,     0.22422,     0.22523,     0.22623,     0.22723,     0.22823,     0.22923,     0.23023,     0.23123,     0.23223,     0.23323,     0.23423,     0.23524,     0.23624,     0.23724,     0.23824,     0.23924,\n",
            "           0.24024,     0.24124,     0.24224,     0.24324,     0.24424,     0.24525,     0.24625,     0.24725,     0.24825,     0.24925,     0.25025,     0.25125,     0.25225,     0.25325,     0.25425,     0.25526,     0.25626,     0.25726,     0.25826,     0.25926,     0.26026,     0.26126,     0.26226,     0.26326,\n",
            "           0.26426,     0.26527,     0.26627,     0.26727,     0.26827,     0.26927,     0.27027,     0.27127,     0.27227,     0.27327,     0.27427,     0.27528,     0.27628,     0.27728,     0.27828,     0.27928,     0.28028,     0.28128,     0.28228,     0.28328,     0.28428,     0.28529,     0.28629,     0.28729,\n",
            "           0.28829,     0.28929,     0.29029,     0.29129,     0.29229,     0.29329,     0.29429,      0.2953,      0.2963,      0.2973,      0.2983,      0.2993,      0.3003,      0.3013,      0.3023,      0.3033,      0.3043,     0.30531,     0.30631,     0.30731,     0.30831,     0.30931,     0.31031,     0.31131,\n",
            "           0.31231,     0.31331,     0.31431,     0.31532,     0.31632,     0.31732,     0.31832,     0.31932,     0.32032,     0.32132,     0.32232,     0.32332,     0.32432,     0.32533,     0.32633,     0.32733,     0.32833,     0.32933,     0.33033,     0.33133,     0.33233,     0.33333,     0.33433,     0.33534,\n",
            "           0.33634,     0.33734,     0.33834,     0.33934,     0.34034,     0.34134,     0.34234,     0.34334,     0.34434,     0.34535,     0.34635,     0.34735,     0.34835,     0.34935,     0.35035,     0.35135,     0.35235,     0.35335,     0.35435,     0.35536,     0.35636,     0.35736,     0.35836,     0.35936,\n",
            "           0.36036,     0.36136,     0.36236,     0.36336,     0.36436,     0.36537,     0.36637,     0.36737,     0.36837,     0.36937,     0.37037,     0.37137,     0.37237,     0.37337,     0.37437,     0.37538,     0.37638,     0.37738,     0.37838,     0.37938,     0.38038,     0.38138,     0.38238,     0.38338,\n",
            "           0.38438,     0.38539,     0.38639,     0.38739,     0.38839,     0.38939,     0.39039,     0.39139,     0.39239,     0.39339,     0.39439,      0.3954,      0.3964,      0.3974,      0.3984,      0.3994,      0.4004,      0.4014,      0.4024,      0.4034,      0.4044,     0.40541,     0.40641,     0.40741,\n",
            "           0.40841,     0.40941,     0.41041,     0.41141,     0.41241,     0.41341,     0.41441,     0.41542,     0.41642,     0.41742,     0.41842,     0.41942,     0.42042,     0.42142,     0.42242,     0.42342,     0.42442,     0.42543,     0.42643,     0.42743,     0.42843,     0.42943,     0.43043,     0.43143,\n",
            "           0.43243,     0.43343,     0.43443,     0.43544,     0.43644,     0.43744,     0.43844,     0.43944,     0.44044,     0.44144,     0.44244,     0.44344,     0.44444,     0.44545,     0.44645,     0.44745,     0.44845,     0.44945,     0.45045,     0.45145,     0.45245,     0.45345,     0.45445,     0.45546,\n",
            "           0.45646,     0.45746,     0.45846,     0.45946,     0.46046,     0.46146,     0.46246,     0.46346,     0.46446,     0.46547,     0.46647,     0.46747,     0.46847,     0.46947,     0.47047,     0.47147,     0.47247,     0.47347,     0.47447,     0.47548,     0.47648,     0.47748,     0.47848,     0.47948,\n",
            "           0.48048,     0.48148,     0.48248,     0.48348,     0.48448,     0.48549,     0.48649,     0.48749,     0.48849,     0.48949,     0.49049,     0.49149,     0.49249,     0.49349,     0.49449,      0.4955,      0.4965,      0.4975,      0.4985,      0.4995,      0.5005,      0.5015,      0.5025,      0.5035,\n",
            "            0.5045,     0.50551,     0.50651,     0.50751,     0.50851,     0.50951,     0.51051,     0.51151,     0.51251,     0.51351,     0.51451,     0.51552,     0.51652,     0.51752,     0.51852,     0.51952,     0.52052,     0.52152,     0.52252,     0.52352,     0.52452,     0.52553,     0.52653,     0.52753,\n",
            "           0.52853,     0.52953,     0.53053,     0.53153,     0.53253,     0.53353,     0.53453,     0.53554,     0.53654,     0.53754,     0.53854,     0.53954,     0.54054,     0.54154,     0.54254,     0.54354,     0.54454,     0.54555,     0.54655,     0.54755,     0.54855,     0.54955,     0.55055,     0.55155,\n",
            "           0.55255,     0.55355,     0.55455,     0.55556,     0.55656,     0.55756,     0.55856,     0.55956,     0.56056,     0.56156,     0.56256,     0.56356,     0.56456,     0.56557,     0.56657,     0.56757,     0.56857,     0.56957,     0.57057,     0.57157,     0.57257,     0.57357,     0.57457,     0.57558,\n",
            "           0.57658,     0.57758,     0.57858,     0.57958,     0.58058,     0.58158,     0.58258,     0.58358,     0.58458,     0.58559,     0.58659,     0.58759,     0.58859,     0.58959,     0.59059,     0.59159,     0.59259,     0.59359,     0.59459,      0.5956,      0.5966,      0.5976,      0.5986,      0.5996,\n",
            "            0.6006,      0.6016,      0.6026,      0.6036,      0.6046,     0.60561,     0.60661,     0.60761,     0.60861,     0.60961,     0.61061,     0.61161,     0.61261,     0.61361,     0.61461,     0.61562,     0.61662,     0.61762,     0.61862,     0.61962,     0.62062,     0.62162,     0.62262,     0.62362,\n",
            "           0.62462,     0.62563,     0.62663,     0.62763,     0.62863,     0.62963,     0.63063,     0.63163,     0.63263,     0.63363,     0.63463,     0.63564,     0.63664,     0.63764,     0.63864,     0.63964,     0.64064,     0.64164,     0.64264,     0.64364,     0.64464,     0.64565,     0.64665,     0.64765,\n",
            "           0.64865,     0.64965,     0.65065,     0.65165,     0.65265,     0.65365,     0.65465,     0.65566,     0.65666,     0.65766,     0.65866,     0.65966,     0.66066,     0.66166,     0.66266,     0.66366,     0.66466,     0.66567,     0.66667,     0.66767,     0.66867,     0.66967,     0.67067,     0.67167,\n",
            "           0.67267,     0.67367,     0.67467,     0.67568,     0.67668,     0.67768,     0.67868,     0.67968,     0.68068,     0.68168,     0.68268,     0.68368,     0.68468,     0.68569,     0.68669,     0.68769,     0.68869,     0.68969,     0.69069,     0.69169,     0.69269,     0.69369,     0.69469,      0.6957,\n",
            "            0.6967,      0.6977,      0.6987,      0.6997,      0.7007,      0.7017,      0.7027,      0.7037,      0.7047,     0.70571,     0.70671,     0.70771,     0.70871,     0.70971,     0.71071,     0.71171,     0.71271,     0.71371,     0.71471,     0.71572,     0.71672,     0.71772,     0.71872,     0.71972,\n",
            "           0.72072,     0.72172,     0.72272,     0.72372,     0.72472,     0.72573,     0.72673,     0.72773,     0.72873,     0.72973,     0.73073,     0.73173,     0.73273,     0.73373,     0.73473,     0.73574,     0.73674,     0.73774,     0.73874,     0.73974,     0.74074,     0.74174,     0.74274,     0.74374,\n",
            "           0.74474,     0.74575,     0.74675,     0.74775,     0.74875,     0.74975,     0.75075,     0.75175,     0.75275,     0.75375,     0.75475,     0.75576,     0.75676,     0.75776,     0.75876,     0.75976,     0.76076,     0.76176,     0.76276,     0.76376,     0.76476,     0.76577,     0.76677,     0.76777,\n",
            "           0.76877,     0.76977,     0.77077,     0.77177,     0.77277,     0.77377,     0.77477,     0.77578,     0.77678,     0.77778,     0.77878,     0.77978,     0.78078,     0.78178,     0.78278,     0.78378,     0.78478,     0.78579,     0.78679,     0.78779,     0.78879,     0.78979,     0.79079,     0.79179,\n",
            "           0.79279,     0.79379,     0.79479,      0.7958,      0.7968,      0.7978,      0.7988,      0.7998,      0.8008,      0.8018,      0.8028,      0.8038,      0.8048,     0.80581,     0.80681,     0.80781,     0.80881,     0.80981,     0.81081,     0.81181,     0.81281,     0.81381,     0.81481,     0.81582,\n",
            "           0.81682,     0.81782,     0.81882,     0.81982,     0.82082,     0.82182,     0.82282,     0.82382,     0.82482,     0.82583,     0.82683,     0.82783,     0.82883,     0.82983,     0.83083,     0.83183,     0.83283,     0.83383,     0.83483,     0.83584,     0.83684,     0.83784,     0.83884,     0.83984,\n",
            "           0.84084,     0.84184,     0.84284,     0.84384,     0.84484,     0.84585,     0.84685,     0.84785,     0.84885,     0.84985,     0.85085,     0.85185,     0.85285,     0.85385,     0.85485,     0.85586,     0.85686,     0.85786,     0.85886,     0.85986,     0.86086,     0.86186,     0.86286,     0.86386,\n",
            "           0.86486,     0.86587,     0.86687,     0.86787,     0.86887,     0.86987,     0.87087,     0.87187,     0.87287,     0.87387,     0.87487,     0.87588,     0.87688,     0.87788,     0.87888,     0.87988,     0.88088,     0.88188,     0.88288,     0.88388,     0.88488,     0.88589,     0.88689,     0.88789,\n",
            "           0.88889,     0.88989,     0.89089,     0.89189,     0.89289,     0.89389,     0.89489,      0.8959,      0.8969,      0.8979,      0.8989,      0.8999,      0.9009,      0.9019,      0.9029,      0.9039,      0.9049,     0.90591,     0.90691,     0.90791,     0.90891,     0.90991,     0.91091,     0.91191,\n",
            "           0.91291,     0.91391,     0.91491,     0.91592,     0.91692,     0.91792,     0.91892,     0.91992,     0.92092,     0.92192,     0.92292,     0.92392,     0.92492,     0.92593,     0.92693,     0.92793,     0.92893,     0.92993,     0.93093,     0.93193,     0.93293,     0.93393,     0.93493,     0.93594,\n",
            "           0.93694,     0.93794,     0.93894,     0.93994,     0.94094,     0.94194,     0.94294,     0.94394,     0.94494,     0.94595,     0.94695,     0.94795,     0.94895,     0.94995,     0.95095,     0.95195,     0.95295,     0.95395,     0.95495,     0.95596,     0.95696,     0.95796,     0.95896,     0.95996,\n",
            "           0.96096,     0.96196,     0.96296,     0.96396,     0.96496,     0.96597,     0.96697,     0.96797,     0.96897,     0.96997,     0.97097,     0.97197,     0.97297,     0.97397,     0.97497,     0.97598,     0.97698,     0.97798,     0.97898,     0.97998,     0.98098,     0.98198,     0.98298,     0.98398,\n",
            "           0.98498,     0.98599,     0.98699,     0.98799,     0.98899,     0.98999,     0.99099,     0.99199,     0.99299,     0.99399,     0.99499,       0.996,       0.997,       0.998,       0.999,           1]), array([[          1,           1,           1,           1,           1,           1,           1,           1,           1,           1,           1,           1,           1,           1,           1,           1,           1,           1,           1,           1,           1,           1,           1,\n",
            "                  1,           1,           1,           1,           1,           1,           1,           1,           1,           1,           1,           1,           1,           1,           1,           1,           1,           1,           1,           1,           1,           1,           1,\n",
            "                  1,           1,           1,           1,           1,           1,           1,           1,           1,           1,           1,           1,           1,           1,           1,           1,           1,           1,           1,           1,           1,           1,           1,\n",
            "                  1,           1,           1,           1,           1,           1,           1,           1,           1,           1,           1,           1,           1,           1,           1,           1,           1,           1,           1,           1,           1,           1,           1,\n",
            "                  1,           1,           1,           1,           1,           1,           1,           1,           1,           1,           1,           1,           1,           1,           1,           1,           1,           1,           1,           1,           1,           1,           1,\n",
            "                  1,           1,           1,           1,           1,           1,           1,           1,           1,           1,           1,           1,           1,           1,           1,           1,           1,           1,           1,           1,           1,           1,           1,\n",
            "                  1,           1,           1,           1,           1,           1,           1,           1,           1,           1,           1,           1,           1,           1,           1,           1,           1,           1,           1,           1,           1,           1,           1,\n",
            "                  1,           1,           1,           1,           1,           1,           1,           1,           1,           1,           1,           1,           1,           1,           1,           1,           1,           1,           1,           1,           1,           1,           1,\n",
            "                  1,           1,           1,           1,           1,           1,           1,           1,           1,           1,           1,           1,           1,           1,           1,           1,           1,           1,           1,           1,           1,           1,           1,\n",
            "                  1,           1,           1,           1,           1,           1,           1,           1,           1,           1,           1,           1,           1,           1,           1,           1,           1,           1,           1,           1,           1,           1,           1,\n",
            "                  1,           1,           1,           1,           1,           1,           1,           1,           1,           1,           1,           1,           1,           1,           1,           1,           1,           1,           1,           1,           1,           1,           1,\n",
            "                  1,           1,           1,           1,           1,           1,           1,           1,           1,           1,           1,           1,           1,           1,           1,           1,           1,           1,           1,           1,           1,           1,           1,\n",
            "                  1,           1,           1,           1,           1,           1,           1,           1,           1,           1,           1,           1,           1,           1,           1,           1,           1,           1,           1,           1,           1,           1,           1,\n",
            "                  1,           1,           1,           1,           1,           1,           1,           1,           1,           1,           1,           1,           1,           1,           1,           1,           1,           1,           1,           1,           1,           1,           1,\n",
            "                  1,           1,           1,           1,           1,           1,           1,           1,           1,           1,           1,           1,           1,           1,           1,           1,           1,           1,           1,           1,           1,           1,           1,\n",
            "                  1,           1,           1,           1,           1,           1,           1,           1,           1,           1,           1,           1,           1,           1,           1,           1,           1,           1,           1,           1,           1,           1,           1,\n",
            "                  1,           1,           1,           1,           1,           1,           1,           1,           1,           1,           1,           1,           1,           1,           1,           1,           1,           1,           1,           1,           1,           1,           1,\n",
            "                  1,           1,           1,           1,           1,           1,           1,           1,           1,           1,           1,           1,           1,           1,           1,           1,           1,           1,           1,           1,           1,           1,           1,\n",
            "                  1,           1,           1,           1,           1,           1,           1,           1,           1,           1,           1,           1,           1,           1,           1,           1,           1,           1,           1,           1,           1,           1,           1,\n",
            "                  1,           1,           1,           1,           1,           1,           1,           1,           1,           1,           1,           1,           1,           1,           1,           1,           1,           1,           1,           1,           1,           1,           1,\n",
            "                  1,           1,           1,           1,           1,           1,           1,           1,           1,           1,           1,           1,           1,           1,           1,           1,           1,           1,           1,           1,           1,           1,           1,\n",
            "                  1,           1,           1,           1,           1,           1,           1,           1,           1,           1,           1,           1,           1,           1,           1,           1,           1,           1,           1,           1,           1,           1,           1,\n",
            "                  1,           1,           1,           1,           1,           1,           1,           1,           1,           1,           1,           1,           1,           1,           1,           1,           1,           1,           1,           1,           1,           1,           1,\n",
            "                  1,           1,           1,           1,           1,           1,           1,           1,           1,           1,           1,           1,           1,           1,           1,           1,           1,           1,           1,           1,           1,           1,           1,\n",
            "                  1,           1,           1,           1,           1,           1,           1,           1,           1,           1,           1,           1,           1,           1,           1,           1,           1,           1,           1,           1,           1,           1,           1,\n",
            "                  1,           1,           1,           1,           1,           1,           1,           1,           1,           1,           1,           1,           1,           1,           1,           1,           1,           1,           1,           1,           1,           1,           1,\n",
            "                  1,           1,           1,           1,           1,           1,           1,           1,           1,           1,           1,           1,           1,           1,           1,           1,           1,           1,           1,           1,           1,           1,           1,\n",
            "                  1,           1,           1,           1,           1,           1,           1,           1,           1,           1,           1,           1,           1,           1,           1,           1,           1,           1,           1,           1,           1,           1,           1,\n",
            "                  1,           1,           1,           1,           1,           1,           1,           1,           1,           1,           1,           1,           1,           1,           1,           1,           1,           1,           1,           1,           1,           1,           1,\n",
            "                  1,           1,           1,           1,           1,           1,           1,           1,           1,           1,           1,           1,           1,           1,           1,           1,           1,           1,           1,           1,           1,           1,           1,\n",
            "                  1,           1,           1,           1,           1,           1,           1,           1,           1,           1,           1,           1,           1,           1,           1,           1,           1,           1,           1,           1,           1,           1,           1,\n",
            "                  1,           1,           1,           1,           1,           1,           1,           1,           1,           1,           1,           1,           1,           1,           1,           1,           1,           1,           1,           1,           1,           1,           1,\n",
            "                  1,           1,           1,           1,           1,           1,           1,           1,           1,           1,           1,           1,           1,           1,           1,           1,           1,           1,           1,           1,           1,           1,           1,\n",
            "                  1,           1,           1,           1,           1,           1,           1,           1,           1,           1,           1,           1,           1,           1,           1,           1,           1,           1,           1,           1,           1,           1,           1,\n",
            "                  1,           1,           1,           1,           1,           1,           1,           1,           1,           1,           1,           1,           1,           1,           1,           1,           1,           1,           1,           1,           1,           1,           1,\n",
            "                  1,           1,           1,           1,           1,           1,           1,           1,           1,           1,           1,           1,           1,           1,           1,           1,           1,           1,           1,           1,           1,           1,           1,\n",
            "                  1,           1,           1,           1,           1,           1,           1,           1,           1,           1,           1,           1,           1,           1,           1,           1,           1,           1,           1,           1,           1,           1,           1,\n",
            "                  1,           1,           1,           1,           1,           1,           1,           1,           1,           1,           1,           1,           1,           1,           1,           1,           1,           1,           1,           1,           1,           1,           1,\n",
            "                  1,           1,           1,           1,           1,           1,           1,           1,           1,           1,           1,           1,           1,           1,           1,           1,           1,           1,           1,           1,           1,           1,           1,\n",
            "                  1,           1,           1,           1,           1,           1,           1,           1,           1,           1,           1,           1,           1,           1,           1,           1,           1,           1,           1,           1,           1,           1,           1,\n",
            "                  1,           1,           1,           1,           1,           1,           1,           1,           1,           1,           1,           1,           1,           1,           1,           1,           1,           1,           1,           1,           1,           1,           1,\n",
            "                  1,           1,           1,           1,           1,           1,           1,     0.99429,     0.99429,     0.99429,     0.99429,     0.99429,     0.99429,     0.99429,     0.99429,     0.99429,     0.99429,     0.99429,     0.99429,     0.99429,     0.99429,     0.99429,     0.99429,\n",
            "            0.98343,     0.98343,     0.98343,     0.98343,     0.98343,     0.98343,     0.98343,     0.98343,     0.98343,     0.98343,     0.98343,     0.98343,     0.98343,     0.98343,     0.98343,     0.98343,     0.98343,     0.98343,     0.98343,     0.98343,     0.98343,     0.98343,     0.84834,\n",
            "            0.84834,     0.84834,     0.84834,     0.84834,     0.84834,     0.84112,     0.84112,     0.84112,     0.84112,     0.84112,           0]]), 'Recall', 'Precision'], [array([          0,    0.001001,    0.002002,    0.003003,    0.004004,    0.005005,    0.006006,    0.007007,    0.008008,    0.009009,     0.01001,    0.011011,    0.012012,    0.013013,    0.014014,    0.015015,    0.016016,    0.017017,    0.018018,    0.019019,     0.02002,    0.021021,    0.022022,    0.023023,\n",
            "          0.024024,    0.025025,    0.026026,    0.027027,    0.028028,    0.029029,     0.03003,    0.031031,    0.032032,    0.033033,    0.034034,    0.035035,    0.036036,    0.037037,    0.038038,    0.039039,     0.04004,    0.041041,    0.042042,    0.043043,    0.044044,    0.045045,    0.046046,    0.047047,\n",
            "          0.048048,    0.049049,     0.05005,    0.051051,    0.052052,    0.053053,    0.054054,    0.055055,    0.056056,    0.057057,    0.058058,    0.059059,     0.06006,    0.061061,    0.062062,    0.063063,    0.064064,    0.065065,    0.066066,    0.067067,    0.068068,    0.069069,     0.07007,    0.071071,\n",
            "          0.072072,    0.073073,    0.074074,    0.075075,    0.076076,    0.077077,    0.078078,    0.079079,     0.08008,    0.081081,    0.082082,    0.083083,    0.084084,    0.085085,    0.086086,    0.087087,    0.088088,    0.089089,     0.09009,    0.091091,    0.092092,    0.093093,    0.094094,    0.095095,\n",
            "          0.096096,    0.097097,    0.098098,    0.099099,      0.1001,      0.1011,      0.1021,      0.1031,      0.1041,     0.10511,     0.10611,     0.10711,     0.10811,     0.10911,     0.11011,     0.11111,     0.11211,     0.11311,     0.11411,     0.11512,     0.11612,     0.11712,     0.11812,     0.11912,\n",
            "           0.12012,     0.12112,     0.12212,     0.12312,     0.12412,     0.12513,     0.12613,     0.12713,     0.12813,     0.12913,     0.13013,     0.13113,     0.13213,     0.13313,     0.13413,     0.13514,     0.13614,     0.13714,     0.13814,     0.13914,     0.14014,     0.14114,     0.14214,     0.14314,\n",
            "           0.14414,     0.14515,     0.14615,     0.14715,     0.14815,     0.14915,     0.15015,     0.15115,     0.15215,     0.15315,     0.15415,     0.15516,     0.15616,     0.15716,     0.15816,     0.15916,     0.16016,     0.16116,     0.16216,     0.16316,     0.16416,     0.16517,     0.16617,     0.16717,\n",
            "           0.16817,     0.16917,     0.17017,     0.17117,     0.17217,     0.17317,     0.17417,     0.17518,     0.17618,     0.17718,     0.17818,     0.17918,     0.18018,     0.18118,     0.18218,     0.18318,     0.18418,     0.18519,     0.18619,     0.18719,     0.18819,     0.18919,     0.19019,     0.19119,\n",
            "           0.19219,     0.19319,     0.19419,      0.1952,      0.1962,      0.1972,      0.1982,      0.1992,      0.2002,      0.2012,      0.2022,      0.2032,      0.2042,     0.20521,     0.20621,     0.20721,     0.20821,     0.20921,     0.21021,     0.21121,     0.21221,     0.21321,     0.21421,     0.21522,\n",
            "           0.21622,     0.21722,     0.21822,     0.21922,     0.22022,     0.22122,     0.22222,     0.22322,     0.22422,     0.22523,     0.22623,     0.22723,     0.22823,     0.22923,     0.23023,     0.23123,     0.23223,     0.23323,     0.23423,     0.23524,     0.23624,     0.23724,     0.23824,     0.23924,\n",
            "           0.24024,     0.24124,     0.24224,     0.24324,     0.24424,     0.24525,     0.24625,     0.24725,     0.24825,     0.24925,     0.25025,     0.25125,     0.25225,     0.25325,     0.25425,     0.25526,     0.25626,     0.25726,     0.25826,     0.25926,     0.26026,     0.26126,     0.26226,     0.26326,\n",
            "           0.26426,     0.26527,     0.26627,     0.26727,     0.26827,     0.26927,     0.27027,     0.27127,     0.27227,     0.27327,     0.27427,     0.27528,     0.27628,     0.27728,     0.27828,     0.27928,     0.28028,     0.28128,     0.28228,     0.28328,     0.28428,     0.28529,     0.28629,     0.28729,\n",
            "           0.28829,     0.28929,     0.29029,     0.29129,     0.29229,     0.29329,     0.29429,      0.2953,      0.2963,      0.2973,      0.2983,      0.2993,      0.3003,      0.3013,      0.3023,      0.3033,      0.3043,     0.30531,     0.30631,     0.30731,     0.30831,     0.30931,     0.31031,     0.31131,\n",
            "           0.31231,     0.31331,     0.31431,     0.31532,     0.31632,     0.31732,     0.31832,     0.31932,     0.32032,     0.32132,     0.32232,     0.32332,     0.32432,     0.32533,     0.32633,     0.32733,     0.32833,     0.32933,     0.33033,     0.33133,     0.33233,     0.33333,     0.33433,     0.33534,\n",
            "           0.33634,     0.33734,     0.33834,     0.33934,     0.34034,     0.34134,     0.34234,     0.34334,     0.34434,     0.34535,     0.34635,     0.34735,     0.34835,     0.34935,     0.35035,     0.35135,     0.35235,     0.35335,     0.35435,     0.35536,     0.35636,     0.35736,     0.35836,     0.35936,\n",
            "           0.36036,     0.36136,     0.36236,     0.36336,     0.36436,     0.36537,     0.36637,     0.36737,     0.36837,     0.36937,     0.37037,     0.37137,     0.37237,     0.37337,     0.37437,     0.37538,     0.37638,     0.37738,     0.37838,     0.37938,     0.38038,     0.38138,     0.38238,     0.38338,\n",
            "           0.38438,     0.38539,     0.38639,     0.38739,     0.38839,     0.38939,     0.39039,     0.39139,     0.39239,     0.39339,     0.39439,      0.3954,      0.3964,      0.3974,      0.3984,      0.3994,      0.4004,      0.4014,      0.4024,      0.4034,      0.4044,     0.40541,     0.40641,     0.40741,\n",
            "           0.40841,     0.40941,     0.41041,     0.41141,     0.41241,     0.41341,     0.41441,     0.41542,     0.41642,     0.41742,     0.41842,     0.41942,     0.42042,     0.42142,     0.42242,     0.42342,     0.42442,     0.42543,     0.42643,     0.42743,     0.42843,     0.42943,     0.43043,     0.43143,\n",
            "           0.43243,     0.43343,     0.43443,     0.43544,     0.43644,     0.43744,     0.43844,     0.43944,     0.44044,     0.44144,     0.44244,     0.44344,     0.44444,     0.44545,     0.44645,     0.44745,     0.44845,     0.44945,     0.45045,     0.45145,     0.45245,     0.45345,     0.45445,     0.45546,\n",
            "           0.45646,     0.45746,     0.45846,     0.45946,     0.46046,     0.46146,     0.46246,     0.46346,     0.46446,     0.46547,     0.46647,     0.46747,     0.46847,     0.46947,     0.47047,     0.47147,     0.47247,     0.47347,     0.47447,     0.47548,     0.47648,     0.47748,     0.47848,     0.47948,\n",
            "           0.48048,     0.48148,     0.48248,     0.48348,     0.48448,     0.48549,     0.48649,     0.48749,     0.48849,     0.48949,     0.49049,     0.49149,     0.49249,     0.49349,     0.49449,      0.4955,      0.4965,      0.4975,      0.4985,      0.4995,      0.5005,      0.5015,      0.5025,      0.5035,\n",
            "            0.5045,     0.50551,     0.50651,     0.50751,     0.50851,     0.50951,     0.51051,     0.51151,     0.51251,     0.51351,     0.51451,     0.51552,     0.51652,     0.51752,     0.51852,     0.51952,     0.52052,     0.52152,     0.52252,     0.52352,     0.52452,     0.52553,     0.52653,     0.52753,\n",
            "           0.52853,     0.52953,     0.53053,     0.53153,     0.53253,     0.53353,     0.53453,     0.53554,     0.53654,     0.53754,     0.53854,     0.53954,     0.54054,     0.54154,     0.54254,     0.54354,     0.54454,     0.54555,     0.54655,     0.54755,     0.54855,     0.54955,     0.55055,     0.55155,\n",
            "           0.55255,     0.55355,     0.55455,     0.55556,     0.55656,     0.55756,     0.55856,     0.55956,     0.56056,     0.56156,     0.56256,     0.56356,     0.56456,     0.56557,     0.56657,     0.56757,     0.56857,     0.56957,     0.57057,     0.57157,     0.57257,     0.57357,     0.57457,     0.57558,\n",
            "           0.57658,     0.57758,     0.57858,     0.57958,     0.58058,     0.58158,     0.58258,     0.58358,     0.58458,     0.58559,     0.58659,     0.58759,     0.58859,     0.58959,     0.59059,     0.59159,     0.59259,     0.59359,     0.59459,      0.5956,      0.5966,      0.5976,      0.5986,      0.5996,\n",
            "            0.6006,      0.6016,      0.6026,      0.6036,      0.6046,     0.60561,     0.60661,     0.60761,     0.60861,     0.60961,     0.61061,     0.61161,     0.61261,     0.61361,     0.61461,     0.61562,     0.61662,     0.61762,     0.61862,     0.61962,     0.62062,     0.62162,     0.62262,     0.62362,\n",
            "           0.62462,     0.62563,     0.62663,     0.62763,     0.62863,     0.62963,     0.63063,     0.63163,     0.63263,     0.63363,     0.63463,     0.63564,     0.63664,     0.63764,     0.63864,     0.63964,     0.64064,     0.64164,     0.64264,     0.64364,     0.64464,     0.64565,     0.64665,     0.64765,\n",
            "           0.64865,     0.64965,     0.65065,     0.65165,     0.65265,     0.65365,     0.65465,     0.65566,     0.65666,     0.65766,     0.65866,     0.65966,     0.66066,     0.66166,     0.66266,     0.66366,     0.66466,     0.66567,     0.66667,     0.66767,     0.66867,     0.66967,     0.67067,     0.67167,\n",
            "           0.67267,     0.67367,     0.67467,     0.67568,     0.67668,     0.67768,     0.67868,     0.67968,     0.68068,     0.68168,     0.68268,     0.68368,     0.68468,     0.68569,     0.68669,     0.68769,     0.68869,     0.68969,     0.69069,     0.69169,     0.69269,     0.69369,     0.69469,      0.6957,\n",
            "            0.6967,      0.6977,      0.6987,      0.6997,      0.7007,      0.7017,      0.7027,      0.7037,      0.7047,     0.70571,     0.70671,     0.70771,     0.70871,     0.70971,     0.71071,     0.71171,     0.71271,     0.71371,     0.71471,     0.71572,     0.71672,     0.71772,     0.71872,     0.71972,\n",
            "           0.72072,     0.72172,     0.72272,     0.72372,     0.72472,     0.72573,     0.72673,     0.72773,     0.72873,     0.72973,     0.73073,     0.73173,     0.73273,     0.73373,     0.73473,     0.73574,     0.73674,     0.73774,     0.73874,     0.73974,     0.74074,     0.74174,     0.74274,     0.74374,\n",
            "           0.74474,     0.74575,     0.74675,     0.74775,     0.74875,     0.74975,     0.75075,     0.75175,     0.75275,     0.75375,     0.75475,     0.75576,     0.75676,     0.75776,     0.75876,     0.75976,     0.76076,     0.76176,     0.76276,     0.76376,     0.76476,     0.76577,     0.76677,     0.76777,\n",
            "           0.76877,     0.76977,     0.77077,     0.77177,     0.77277,     0.77377,     0.77477,     0.77578,     0.77678,     0.77778,     0.77878,     0.77978,     0.78078,     0.78178,     0.78278,     0.78378,     0.78478,     0.78579,     0.78679,     0.78779,     0.78879,     0.78979,     0.79079,     0.79179,\n",
            "           0.79279,     0.79379,     0.79479,      0.7958,      0.7968,      0.7978,      0.7988,      0.7998,      0.8008,      0.8018,      0.8028,      0.8038,      0.8048,     0.80581,     0.80681,     0.80781,     0.80881,     0.80981,     0.81081,     0.81181,     0.81281,     0.81381,     0.81481,     0.81582,\n",
            "           0.81682,     0.81782,     0.81882,     0.81982,     0.82082,     0.82182,     0.82282,     0.82382,     0.82482,     0.82583,     0.82683,     0.82783,     0.82883,     0.82983,     0.83083,     0.83183,     0.83283,     0.83383,     0.83483,     0.83584,     0.83684,     0.83784,     0.83884,     0.83984,\n",
            "           0.84084,     0.84184,     0.84284,     0.84384,     0.84484,     0.84585,     0.84685,     0.84785,     0.84885,     0.84985,     0.85085,     0.85185,     0.85285,     0.85385,     0.85485,     0.85586,     0.85686,     0.85786,     0.85886,     0.85986,     0.86086,     0.86186,     0.86286,     0.86386,\n",
            "           0.86486,     0.86587,     0.86687,     0.86787,     0.86887,     0.86987,     0.87087,     0.87187,     0.87287,     0.87387,     0.87487,     0.87588,     0.87688,     0.87788,     0.87888,     0.87988,     0.88088,     0.88188,     0.88288,     0.88388,     0.88488,     0.88589,     0.88689,     0.88789,\n",
            "           0.88889,     0.88989,     0.89089,     0.89189,     0.89289,     0.89389,     0.89489,      0.8959,      0.8969,      0.8979,      0.8989,      0.8999,      0.9009,      0.9019,      0.9029,      0.9039,      0.9049,     0.90591,     0.90691,     0.90791,     0.90891,     0.90991,     0.91091,     0.91191,\n",
            "           0.91291,     0.91391,     0.91491,     0.91592,     0.91692,     0.91792,     0.91892,     0.91992,     0.92092,     0.92192,     0.92292,     0.92392,     0.92492,     0.92593,     0.92693,     0.92793,     0.92893,     0.92993,     0.93093,     0.93193,     0.93293,     0.93393,     0.93493,     0.93594,\n",
            "           0.93694,     0.93794,     0.93894,     0.93994,     0.94094,     0.94194,     0.94294,     0.94394,     0.94494,     0.94595,     0.94695,     0.94795,     0.94895,     0.94995,     0.95095,     0.95195,     0.95295,     0.95395,     0.95495,     0.95596,     0.95696,     0.95796,     0.95896,     0.95996,\n",
            "           0.96096,     0.96196,     0.96296,     0.96396,     0.96496,     0.96597,     0.96697,     0.96797,     0.96897,     0.96997,     0.97097,     0.97197,     0.97297,     0.97397,     0.97497,     0.97598,     0.97698,     0.97798,     0.97898,     0.97998,     0.98098,     0.98198,     0.98298,     0.98398,\n",
            "           0.98498,     0.98599,     0.98699,     0.98799,     0.98899,     0.98999,     0.99099,     0.99199,     0.99299,     0.99399,     0.99499,       0.996,       0.997,       0.998,       0.999,           1]), array([[    0.30126,     0.30134,     0.40756,     0.46085,     0.49851,     0.52312,      0.5626,     0.58597,     0.60936,     0.62486,     0.64126,     0.65066,     0.66569,     0.67934,     0.68469,     0.69734,     0.70445,     0.71018,     0.72107,     0.72808,     0.73778,     0.74536,     0.74919,\n",
            "            0.75245,     0.75783,     0.76027,     0.76207,     0.76498,     0.76721,     0.77279,     0.77528,     0.78307,     0.78754,     0.79312,     0.79626,     0.80011,     0.80066,      0.8012,     0.80174,      0.8044,     0.80568,     0.81303,     0.81925,     0.82611,     0.82726,      0.8284,\n",
            "            0.82958,     0.83186,     0.83328,     0.83542,     0.83881,     0.84226,     0.84459,     0.84656,     0.84824,     0.84954,      0.8505,     0.85247,     0.85601,     0.85733,     0.85951,     0.86016,     0.86081,     0.86187,     0.86348,     0.86415,     0.86482,     0.86544,     0.86581,\n",
            "            0.86618,     0.86655,     0.86692,     0.86729,     0.86975,     0.87041,     0.87107,     0.87196,     0.87405,      0.8747,     0.87536,     0.87667,     0.88158,     0.88452,     0.88544,     0.88636,     0.88765,     0.88907,     0.89001,     0.89095,     0.89164,     0.89227,     0.89291,\n",
            "            0.89346,     0.89386,     0.89426,     0.89466,     0.89507,     0.89547,      0.8979,     0.89807,     0.89824,     0.89841,     0.89859,     0.89876,     0.89893,      0.8991,     0.89927,     0.89945,     0.89962,     0.89979,     0.89996,     0.90017,      0.9004,     0.90062,     0.90084,\n",
            "            0.90106,     0.90129,     0.90151,     0.90173,     0.90195,     0.90217,     0.90252,     0.90293,     0.90334,     0.90375,     0.90416,     0.90467,     0.90579,     0.90684,     0.90728,     0.90772,     0.90816,      0.9086,     0.90904,     0.90953,     0.91001,      0.9105,     0.91099,\n",
            "            0.91144,     0.91171,     0.91197,     0.91224,      0.9125,     0.91277,     0.91304,      0.9133,     0.91357,      0.9136,     0.91337,     0.91314,     0.91291,     0.91268,     0.91246,     0.91223,       0.912,     0.91177,     0.91154,     0.91132,     0.91109,     0.91145,     0.91286,\n",
            "            0.91425,     0.91548,     0.91305,     0.91346,     0.91386,     0.91427,     0.91467,     0.91508,     0.91659,     0.91777,     0.91827,     0.91877,     0.91927,     0.91977,     0.92026,     0.92074,     0.92123,     0.92171,     0.92219,     0.92468,     0.92545,     0.92622,     0.92698,\n",
            "            0.92999,     0.93089,     0.93178,     0.93216,     0.93243,     0.93271,     0.93298,     0.93325,     0.93352,     0.93379,     0.93406,     0.93433,     0.93455,     0.93475,     0.93495,     0.93515,     0.93535,     0.93555,     0.93575,     0.93595,     0.93615,     0.93635,     0.93655,\n",
            "            0.93675,     0.93716,     0.93776,     0.93836,     0.93895,     0.93946,     0.93985,     0.94023,     0.94061,     0.94099,     0.94137,     0.94174,     0.94199,     0.94221,     0.94243,     0.94266,     0.94288,      0.9431,     0.94332,     0.94354,     0.94376,     0.94399,     0.94421,\n",
            "             0.9456,     0.94692,     0.94717,     0.94741,     0.94766,      0.9479,     0.94815,      0.9484,     0.94864,     0.94889,     0.94913,     0.94935,     0.94944,     0.94954,     0.94963,     0.94972,     0.94982,     0.94991,        0.95,      0.9501,     0.95019,     0.95028,     0.95038,\n",
            "            0.95047,     0.95056,     0.95065,     0.95075,     0.95084,     0.95093,     0.95103,     0.95112,     0.95121,     0.95131,      0.9514,     0.95149,     0.95158,     0.95168,     0.95177,     0.95186,     0.95205,     0.95224,     0.95243,     0.95262,     0.95282,     0.95301,      0.9532,\n",
            "            0.95339,     0.95358,     0.95378,     0.95397,     0.95416,     0.95435,     0.95471,     0.95516,     0.95562,     0.95607,     0.95653,     0.95699,     0.95715,     0.95731,     0.95748,     0.95764,      0.9578,     0.95796,     0.95812,     0.95829,     0.95845,     0.95861,     0.95877,\n",
            "            0.95893,      0.9591,     0.95926,     0.95942,     0.95957,     0.95965,     0.95972,     0.95979,     0.95986,     0.95994,     0.96001,     0.96008,     0.96015,     0.96022,      0.9603,     0.96037,     0.96044,     0.96051,     0.96059,     0.96066,     0.96073,      0.9608,     0.96087,\n",
            "            0.96095,     0.96102,     0.96109,     0.96116,     0.96123,     0.96131,     0.96138,     0.96145,     0.96152,      0.9616,     0.96167,     0.96174,     0.96181,     0.96188,     0.96196,     0.96203,      0.9621,     0.96217,     0.96225,     0.96232,      0.9624,     0.96247,     0.96255,\n",
            "            0.96262,      0.9627,     0.96278,     0.96285,     0.96293,       0.963,     0.96308,     0.96315,     0.96323,      0.9633,     0.96338,     0.96345,     0.96353,     0.96361,     0.96368,     0.96376,     0.96383,     0.96391,     0.96398,     0.96406,     0.96413,     0.96421,     0.96428,\n",
            "            0.96436,     0.96443,     0.96451,     0.96458,     0.96466,     0.96473,      0.9656,     0.96716,     0.96771,     0.96809,     0.96847,     0.96885,     0.96923,     0.96961,     0.96998,     0.97008,     0.97015,     0.97022,     0.97028,     0.97035,     0.97041,     0.97048,     0.97054,\n",
            "            0.97061,     0.97067,     0.97074,      0.9708,     0.97087,     0.97093,       0.971,     0.97106,     0.97113,     0.97119,     0.97126,     0.97132,     0.97139,     0.97145,     0.97152,     0.97158,     0.97165,     0.97171,     0.97178,     0.97185,     0.97191,     0.97198,     0.97204,\n",
            "            0.97211,     0.97217,     0.97224,      0.9723,     0.97237,     0.97243,      0.9725,     0.97256,     0.97263,     0.97269,     0.97277,     0.97285,     0.97293,     0.97301,     0.97309,     0.97317,     0.97325,     0.97333,      0.9734,     0.97348,     0.97356,     0.97364,     0.97372,\n",
            "             0.9738,     0.97388,     0.97396,     0.97404,     0.97411,     0.97419,     0.97427,     0.97435,     0.97443,     0.97451,     0.97459,     0.97467,     0.97474,     0.97482,      0.9749,     0.97498,     0.97506,     0.97514,     0.97522,     0.97529,     0.97581,     0.97699,     0.97804,\n",
            "            0.97819,     0.97834,     0.97849,     0.97864,     0.97879,     0.97893,     0.97908,     0.97923,     0.97938,     0.97953,     0.97968,     0.97983,     0.97998,     0.98012,     0.98027,     0.98042,     0.98057,     0.98072,     0.98077,     0.98083,     0.98088,     0.98093,     0.98099,\n",
            "            0.98104,      0.9811,     0.98115,     0.98121,     0.98126,     0.98131,     0.98137,     0.98142,     0.98148,     0.98153,     0.98158,     0.98164,     0.98169,     0.98175,      0.9818,     0.98186,     0.98191,     0.98196,     0.98202,     0.98207,     0.98213,     0.98218,     0.98223,\n",
            "            0.98229,     0.98234,      0.9824,     0.98245,      0.9825,     0.98256,     0.98261,     0.98267,     0.98272,     0.98278,     0.98283,     0.98288,     0.98294,     0.98299,     0.98305,      0.9831,     0.98315,     0.98321,     0.98326,     0.98332,     0.98337,     0.98342,     0.98345,\n",
            "            0.98348,      0.9835,     0.98353,     0.98356,     0.98358,     0.98361,     0.98364,     0.98366,     0.98369,     0.98372,     0.98374,     0.98377,     0.98379,     0.98382,     0.98385,     0.98387,      0.9839,     0.98393,     0.98395,     0.98398,     0.98401,     0.98403,     0.98406,\n",
            "            0.98409,     0.98411,     0.98414,     0.98416,     0.98419,     0.98422,     0.98424,     0.98427,      0.9843,     0.98432,     0.98435,     0.98438,      0.9844,     0.98443,     0.98446,     0.98448,     0.98451,     0.98453,     0.98456,     0.98459,     0.98461,     0.98464,     0.98467,\n",
            "            0.98469,     0.98472,     0.98475,     0.98477,      0.9848,     0.98483,     0.98485,     0.98488,      0.9849,     0.98493,     0.98496,     0.98498,     0.98501,     0.98504,     0.98506,     0.98509,     0.98512,     0.98514,     0.98517,     0.98519,     0.98522,     0.98525,     0.98527,\n",
            "             0.9853,     0.98533,     0.98535,     0.98538,     0.98541,     0.98543,     0.98546,     0.98548,     0.98551,     0.98554,     0.98556,     0.98559,     0.98562,     0.98564,     0.98567,      0.9857,     0.98572,     0.98575,     0.98577,      0.9858,     0.98583,     0.98585,     0.98588,\n",
            "            0.98591,     0.98593,     0.98596,     0.98599,     0.98601,     0.98604,     0.98606,     0.98609,     0.98612,     0.98614,     0.98607,     0.98596,     0.98585,     0.98574,     0.98563,     0.98552,     0.98541,      0.9853,     0.98519,     0.98508,     0.98497,     0.98486,     0.98475,\n",
            "            0.98464,     0.98453,     0.98442,     0.98431,      0.9842,     0.98409,     0.98398,     0.98387,     0.98376,     0.98365,     0.98354,     0.98343,     0.98044,     0.97978,     0.97911,     0.97844,     0.97777,     0.97602,     0.97508,     0.97584,      0.9766,     0.97736,     0.97758,\n",
            "            0.97766,     0.97773,      0.9778,     0.97787,     0.97794,     0.97801,     0.97809,     0.97816,     0.97823,      0.9783,     0.97837,     0.97845,     0.97852,     0.97859,     0.97866,     0.97873,      0.9788,     0.97888,     0.97895,     0.97902,     0.97909,     0.97916,     0.97923,\n",
            "            0.97931,     0.97938,     0.97945,     0.97952,     0.97959,     0.97966,     0.97974,     0.97981,     0.97988,     0.97995,     0.98002,     0.98009,     0.98016,     0.98024,     0.98009,     0.97955,     0.97901,     0.97847,     0.97793,     0.97739,      0.9768,     0.97621,     0.97562,\n",
            "            0.97503,     0.97448,     0.97431,     0.97414,     0.97396,     0.97379,     0.97362,     0.97344,     0.97327,      0.9731,     0.97292,     0.97275,     0.97257,      0.9724,     0.97223,     0.97205,     0.97188,      0.9717,     0.97169,     0.97195,     0.97221,     0.97247,     0.97273,\n",
            "            0.97299,     0.97325,     0.97351,     0.97377,     0.97403,     0.97429,     0.97403,     0.97357,     0.97311,     0.97266,      0.9722,     0.97174,      0.9709,     0.96927,     0.96717,     0.96508,     0.96383,     0.96257,     0.96232,      0.9621,     0.96187,     0.96165,     0.96143,\n",
            "            0.96121,     0.96098,     0.96076,     0.96054,     0.96031,     0.96009,     0.95987,     0.95964,     0.95944,     0.95926,     0.95907,     0.95889,      0.9587,     0.95852,     0.95834,     0.95815,     0.95797,     0.95778,      0.9576,     0.95741,     0.95723,     0.95705,     0.95686,\n",
            "            0.95668,     0.95649,     0.95628,     0.95607,     0.95586,     0.95564,     0.95543,     0.95522,     0.95501,      0.9548,     0.95459,     0.95438,     0.95417,     0.95396,     0.95374,     0.95353,     0.95232,     0.95084,     0.94936,     0.94786,     0.94283,     0.94096,     0.94054,\n",
            "            0.94011,     0.93969,     0.93926,     0.93884,     0.93841,     0.93793,     0.93715,     0.93637,     0.93559,     0.93355,     0.92771,     0.92637,     0.91763,      0.9095,     0.90561,      0.9043,       0.903,      0.9005,     0.89793,     0.89594,     0.89462,     0.89338,     0.88776,\n",
            "            0.88231,     0.87465,     0.86702,     0.86191,     0.84583,     0.83944,     0.82275,     0.80825,     0.80429,       0.794,     0.78494,     0.77478,     0.76069,      0.7519,     0.73908,     0.72686,     0.72473,     0.72028,     0.70184,     0.68974,     0.67541,     0.66433,     0.65453,\n",
            "            0.63453,      0.6206,      0.6085,     0.60584,     0.59183,      0.5812,     0.57757,     0.57213,     0.56107,      0.5351,     0.51206,     0.50273,     0.49802,     0.48735,     0.47559,     0.45151,     0.42615,     0.41206,     0.38876,     0.38111,     0.37089,     0.35343,     0.34146,\n",
            "            0.31946,     0.29964,      0.2949,     0.29049,     0.28615,     0.26484,     0.25844,     0.24376,     0.24031,     0.23686,      0.2177,        0.19,     0.17933,     0.16715,     0.15336,     0.15139,     0.14942,     0.14745,     0.14547,     0.13449,     0.13215,      0.1298,     0.12745,\n",
            "            0.12509,     0.12015,     0.11504,     0.10728,     0.10141,     0.09618,    0.092815,    0.089854,    0.086884,    0.075159,    0.071649,    0.068382,    0.065104,    0.053681,    0.050301,    0.046908,    0.043504,    0.042444,    0.041401,    0.040356,    0.039311,    0.038264,    0.037216,\n",
            "           0.036168,    0.035118,    0.034067,    0.033014,    0.030098,    0.026658,    0.023205,    0.019997,    0.016918,     0.01383,           0,           0,           0,           0,           0,           0,           0,           0,           0,           0,           0,           0,           0,\n",
            "                  0,           0,           0,           0,           0,           0,           0,           0,           0,           0,           0,           0,           0,           0,           0,           0,           0,           0,           0,           0,           0,           0,           0,\n",
            "                  0,           0,           0,           0,           0,           0,           0,           0,           0,           0,           0,           0,           0,           0,           0,           0,           0,           0,           0,           0,           0,           0,           0,\n",
            "                  0,           0,           0,           0,           0,           0,           0,           0,           0,           0,           0]]), 'Confidence', 'F1'], [array([          0,    0.001001,    0.002002,    0.003003,    0.004004,    0.005005,    0.006006,    0.007007,    0.008008,    0.009009,     0.01001,    0.011011,    0.012012,    0.013013,    0.014014,    0.015015,    0.016016,    0.017017,    0.018018,    0.019019,     0.02002,    0.021021,    0.022022,    0.023023,\n",
            "          0.024024,    0.025025,    0.026026,    0.027027,    0.028028,    0.029029,     0.03003,    0.031031,    0.032032,    0.033033,    0.034034,    0.035035,    0.036036,    0.037037,    0.038038,    0.039039,     0.04004,    0.041041,    0.042042,    0.043043,    0.044044,    0.045045,    0.046046,    0.047047,\n",
            "          0.048048,    0.049049,     0.05005,    0.051051,    0.052052,    0.053053,    0.054054,    0.055055,    0.056056,    0.057057,    0.058058,    0.059059,     0.06006,    0.061061,    0.062062,    0.063063,    0.064064,    0.065065,    0.066066,    0.067067,    0.068068,    0.069069,     0.07007,    0.071071,\n",
            "          0.072072,    0.073073,    0.074074,    0.075075,    0.076076,    0.077077,    0.078078,    0.079079,     0.08008,    0.081081,    0.082082,    0.083083,    0.084084,    0.085085,    0.086086,    0.087087,    0.088088,    0.089089,     0.09009,    0.091091,    0.092092,    0.093093,    0.094094,    0.095095,\n",
            "          0.096096,    0.097097,    0.098098,    0.099099,      0.1001,      0.1011,      0.1021,      0.1031,      0.1041,     0.10511,     0.10611,     0.10711,     0.10811,     0.10911,     0.11011,     0.11111,     0.11211,     0.11311,     0.11411,     0.11512,     0.11612,     0.11712,     0.11812,     0.11912,\n",
            "           0.12012,     0.12112,     0.12212,     0.12312,     0.12412,     0.12513,     0.12613,     0.12713,     0.12813,     0.12913,     0.13013,     0.13113,     0.13213,     0.13313,     0.13413,     0.13514,     0.13614,     0.13714,     0.13814,     0.13914,     0.14014,     0.14114,     0.14214,     0.14314,\n",
            "           0.14414,     0.14515,     0.14615,     0.14715,     0.14815,     0.14915,     0.15015,     0.15115,     0.15215,     0.15315,     0.15415,     0.15516,     0.15616,     0.15716,     0.15816,     0.15916,     0.16016,     0.16116,     0.16216,     0.16316,     0.16416,     0.16517,     0.16617,     0.16717,\n",
            "           0.16817,     0.16917,     0.17017,     0.17117,     0.17217,     0.17317,     0.17417,     0.17518,     0.17618,     0.17718,     0.17818,     0.17918,     0.18018,     0.18118,     0.18218,     0.18318,     0.18418,     0.18519,     0.18619,     0.18719,     0.18819,     0.18919,     0.19019,     0.19119,\n",
            "           0.19219,     0.19319,     0.19419,      0.1952,      0.1962,      0.1972,      0.1982,      0.1992,      0.2002,      0.2012,      0.2022,      0.2032,      0.2042,     0.20521,     0.20621,     0.20721,     0.20821,     0.20921,     0.21021,     0.21121,     0.21221,     0.21321,     0.21421,     0.21522,\n",
            "           0.21622,     0.21722,     0.21822,     0.21922,     0.22022,     0.22122,     0.22222,     0.22322,     0.22422,     0.22523,     0.22623,     0.22723,     0.22823,     0.22923,     0.23023,     0.23123,     0.23223,     0.23323,     0.23423,     0.23524,     0.23624,     0.23724,     0.23824,     0.23924,\n",
            "           0.24024,     0.24124,     0.24224,     0.24324,     0.24424,     0.24525,     0.24625,     0.24725,     0.24825,     0.24925,     0.25025,     0.25125,     0.25225,     0.25325,     0.25425,     0.25526,     0.25626,     0.25726,     0.25826,     0.25926,     0.26026,     0.26126,     0.26226,     0.26326,\n",
            "           0.26426,     0.26527,     0.26627,     0.26727,     0.26827,     0.26927,     0.27027,     0.27127,     0.27227,     0.27327,     0.27427,     0.27528,     0.27628,     0.27728,     0.27828,     0.27928,     0.28028,     0.28128,     0.28228,     0.28328,     0.28428,     0.28529,     0.28629,     0.28729,\n",
            "           0.28829,     0.28929,     0.29029,     0.29129,     0.29229,     0.29329,     0.29429,      0.2953,      0.2963,      0.2973,      0.2983,      0.2993,      0.3003,      0.3013,      0.3023,      0.3033,      0.3043,     0.30531,     0.30631,     0.30731,     0.30831,     0.30931,     0.31031,     0.31131,\n",
            "           0.31231,     0.31331,     0.31431,     0.31532,     0.31632,     0.31732,     0.31832,     0.31932,     0.32032,     0.32132,     0.32232,     0.32332,     0.32432,     0.32533,     0.32633,     0.32733,     0.32833,     0.32933,     0.33033,     0.33133,     0.33233,     0.33333,     0.33433,     0.33534,\n",
            "           0.33634,     0.33734,     0.33834,     0.33934,     0.34034,     0.34134,     0.34234,     0.34334,     0.34434,     0.34535,     0.34635,     0.34735,     0.34835,     0.34935,     0.35035,     0.35135,     0.35235,     0.35335,     0.35435,     0.35536,     0.35636,     0.35736,     0.35836,     0.35936,\n",
            "           0.36036,     0.36136,     0.36236,     0.36336,     0.36436,     0.36537,     0.36637,     0.36737,     0.36837,     0.36937,     0.37037,     0.37137,     0.37237,     0.37337,     0.37437,     0.37538,     0.37638,     0.37738,     0.37838,     0.37938,     0.38038,     0.38138,     0.38238,     0.38338,\n",
            "           0.38438,     0.38539,     0.38639,     0.38739,     0.38839,     0.38939,     0.39039,     0.39139,     0.39239,     0.39339,     0.39439,      0.3954,      0.3964,      0.3974,      0.3984,      0.3994,      0.4004,      0.4014,      0.4024,      0.4034,      0.4044,     0.40541,     0.40641,     0.40741,\n",
            "           0.40841,     0.40941,     0.41041,     0.41141,     0.41241,     0.41341,     0.41441,     0.41542,     0.41642,     0.41742,     0.41842,     0.41942,     0.42042,     0.42142,     0.42242,     0.42342,     0.42442,     0.42543,     0.42643,     0.42743,     0.42843,     0.42943,     0.43043,     0.43143,\n",
            "           0.43243,     0.43343,     0.43443,     0.43544,     0.43644,     0.43744,     0.43844,     0.43944,     0.44044,     0.44144,     0.44244,     0.44344,     0.44444,     0.44545,     0.44645,     0.44745,     0.44845,     0.44945,     0.45045,     0.45145,     0.45245,     0.45345,     0.45445,     0.45546,\n",
            "           0.45646,     0.45746,     0.45846,     0.45946,     0.46046,     0.46146,     0.46246,     0.46346,     0.46446,     0.46547,     0.46647,     0.46747,     0.46847,     0.46947,     0.47047,     0.47147,     0.47247,     0.47347,     0.47447,     0.47548,     0.47648,     0.47748,     0.47848,     0.47948,\n",
            "           0.48048,     0.48148,     0.48248,     0.48348,     0.48448,     0.48549,     0.48649,     0.48749,     0.48849,     0.48949,     0.49049,     0.49149,     0.49249,     0.49349,     0.49449,      0.4955,      0.4965,      0.4975,      0.4985,      0.4995,      0.5005,      0.5015,      0.5025,      0.5035,\n",
            "            0.5045,     0.50551,     0.50651,     0.50751,     0.50851,     0.50951,     0.51051,     0.51151,     0.51251,     0.51351,     0.51451,     0.51552,     0.51652,     0.51752,     0.51852,     0.51952,     0.52052,     0.52152,     0.52252,     0.52352,     0.52452,     0.52553,     0.52653,     0.52753,\n",
            "           0.52853,     0.52953,     0.53053,     0.53153,     0.53253,     0.53353,     0.53453,     0.53554,     0.53654,     0.53754,     0.53854,     0.53954,     0.54054,     0.54154,     0.54254,     0.54354,     0.54454,     0.54555,     0.54655,     0.54755,     0.54855,     0.54955,     0.55055,     0.55155,\n",
            "           0.55255,     0.55355,     0.55455,     0.55556,     0.55656,     0.55756,     0.55856,     0.55956,     0.56056,     0.56156,     0.56256,     0.56356,     0.56456,     0.56557,     0.56657,     0.56757,     0.56857,     0.56957,     0.57057,     0.57157,     0.57257,     0.57357,     0.57457,     0.57558,\n",
            "           0.57658,     0.57758,     0.57858,     0.57958,     0.58058,     0.58158,     0.58258,     0.58358,     0.58458,     0.58559,     0.58659,     0.58759,     0.58859,     0.58959,     0.59059,     0.59159,     0.59259,     0.59359,     0.59459,      0.5956,      0.5966,      0.5976,      0.5986,      0.5996,\n",
            "            0.6006,      0.6016,      0.6026,      0.6036,      0.6046,     0.60561,     0.60661,     0.60761,     0.60861,     0.60961,     0.61061,     0.61161,     0.61261,     0.61361,     0.61461,     0.61562,     0.61662,     0.61762,     0.61862,     0.61962,     0.62062,     0.62162,     0.62262,     0.62362,\n",
            "           0.62462,     0.62563,     0.62663,     0.62763,     0.62863,     0.62963,     0.63063,     0.63163,     0.63263,     0.63363,     0.63463,     0.63564,     0.63664,     0.63764,     0.63864,     0.63964,     0.64064,     0.64164,     0.64264,     0.64364,     0.64464,     0.64565,     0.64665,     0.64765,\n",
            "           0.64865,     0.64965,     0.65065,     0.65165,     0.65265,     0.65365,     0.65465,     0.65566,     0.65666,     0.65766,     0.65866,     0.65966,     0.66066,     0.66166,     0.66266,     0.66366,     0.66466,     0.66567,     0.66667,     0.66767,     0.66867,     0.66967,     0.67067,     0.67167,\n",
            "           0.67267,     0.67367,     0.67467,     0.67568,     0.67668,     0.67768,     0.67868,     0.67968,     0.68068,     0.68168,     0.68268,     0.68368,     0.68468,     0.68569,     0.68669,     0.68769,     0.68869,     0.68969,     0.69069,     0.69169,     0.69269,     0.69369,     0.69469,      0.6957,\n",
            "            0.6967,      0.6977,      0.6987,      0.6997,      0.7007,      0.7017,      0.7027,      0.7037,      0.7047,     0.70571,     0.70671,     0.70771,     0.70871,     0.70971,     0.71071,     0.71171,     0.71271,     0.71371,     0.71471,     0.71572,     0.71672,     0.71772,     0.71872,     0.71972,\n",
            "           0.72072,     0.72172,     0.72272,     0.72372,     0.72472,     0.72573,     0.72673,     0.72773,     0.72873,     0.72973,     0.73073,     0.73173,     0.73273,     0.73373,     0.73473,     0.73574,     0.73674,     0.73774,     0.73874,     0.73974,     0.74074,     0.74174,     0.74274,     0.74374,\n",
            "           0.74474,     0.74575,     0.74675,     0.74775,     0.74875,     0.74975,     0.75075,     0.75175,     0.75275,     0.75375,     0.75475,     0.75576,     0.75676,     0.75776,     0.75876,     0.75976,     0.76076,     0.76176,     0.76276,     0.76376,     0.76476,     0.76577,     0.76677,     0.76777,\n",
            "           0.76877,     0.76977,     0.77077,     0.77177,     0.77277,     0.77377,     0.77477,     0.77578,     0.77678,     0.77778,     0.77878,     0.77978,     0.78078,     0.78178,     0.78278,     0.78378,     0.78478,     0.78579,     0.78679,     0.78779,     0.78879,     0.78979,     0.79079,     0.79179,\n",
            "           0.79279,     0.79379,     0.79479,      0.7958,      0.7968,      0.7978,      0.7988,      0.7998,      0.8008,      0.8018,      0.8028,      0.8038,      0.8048,     0.80581,     0.80681,     0.80781,     0.80881,     0.80981,     0.81081,     0.81181,     0.81281,     0.81381,     0.81481,     0.81582,\n",
            "           0.81682,     0.81782,     0.81882,     0.81982,     0.82082,     0.82182,     0.82282,     0.82382,     0.82482,     0.82583,     0.82683,     0.82783,     0.82883,     0.82983,     0.83083,     0.83183,     0.83283,     0.83383,     0.83483,     0.83584,     0.83684,     0.83784,     0.83884,     0.83984,\n",
            "           0.84084,     0.84184,     0.84284,     0.84384,     0.84484,     0.84585,     0.84685,     0.84785,     0.84885,     0.84985,     0.85085,     0.85185,     0.85285,     0.85385,     0.85485,     0.85586,     0.85686,     0.85786,     0.85886,     0.85986,     0.86086,     0.86186,     0.86286,     0.86386,\n",
            "           0.86486,     0.86587,     0.86687,     0.86787,     0.86887,     0.86987,     0.87087,     0.87187,     0.87287,     0.87387,     0.87487,     0.87588,     0.87688,     0.87788,     0.87888,     0.87988,     0.88088,     0.88188,     0.88288,     0.88388,     0.88488,     0.88589,     0.88689,     0.88789,\n",
            "           0.88889,     0.88989,     0.89089,     0.89189,     0.89289,     0.89389,     0.89489,      0.8959,      0.8969,      0.8979,      0.8989,      0.8999,      0.9009,      0.9019,      0.9029,      0.9039,      0.9049,     0.90591,     0.90691,     0.90791,     0.90891,     0.90991,     0.91091,     0.91191,\n",
            "           0.91291,     0.91391,     0.91491,     0.91592,     0.91692,     0.91792,     0.91892,     0.91992,     0.92092,     0.92192,     0.92292,     0.92392,     0.92492,     0.92593,     0.92693,     0.92793,     0.92893,     0.92993,     0.93093,     0.93193,     0.93293,     0.93393,     0.93493,     0.93594,\n",
            "           0.93694,     0.93794,     0.93894,     0.93994,     0.94094,     0.94194,     0.94294,     0.94394,     0.94494,     0.94595,     0.94695,     0.94795,     0.94895,     0.94995,     0.95095,     0.95195,     0.95295,     0.95395,     0.95495,     0.95596,     0.95696,     0.95796,     0.95896,     0.95996,\n",
            "           0.96096,     0.96196,     0.96296,     0.96396,     0.96496,     0.96597,     0.96697,     0.96797,     0.96897,     0.96997,     0.97097,     0.97197,     0.97297,     0.97397,     0.97497,     0.97598,     0.97698,     0.97798,     0.97898,     0.97998,     0.98098,     0.98198,     0.98298,     0.98398,\n",
            "           0.98498,     0.98599,     0.98699,     0.98799,     0.98899,     0.98999,     0.99099,     0.99199,     0.99299,     0.99399,     0.99499,       0.996,       0.997,       0.998,       0.999,           1]), array([[    0.17734,      0.1774,     0.25593,     0.29942,     0.33201,     0.35421,      0.3914,     0.41439,     0.43819,      0.4544,     0.47195,      0.4822,      0.4989,      0.5144,     0.52056,     0.53532,     0.54374,      0.5506,     0.56381,     0.57243,     0.58451,     0.59409,     0.59897,\n",
            "            0.60314,     0.61008,     0.61325,     0.61561,     0.61941,     0.62234,     0.62971,     0.63303,     0.64347,     0.64953,     0.65716,     0.66149,     0.66683,     0.66758,     0.66833,     0.66909,      0.6728,      0.6746,     0.68496,     0.69384,     0.70374,      0.7054,     0.70706,\n",
            "            0.70879,     0.71212,     0.71421,     0.71735,     0.72238,      0.7275,     0.73098,     0.73394,     0.73648,     0.73843,     0.73989,     0.74288,     0.74826,     0.75028,     0.75363,     0.75463,     0.75563,     0.75727,     0.75976,      0.7608,     0.76184,     0.76281,     0.76338,\n",
            "            0.76395,     0.76453,      0.7651,     0.76567,     0.76953,     0.77056,     0.77159,     0.77298,     0.77628,     0.77731,     0.77834,     0.78042,     0.78824,     0.79296,     0.79443,     0.79591,       0.798,     0.80029,     0.80182,     0.80335,     0.80446,      0.8055,     0.80654,\n",
            "            0.80743,     0.80809,     0.80875,     0.80941,     0.81006,     0.81072,     0.81471,     0.81499,     0.81528,     0.81556,     0.81585,     0.81613,     0.81642,      0.8167,     0.81698,     0.81727,     0.81755,     0.81784,     0.81812,     0.81847,     0.81884,     0.81921,     0.81957,\n",
            "            0.81994,     0.82031,     0.82068,     0.82105,     0.82141,     0.82178,     0.82235,     0.82303,     0.82372,     0.82441,     0.82509,     0.82593,      0.8278,     0.82956,      0.8303,     0.83104,     0.83178,     0.83252,     0.83325,     0.83407,     0.83489,     0.83571,     0.83653,\n",
            "            0.83729,     0.83774,     0.83819,     0.83864,     0.83909,     0.83954,     0.83999,     0.84044,     0.84089,     0.84109,     0.84103,     0.84097,     0.84091,     0.84085,     0.84078,     0.84072,     0.84066,      0.8406,     0.84054,     0.84048,     0.84042,     0.84124,     0.84365,\n",
            "            0.84602,     0.84831,     0.84802,     0.84872,     0.84942,     0.85012,     0.85082,     0.85152,     0.85415,      0.8562,     0.85707,     0.85794,     0.85882,     0.85969,     0.86054,     0.86139,     0.86223,     0.86308,     0.86392,      0.8683,     0.86966,     0.87101,     0.87237,\n",
            "            0.87771,     0.87931,     0.88091,     0.88159,     0.88208,     0.88256,     0.88305,     0.88354,     0.88402,     0.88451,       0.885,     0.88549,     0.88587,     0.88623,     0.88659,     0.88695,     0.88731,     0.88767,     0.88803,     0.88839,     0.88875,     0.88911,     0.88947,\n",
            "            0.88983,     0.89058,     0.89166,     0.89274,     0.89382,     0.89475,     0.89544,     0.89613,     0.89682,     0.89751,      0.8982,     0.89889,     0.89934,     0.89974,     0.90015,     0.90055,     0.90096,     0.90136,     0.90177,     0.90217,     0.90258,     0.90298,     0.90339,\n",
            "            0.90594,     0.90837,     0.90882,     0.90927,     0.90973,     0.91018,     0.91063,     0.91109,     0.91154,       0.912,     0.91245,     0.91285,     0.91302,      0.9132,     0.91337,     0.91354,     0.91371,     0.91389,     0.91406,     0.91423,      0.9144,     0.91458,     0.91475,\n",
            "            0.91492,     0.91509,     0.91527,     0.91544,     0.91561,     0.91578,     0.91596,     0.91613,      0.9163,     0.91647,     0.91665,     0.91682,     0.91699,     0.91716,     0.91734,     0.91751,     0.91785,     0.91821,     0.91856,     0.91892,     0.91928,     0.91964,        0.92,\n",
            "            0.92035,     0.92071,     0.92107,     0.92143,     0.92179,     0.92214,     0.92281,     0.92366,     0.92451,     0.92537,     0.92622,     0.92708,     0.92739,     0.92769,       0.928,      0.9283,     0.92861,     0.92891,     0.92922,     0.92952,     0.92983,     0.93013,     0.93044,\n",
            "            0.93074,     0.93105,     0.93135,     0.93166,     0.93195,     0.93208,     0.93222,     0.93236,     0.93249,     0.93263,     0.93277,      0.9329,     0.93304,     0.93318,     0.93331,     0.93345,     0.93358,     0.93372,     0.93386,     0.93399,     0.93413,     0.93427,      0.9344,\n",
            "            0.93454,     0.93468,     0.93481,     0.93495,     0.93509,     0.93522,     0.93536,     0.93549,     0.93563,     0.93577,      0.9359,     0.93604,     0.93618,     0.93631,     0.93645,     0.93659,     0.93672,     0.93686,       0.937,     0.93715,     0.93729,     0.93743,     0.93758,\n",
            "            0.93772,     0.93786,     0.93801,     0.93815,     0.93829,     0.93844,     0.93858,     0.93872,     0.93887,     0.93901,     0.93915,      0.9393,     0.93944,     0.93958,     0.93973,     0.93987,     0.94001,     0.94016,      0.9403,     0.94044,     0.94059,     0.94073,     0.94087,\n",
            "            0.94102,     0.94116,      0.9413,     0.94145,     0.94159,     0.94173,     0.94339,     0.94636,     0.94742,     0.94815,     0.94888,     0.94961,     0.95033,     0.95106,     0.95179,     0.95198,     0.95211,     0.95223,     0.95236,     0.95249,     0.95261,     0.95274,     0.95286,\n",
            "            0.95299,     0.95311,     0.95324,     0.95337,     0.95349,     0.95362,     0.95374,     0.95387,       0.954,     0.95412,     0.95425,     0.95437,      0.9545,     0.95462,     0.95475,     0.95488,       0.955,     0.95513,     0.95525,     0.95538,      0.9555,     0.95563,     0.95576,\n",
            "            0.95588,     0.95601,     0.95613,     0.95626,     0.95639,     0.95651,     0.95664,     0.95676,     0.95689,     0.95702,     0.95717,     0.95733,     0.95748,     0.95763,     0.95778,     0.95794,     0.95809,     0.95824,      0.9584,     0.95855,      0.9587,     0.95886,     0.95901,\n",
            "            0.95916,     0.95932,     0.95947,     0.95962,     0.95977,     0.95993,     0.96008,     0.96023,     0.96039,     0.96054,     0.96069,     0.96085,       0.961,     0.96115,      0.9613,     0.96146,     0.96161,     0.96176,     0.96192,     0.96207,     0.96307,     0.96537,     0.96743,\n",
            "            0.96772,     0.96801,      0.9683,      0.9686,     0.96889,     0.96918,     0.96947,     0.96976,     0.97005,     0.97035,     0.97064,     0.97093,     0.97122,     0.97151,     0.97181,      0.9721,     0.97239,     0.97268,     0.97279,     0.97289,       0.973,     0.97311,     0.97321,\n",
            "            0.97332,     0.97343,     0.97353,     0.97364,     0.97375,     0.97385,     0.97396,     0.97407,     0.97417,     0.97428,     0.97439,     0.97449,      0.9746,     0.97471,     0.97481,     0.97492,     0.97503,     0.97513,     0.97524,     0.97535,     0.97546,     0.97556,     0.97567,\n",
            "            0.97578,     0.97588,     0.97599,      0.9761,      0.9762,     0.97631,     0.97642,     0.97652,     0.97663,     0.97674,     0.97684,     0.97695,     0.97706,     0.97716,     0.97727,     0.97738,     0.97748,     0.97759,      0.9777,      0.9778,     0.97791,     0.97802,     0.97807,\n",
            "            0.97812,     0.97818,     0.97823,     0.97828,     0.97833,     0.97839,     0.97844,     0.97849,     0.97854,      0.9786,     0.97865,      0.9787,     0.97875,     0.97881,     0.97886,     0.97891,     0.97896,     0.97901,     0.97907,     0.97912,     0.97917,     0.97922,     0.97928,\n",
            "            0.97933,     0.97938,     0.97943,     0.97949,     0.97954,     0.97959,     0.97964,      0.9797,     0.97975,      0.9798,     0.97985,      0.9799,     0.97996,     0.98001,     0.98006,     0.98011,     0.98017,     0.98022,     0.98027,     0.98032,     0.98038,     0.98043,     0.98048,\n",
            "            0.98053,     0.98059,     0.98064,     0.98069,     0.98074,     0.98079,     0.98085,      0.9809,     0.98095,       0.981,     0.98106,     0.98111,     0.98116,     0.98121,     0.98127,     0.98132,     0.98137,     0.98142,     0.98148,     0.98153,     0.98158,     0.98163,     0.98168,\n",
            "            0.98174,     0.98179,     0.98184,     0.98189,     0.98195,       0.982,     0.98205,      0.9821,     0.98216,     0.98221,     0.98226,     0.98231,     0.98237,     0.98242,     0.98247,     0.98252,     0.98257,     0.98263,     0.98268,     0.98273,     0.98278,     0.98284,     0.98289,\n",
            "            0.98294,     0.98299,     0.98305,      0.9831,     0.98315,      0.9832,     0.98326,     0.98331,     0.98336,     0.98341,     0.98342,     0.98342,     0.98342,     0.98341,     0.98341,      0.9834,      0.9834,      0.9834,     0.98339,     0.98339,     0.98339,     0.98338,     0.98338,\n",
            "            0.98338,     0.98337,     0.98337,     0.98337,     0.98336,     0.98336,     0.98335,     0.98335,     0.98335,     0.98334,     0.98334,     0.98334,     0.98324,     0.98322,     0.98319,     0.98317,     0.98315,     0.98309,     0.98364,     0.98519,     0.98674,     0.98829,     0.98875,\n",
            "             0.9889,     0.98904,     0.98919,     0.98934,     0.98949,     0.98963,     0.98978,     0.98993,     0.99007,     0.99022,     0.99037,     0.99052,     0.99066,     0.99081,     0.99096,      0.9911,     0.99125,      0.9914,     0.99154,     0.99169,     0.99184,     0.99199,     0.99213,\n",
            "            0.99228,     0.99243,     0.99257,     0.99272,     0.99287,     0.99302,     0.99316,     0.99331,     0.99346,      0.9936,     0.99375,      0.9939,     0.99404,     0.99419,     0.99428,     0.99428,     0.99427,     0.99427,     0.99426,     0.99425,     0.99425,     0.99424,     0.99423,\n",
            "            0.99423,     0.99422,     0.99422,     0.99422,     0.99421,     0.99421,     0.99421,     0.99421,     0.99421,      0.9942,      0.9942,      0.9942,      0.9942,      0.9942,     0.99419,     0.99419,     0.99419,     0.99419,     0.99438,     0.99493,     0.99548,     0.99602,     0.99657,\n",
            "            0.99712,     0.99766,     0.99821,     0.99875,      0.9993,     0.99985,           1,           1,           1,           1,           1,           1,           1,           1,           1,           1,           1,           1,           1,           1,           1,           1,           1,\n",
            "                  1,           1,           1,           1,           1,           1,           1,           1,           1,           1,           1,           1,           1,           1,           1,           1,           1,           1,           1,           1,           1,           1,           1,\n",
            "                  1,           1,           1,           1,           1,           1,           1,           1,           1,           1,           1,           1,           1,           1,           1,           1,           1,           1,           1,           1,           1,           1,           1,\n",
            "                  1,           1,           1,           1,           1,           1,           1,           1,           1,           1,           1,           1,           1,           1,           1,           1,           1,           1,           1,           1,           1,           1,           1,\n",
            "                  1,           1,           1,           1,           1,           1,           1,           1,           1,           1,           1,           1,           1,           1,           1,           1,           1,           1,           1,           1,           1,           1,           1,\n",
            "                  1,           1,           1,           1,           1,           1,           1,           1,           1,           1,           1,           1,           1,           1,           1,           1,           1,           1,           1,           1,           1,           1,           1,\n",
            "                  1,           1,           1,           1,           1,           1,           1,           1,           1,           1,           1,           1,           1,           1,           1,           1,           1,           1,           1,           1,           1,           1,           1,\n",
            "                  1,           1,           1,           1,           1,           1,           1,           1,           1,           1,           1,           1,           1,           1,           1,           1,           1,           1,           1,           1,           1,           1,           1,\n",
            "                  1,           1,           1,           1,           1,           1,           1,           1,           1,           1,           1,           1,           1,           1,           1,           1,           1,           1,           1,           1,           1,           1,           1,\n",
            "                  1,           1,           1,           1,           1,           1,           1,           1,           1,           1,           1,           1,           1,           1,           1,           1,           1,           1,           1,           1,           1,           1,           1,\n",
            "                  1,           1,           1,           1,           1,           1,           1,           1,           1,           1,           1,           1,           1,           1,           1,           1,           1,           1,           1,           1,           1,           1,           1,\n",
            "                  1,           1,           1,           1,           1,           1,           1,           1,           1,           1,           1]]), 'Confidence', 'Precision'], [array([          0,    0.001001,    0.002002,    0.003003,    0.004004,    0.005005,    0.006006,    0.007007,    0.008008,    0.009009,     0.01001,    0.011011,    0.012012,    0.013013,    0.014014,    0.015015,    0.016016,    0.017017,    0.018018,    0.019019,     0.02002,    0.021021,    0.022022,    0.023023,\n",
            "          0.024024,    0.025025,    0.026026,    0.027027,    0.028028,    0.029029,     0.03003,    0.031031,    0.032032,    0.033033,    0.034034,    0.035035,    0.036036,    0.037037,    0.038038,    0.039039,     0.04004,    0.041041,    0.042042,    0.043043,    0.044044,    0.045045,    0.046046,    0.047047,\n",
            "          0.048048,    0.049049,     0.05005,    0.051051,    0.052052,    0.053053,    0.054054,    0.055055,    0.056056,    0.057057,    0.058058,    0.059059,     0.06006,    0.061061,    0.062062,    0.063063,    0.064064,    0.065065,    0.066066,    0.067067,    0.068068,    0.069069,     0.07007,    0.071071,\n",
            "          0.072072,    0.073073,    0.074074,    0.075075,    0.076076,    0.077077,    0.078078,    0.079079,     0.08008,    0.081081,    0.082082,    0.083083,    0.084084,    0.085085,    0.086086,    0.087087,    0.088088,    0.089089,     0.09009,    0.091091,    0.092092,    0.093093,    0.094094,    0.095095,\n",
            "          0.096096,    0.097097,    0.098098,    0.099099,      0.1001,      0.1011,      0.1021,      0.1031,      0.1041,     0.10511,     0.10611,     0.10711,     0.10811,     0.10911,     0.11011,     0.11111,     0.11211,     0.11311,     0.11411,     0.11512,     0.11612,     0.11712,     0.11812,     0.11912,\n",
            "           0.12012,     0.12112,     0.12212,     0.12312,     0.12412,     0.12513,     0.12613,     0.12713,     0.12813,     0.12913,     0.13013,     0.13113,     0.13213,     0.13313,     0.13413,     0.13514,     0.13614,     0.13714,     0.13814,     0.13914,     0.14014,     0.14114,     0.14214,     0.14314,\n",
            "           0.14414,     0.14515,     0.14615,     0.14715,     0.14815,     0.14915,     0.15015,     0.15115,     0.15215,     0.15315,     0.15415,     0.15516,     0.15616,     0.15716,     0.15816,     0.15916,     0.16016,     0.16116,     0.16216,     0.16316,     0.16416,     0.16517,     0.16617,     0.16717,\n",
            "           0.16817,     0.16917,     0.17017,     0.17117,     0.17217,     0.17317,     0.17417,     0.17518,     0.17618,     0.17718,     0.17818,     0.17918,     0.18018,     0.18118,     0.18218,     0.18318,     0.18418,     0.18519,     0.18619,     0.18719,     0.18819,     0.18919,     0.19019,     0.19119,\n",
            "           0.19219,     0.19319,     0.19419,      0.1952,      0.1962,      0.1972,      0.1982,      0.1992,      0.2002,      0.2012,      0.2022,      0.2032,      0.2042,     0.20521,     0.20621,     0.20721,     0.20821,     0.20921,     0.21021,     0.21121,     0.21221,     0.21321,     0.21421,     0.21522,\n",
            "           0.21622,     0.21722,     0.21822,     0.21922,     0.22022,     0.22122,     0.22222,     0.22322,     0.22422,     0.22523,     0.22623,     0.22723,     0.22823,     0.22923,     0.23023,     0.23123,     0.23223,     0.23323,     0.23423,     0.23524,     0.23624,     0.23724,     0.23824,     0.23924,\n",
            "           0.24024,     0.24124,     0.24224,     0.24324,     0.24424,     0.24525,     0.24625,     0.24725,     0.24825,     0.24925,     0.25025,     0.25125,     0.25225,     0.25325,     0.25425,     0.25526,     0.25626,     0.25726,     0.25826,     0.25926,     0.26026,     0.26126,     0.26226,     0.26326,\n",
            "           0.26426,     0.26527,     0.26627,     0.26727,     0.26827,     0.26927,     0.27027,     0.27127,     0.27227,     0.27327,     0.27427,     0.27528,     0.27628,     0.27728,     0.27828,     0.27928,     0.28028,     0.28128,     0.28228,     0.28328,     0.28428,     0.28529,     0.28629,     0.28729,\n",
            "           0.28829,     0.28929,     0.29029,     0.29129,     0.29229,     0.29329,     0.29429,      0.2953,      0.2963,      0.2973,      0.2983,      0.2993,      0.3003,      0.3013,      0.3023,      0.3033,      0.3043,     0.30531,     0.30631,     0.30731,     0.30831,     0.30931,     0.31031,     0.31131,\n",
            "           0.31231,     0.31331,     0.31431,     0.31532,     0.31632,     0.31732,     0.31832,     0.31932,     0.32032,     0.32132,     0.32232,     0.32332,     0.32432,     0.32533,     0.32633,     0.32733,     0.32833,     0.32933,     0.33033,     0.33133,     0.33233,     0.33333,     0.33433,     0.33534,\n",
            "           0.33634,     0.33734,     0.33834,     0.33934,     0.34034,     0.34134,     0.34234,     0.34334,     0.34434,     0.34535,     0.34635,     0.34735,     0.34835,     0.34935,     0.35035,     0.35135,     0.35235,     0.35335,     0.35435,     0.35536,     0.35636,     0.35736,     0.35836,     0.35936,\n",
            "           0.36036,     0.36136,     0.36236,     0.36336,     0.36436,     0.36537,     0.36637,     0.36737,     0.36837,     0.36937,     0.37037,     0.37137,     0.37237,     0.37337,     0.37437,     0.37538,     0.37638,     0.37738,     0.37838,     0.37938,     0.38038,     0.38138,     0.38238,     0.38338,\n",
            "           0.38438,     0.38539,     0.38639,     0.38739,     0.38839,     0.38939,     0.39039,     0.39139,     0.39239,     0.39339,     0.39439,      0.3954,      0.3964,      0.3974,      0.3984,      0.3994,      0.4004,      0.4014,      0.4024,      0.4034,      0.4044,     0.40541,     0.40641,     0.40741,\n",
            "           0.40841,     0.40941,     0.41041,     0.41141,     0.41241,     0.41341,     0.41441,     0.41542,     0.41642,     0.41742,     0.41842,     0.41942,     0.42042,     0.42142,     0.42242,     0.42342,     0.42442,     0.42543,     0.42643,     0.42743,     0.42843,     0.42943,     0.43043,     0.43143,\n",
            "           0.43243,     0.43343,     0.43443,     0.43544,     0.43644,     0.43744,     0.43844,     0.43944,     0.44044,     0.44144,     0.44244,     0.44344,     0.44444,     0.44545,     0.44645,     0.44745,     0.44845,     0.44945,     0.45045,     0.45145,     0.45245,     0.45345,     0.45445,     0.45546,\n",
            "           0.45646,     0.45746,     0.45846,     0.45946,     0.46046,     0.46146,     0.46246,     0.46346,     0.46446,     0.46547,     0.46647,     0.46747,     0.46847,     0.46947,     0.47047,     0.47147,     0.47247,     0.47347,     0.47447,     0.47548,     0.47648,     0.47748,     0.47848,     0.47948,\n",
            "           0.48048,     0.48148,     0.48248,     0.48348,     0.48448,     0.48549,     0.48649,     0.48749,     0.48849,     0.48949,     0.49049,     0.49149,     0.49249,     0.49349,     0.49449,      0.4955,      0.4965,      0.4975,      0.4985,      0.4995,      0.5005,      0.5015,      0.5025,      0.5035,\n",
            "            0.5045,     0.50551,     0.50651,     0.50751,     0.50851,     0.50951,     0.51051,     0.51151,     0.51251,     0.51351,     0.51451,     0.51552,     0.51652,     0.51752,     0.51852,     0.51952,     0.52052,     0.52152,     0.52252,     0.52352,     0.52452,     0.52553,     0.52653,     0.52753,\n",
            "           0.52853,     0.52953,     0.53053,     0.53153,     0.53253,     0.53353,     0.53453,     0.53554,     0.53654,     0.53754,     0.53854,     0.53954,     0.54054,     0.54154,     0.54254,     0.54354,     0.54454,     0.54555,     0.54655,     0.54755,     0.54855,     0.54955,     0.55055,     0.55155,\n",
            "           0.55255,     0.55355,     0.55455,     0.55556,     0.55656,     0.55756,     0.55856,     0.55956,     0.56056,     0.56156,     0.56256,     0.56356,     0.56456,     0.56557,     0.56657,     0.56757,     0.56857,     0.56957,     0.57057,     0.57157,     0.57257,     0.57357,     0.57457,     0.57558,\n",
            "           0.57658,     0.57758,     0.57858,     0.57958,     0.58058,     0.58158,     0.58258,     0.58358,     0.58458,     0.58559,     0.58659,     0.58759,     0.58859,     0.58959,     0.59059,     0.59159,     0.59259,     0.59359,     0.59459,      0.5956,      0.5966,      0.5976,      0.5986,      0.5996,\n",
            "            0.6006,      0.6016,      0.6026,      0.6036,      0.6046,     0.60561,     0.60661,     0.60761,     0.60861,     0.60961,     0.61061,     0.61161,     0.61261,     0.61361,     0.61461,     0.61562,     0.61662,     0.61762,     0.61862,     0.61962,     0.62062,     0.62162,     0.62262,     0.62362,\n",
            "           0.62462,     0.62563,     0.62663,     0.62763,     0.62863,     0.62963,     0.63063,     0.63163,     0.63263,     0.63363,     0.63463,     0.63564,     0.63664,     0.63764,     0.63864,     0.63964,     0.64064,     0.64164,     0.64264,     0.64364,     0.64464,     0.64565,     0.64665,     0.64765,\n",
            "           0.64865,     0.64965,     0.65065,     0.65165,     0.65265,     0.65365,     0.65465,     0.65566,     0.65666,     0.65766,     0.65866,     0.65966,     0.66066,     0.66166,     0.66266,     0.66366,     0.66466,     0.66567,     0.66667,     0.66767,     0.66867,     0.66967,     0.67067,     0.67167,\n",
            "           0.67267,     0.67367,     0.67467,     0.67568,     0.67668,     0.67768,     0.67868,     0.67968,     0.68068,     0.68168,     0.68268,     0.68368,     0.68468,     0.68569,     0.68669,     0.68769,     0.68869,     0.68969,     0.69069,     0.69169,     0.69269,     0.69369,     0.69469,      0.6957,\n",
            "            0.6967,      0.6977,      0.6987,      0.6997,      0.7007,      0.7017,      0.7027,      0.7037,      0.7047,     0.70571,     0.70671,     0.70771,     0.70871,     0.70971,     0.71071,     0.71171,     0.71271,     0.71371,     0.71471,     0.71572,     0.71672,     0.71772,     0.71872,     0.71972,\n",
            "           0.72072,     0.72172,     0.72272,     0.72372,     0.72472,     0.72573,     0.72673,     0.72773,     0.72873,     0.72973,     0.73073,     0.73173,     0.73273,     0.73373,     0.73473,     0.73574,     0.73674,     0.73774,     0.73874,     0.73974,     0.74074,     0.74174,     0.74274,     0.74374,\n",
            "           0.74474,     0.74575,     0.74675,     0.74775,     0.74875,     0.74975,     0.75075,     0.75175,     0.75275,     0.75375,     0.75475,     0.75576,     0.75676,     0.75776,     0.75876,     0.75976,     0.76076,     0.76176,     0.76276,     0.76376,     0.76476,     0.76577,     0.76677,     0.76777,\n",
            "           0.76877,     0.76977,     0.77077,     0.77177,     0.77277,     0.77377,     0.77477,     0.77578,     0.77678,     0.77778,     0.77878,     0.77978,     0.78078,     0.78178,     0.78278,     0.78378,     0.78478,     0.78579,     0.78679,     0.78779,     0.78879,     0.78979,     0.79079,     0.79179,\n",
            "           0.79279,     0.79379,     0.79479,      0.7958,      0.7968,      0.7978,      0.7988,      0.7998,      0.8008,      0.8018,      0.8028,      0.8038,      0.8048,     0.80581,     0.80681,     0.80781,     0.80881,     0.80981,     0.81081,     0.81181,     0.81281,     0.81381,     0.81481,     0.81582,\n",
            "           0.81682,     0.81782,     0.81882,     0.81982,     0.82082,     0.82182,     0.82282,     0.82382,     0.82482,     0.82583,     0.82683,     0.82783,     0.82883,     0.82983,     0.83083,     0.83183,     0.83283,     0.83383,     0.83483,     0.83584,     0.83684,     0.83784,     0.83884,     0.83984,\n",
            "           0.84084,     0.84184,     0.84284,     0.84384,     0.84484,     0.84585,     0.84685,     0.84785,     0.84885,     0.84985,     0.85085,     0.85185,     0.85285,     0.85385,     0.85485,     0.85586,     0.85686,     0.85786,     0.85886,     0.85986,     0.86086,     0.86186,     0.86286,     0.86386,\n",
            "           0.86486,     0.86587,     0.86687,     0.86787,     0.86887,     0.86987,     0.87087,     0.87187,     0.87287,     0.87387,     0.87487,     0.87588,     0.87688,     0.87788,     0.87888,     0.87988,     0.88088,     0.88188,     0.88288,     0.88388,     0.88488,     0.88589,     0.88689,     0.88789,\n",
            "           0.88889,     0.88989,     0.89089,     0.89189,     0.89289,     0.89389,     0.89489,      0.8959,      0.8969,      0.8979,      0.8989,      0.8999,      0.9009,      0.9019,      0.9029,      0.9039,      0.9049,     0.90591,     0.90691,     0.90791,     0.90891,     0.90991,     0.91091,     0.91191,\n",
            "           0.91291,     0.91391,     0.91491,     0.91592,     0.91692,     0.91792,     0.91892,     0.91992,     0.92092,     0.92192,     0.92292,     0.92392,     0.92492,     0.92593,     0.92693,     0.92793,     0.92893,     0.92993,     0.93093,     0.93193,     0.93293,     0.93393,     0.93493,     0.93594,\n",
            "           0.93694,     0.93794,     0.93894,     0.93994,     0.94094,     0.94194,     0.94294,     0.94394,     0.94494,     0.94595,     0.94695,     0.94795,     0.94895,     0.94995,     0.95095,     0.95195,     0.95295,     0.95395,     0.95495,     0.95596,     0.95696,     0.95796,     0.95896,     0.95996,\n",
            "           0.96096,     0.96196,     0.96296,     0.96396,     0.96496,     0.96597,     0.96697,     0.96797,     0.96897,     0.96997,     0.97097,     0.97197,     0.97297,     0.97397,     0.97497,     0.97598,     0.97698,     0.97798,     0.97898,     0.97998,     0.98098,     0.98198,     0.98298,     0.98398,\n",
            "           0.98498,     0.98599,     0.98699,     0.98799,     0.98899,     0.98999,     0.99099,     0.99199,     0.99299,     0.99399,     0.99499,       0.996,       0.997,       0.998,       0.999,           1]), array([[          1,           1,           1,           1,           1,           1,           1,           1,           1,           1,           1,           1,           1,           1,           1,           1,           1,           1,           1,           1,           1,           1,           1,\n",
            "                  1,           1,           1,           1,           1,           1,           1,           1,           1,           1,           1,           1,           1,           1,           1,           1,           1,           1,           1,           1,           1,           1,           1,\n",
            "                  1,           1,           1,           1,           1,           1,           1,           1,           1,           1,           1,           1,           1,           1,           1,           1,           1,           1,           1,           1,           1,           1,           1,\n",
            "                  1,           1,           1,           1,           1,           1,           1,           1,           1,           1,           1,           1,           1,           1,           1,           1,           1,           1,           1,           1,           1,           1,           1,\n",
            "                  1,           1,           1,           1,           1,           1,           1,           1,           1,           1,           1,           1,           1,           1,           1,           1,           1,           1,           1,           1,           1,           1,           1,\n",
            "                  1,           1,           1,           1,           1,           1,           1,           1,           1,           1,           1,           1,           1,           1,           1,           1,           1,           1,           1,           1,           1,           1,           1,\n",
            "                  1,           1,           1,           1,           1,           1,           1,           1,           1,     0.99978,     0.99932,     0.99886,      0.9984,     0.99795,     0.99749,     0.99703,     0.99657,     0.99611,     0.99566,      0.9952,     0.99474,     0.99444,     0.99444,\n",
            "            0.99444,      0.9942,     0.98889,     0.98889,     0.98889,     0.98889,     0.98889,     0.98889,     0.98889,     0.98889,     0.98889,     0.98889,     0.98889,     0.98889,     0.98889,     0.98889,     0.98889,     0.98889,     0.98889,     0.98889,     0.98889,     0.98889,     0.98889,\n",
            "            0.98889,     0.98889,     0.98889,     0.98889,     0.98889,     0.98889,     0.98889,     0.98889,     0.98889,     0.98889,     0.98889,     0.98889,     0.98889,     0.98889,     0.98889,     0.98889,     0.98889,     0.98889,     0.98889,     0.98889,     0.98889,     0.98889,     0.98889,\n",
            "            0.98889,     0.98889,     0.98889,     0.98889,     0.98889,     0.98889,     0.98889,     0.98889,     0.98889,     0.98889,     0.98889,     0.98889,     0.98889,     0.98889,     0.98889,     0.98889,     0.98889,     0.98889,     0.98889,     0.98889,     0.98889,     0.98889,     0.98889,\n",
            "            0.98889,     0.98889,     0.98889,     0.98889,     0.98889,     0.98889,     0.98889,     0.98889,     0.98889,     0.98889,     0.98889,     0.98889,     0.98889,     0.98889,     0.98889,     0.98889,     0.98889,     0.98889,     0.98889,     0.98889,     0.98889,     0.98889,     0.98889,\n",
            "            0.98889,     0.98889,     0.98889,     0.98889,     0.98889,     0.98889,     0.98889,     0.98889,     0.98889,     0.98889,     0.98889,     0.98889,     0.98889,     0.98889,     0.98889,     0.98889,     0.98889,     0.98889,     0.98889,     0.98889,     0.98889,     0.98889,     0.98889,\n",
            "            0.98889,     0.98889,     0.98889,     0.98889,     0.98889,     0.98889,     0.98889,     0.98889,     0.98889,     0.98889,     0.98889,     0.98889,     0.98889,     0.98889,     0.98889,     0.98889,     0.98889,     0.98889,     0.98889,     0.98889,     0.98889,     0.98889,     0.98889,\n",
            "            0.98889,     0.98889,     0.98889,     0.98889,     0.98889,     0.98889,     0.98889,     0.98889,     0.98889,     0.98889,     0.98889,     0.98889,     0.98889,     0.98889,     0.98889,     0.98889,     0.98889,     0.98889,     0.98889,     0.98889,     0.98889,     0.98889,     0.98889,\n",
            "            0.98889,     0.98889,     0.98889,     0.98889,     0.98889,     0.98889,     0.98889,     0.98889,     0.98889,     0.98889,     0.98889,     0.98889,     0.98889,     0.98889,     0.98889,     0.98889,     0.98889,     0.98889,     0.98889,     0.98889,     0.98889,     0.98889,     0.98889,\n",
            "            0.98889,     0.98889,     0.98889,     0.98889,     0.98889,     0.98889,     0.98889,     0.98889,     0.98889,     0.98889,     0.98889,     0.98889,     0.98889,     0.98889,     0.98889,     0.98889,     0.98889,     0.98889,     0.98889,     0.98889,     0.98889,     0.98889,     0.98889,\n",
            "            0.98889,     0.98889,     0.98889,     0.98889,     0.98889,     0.98889,     0.98889,     0.98889,     0.98889,     0.98889,     0.98889,     0.98889,     0.98889,     0.98889,     0.98889,     0.98889,     0.98889,     0.98889,     0.98889,     0.98889,     0.98889,     0.98889,     0.98889,\n",
            "            0.98889,     0.98889,     0.98889,     0.98889,     0.98889,     0.98889,     0.98889,     0.98889,     0.98889,     0.98889,     0.98889,     0.98889,     0.98889,     0.98889,     0.98889,     0.98889,     0.98889,     0.98889,     0.98889,     0.98889,     0.98889,     0.98889,     0.98889,\n",
            "            0.98889,     0.98889,     0.98889,     0.98889,     0.98889,     0.98889,     0.98889,     0.98889,     0.98889,     0.98889,     0.98889,     0.98889,     0.98889,     0.98889,     0.98889,     0.98889,     0.98889,     0.98889,     0.98889,     0.98889,     0.98889,     0.98889,     0.98889,\n",
            "            0.98889,     0.98889,     0.98889,     0.98889,     0.98889,     0.98889,     0.98889,     0.98889,     0.98889,     0.98889,     0.98889,     0.98889,     0.98889,     0.98889,     0.98889,     0.98889,     0.98889,     0.98889,     0.98889,     0.98889,     0.98889,     0.98889,     0.98889,\n",
            "            0.98889,     0.98889,     0.98889,     0.98889,     0.98889,     0.98889,     0.98889,     0.98889,     0.98889,     0.98889,     0.98889,     0.98889,     0.98889,     0.98889,     0.98889,     0.98889,     0.98889,     0.98889,     0.98889,     0.98889,     0.98889,     0.98889,     0.98889,\n",
            "            0.98889,     0.98889,     0.98889,     0.98889,     0.98889,     0.98889,     0.98889,     0.98889,     0.98889,     0.98889,     0.98889,     0.98889,     0.98889,     0.98889,     0.98889,     0.98889,     0.98889,     0.98889,     0.98889,     0.98889,     0.98889,     0.98889,     0.98889,\n",
            "            0.98889,     0.98889,     0.98889,     0.98889,     0.98889,     0.98889,     0.98889,     0.98889,     0.98889,     0.98889,     0.98889,     0.98889,     0.98889,     0.98889,     0.98889,     0.98889,     0.98889,     0.98889,     0.98889,     0.98889,     0.98889,     0.98889,     0.98889,\n",
            "            0.98889,     0.98889,     0.98889,     0.98889,     0.98889,     0.98889,     0.98889,     0.98889,     0.98889,     0.98889,     0.98889,     0.98889,     0.98889,     0.98889,     0.98889,     0.98889,     0.98889,     0.98889,     0.98889,     0.98889,     0.98889,     0.98889,     0.98889,\n",
            "            0.98889,     0.98889,     0.98889,     0.98889,     0.98889,     0.98889,     0.98889,     0.98889,     0.98889,     0.98889,     0.98889,     0.98889,     0.98889,     0.98889,     0.98889,     0.98889,     0.98889,     0.98889,     0.98889,     0.98889,     0.98889,     0.98889,     0.98889,\n",
            "            0.98889,     0.98889,     0.98889,     0.98889,     0.98889,     0.98889,     0.98889,     0.98889,     0.98889,     0.98889,     0.98889,     0.98889,     0.98889,     0.98889,     0.98889,     0.98889,     0.98889,     0.98889,     0.98889,     0.98889,     0.98889,     0.98889,     0.98889,\n",
            "            0.98889,     0.98889,     0.98889,     0.98889,     0.98889,     0.98889,     0.98889,     0.98889,     0.98889,     0.98889,     0.98889,     0.98889,     0.98889,     0.98889,     0.98889,     0.98889,     0.98889,     0.98889,     0.98889,     0.98889,     0.98889,     0.98889,     0.98889,\n",
            "            0.98889,     0.98889,     0.98889,     0.98889,     0.98889,     0.98889,     0.98889,     0.98889,     0.98889,     0.98889,     0.98873,     0.98851,     0.98829,     0.98808,     0.98786,     0.98764,     0.98743,     0.98721,     0.98699,     0.98678,     0.98656,     0.98634,     0.98613,\n",
            "            0.98591,     0.98569,     0.98548,     0.98526,     0.98504,     0.98483,     0.98461,     0.98439,     0.98418,     0.98396,     0.98374,     0.98353,     0.97767,     0.97636,     0.97506,     0.97375,     0.97245,     0.96905,     0.96667,     0.96667,     0.96667,     0.96667,     0.96667,\n",
            "            0.96667,     0.96667,     0.96667,     0.96667,     0.96667,     0.96667,     0.96667,     0.96667,     0.96667,     0.96667,     0.96667,     0.96667,     0.96667,     0.96667,     0.96667,     0.96667,     0.96667,     0.96667,     0.96667,     0.96667,     0.96667,     0.96667,     0.96667,\n",
            "            0.96667,     0.96667,     0.96667,     0.96667,     0.96667,     0.96667,     0.96667,     0.96667,     0.96667,     0.96667,     0.96667,     0.96667,     0.96667,     0.96667,     0.96629,     0.96525,     0.96421,     0.96317,     0.96213,     0.96109,     0.95995,     0.95882,     0.95769,\n",
            "            0.95656,     0.95552,     0.95519,     0.95485,     0.95452,     0.95419,     0.95386,     0.95353,      0.9532,     0.95287,     0.95253,      0.9522,     0.95187,     0.95154,     0.95121,     0.95088,     0.95054,     0.95021,        0.95,        0.95,        0.95,        0.95,        0.95,\n",
            "               0.95,        0.95,        0.95,        0.95,        0.95,        0.95,     0.94937,     0.94851,     0.94764,     0.94677,      0.9459,     0.94503,     0.94344,     0.94037,     0.93643,     0.93252,     0.93018,     0.92784,     0.92738,     0.92696,     0.92655,     0.92614,     0.92572,\n",
            "            0.92531,     0.92489,     0.92448,     0.92407,     0.92365,     0.92324,     0.92283,     0.92241,     0.92204,      0.9217,     0.92136,     0.92102,     0.92068,     0.92034,        0.92,     0.91966,     0.91933,     0.91899,     0.91865,     0.91831,     0.91797,     0.91763,     0.91729,\n",
            "            0.91695,      0.9166,     0.91622,     0.91583,     0.91544,     0.91506,     0.91467,     0.91428,      0.9139,     0.91351,     0.91312,     0.91274,     0.91235,     0.91196,     0.91158,     0.91119,     0.90898,     0.90629,     0.90359,     0.90089,     0.89185,     0.88851,     0.88775,\n",
            "            0.88699,     0.88624,     0.88548,     0.88472,     0.88397,     0.88311,     0.88173,     0.88036,     0.87898,     0.87538,     0.86517,     0.86284,      0.8478,     0.83402,      0.8275,     0.82532,     0.82315,     0.81901,     0.81477,      0.8115,     0.80933,      0.8073,     0.79818,\n",
            "             0.7894,     0.77722,     0.76525,     0.75733,     0.73285,     0.72331,     0.69888,     0.67821,     0.67265,     0.65837,     0.64601,     0.63236,      0.6138,     0.60243,     0.58614,     0.57092,     0.56829,     0.56284,     0.54064,     0.52642,      0.5099,     0.49737,     0.48647,\n",
            "             0.4647,      0.4499,      0.4373,     0.43455,     0.42028,     0.40964,     0.40605,     0.40069,     0.38992,     0.36529,     0.34414,     0.33577,     0.33157,     0.32219,     0.31198,     0.29158,     0.27077,     0.25949,     0.24128,     0.23542,     0.22767,     0.21465,     0.20588,\n",
            "            0.19009,     0.17622,     0.17295,     0.16992,     0.16697,     0.15263,     0.14839,      0.1388,     0.13657,     0.13434,     0.12214,     0.10497,    0.098496,      0.0912,    0.083048,    0.081896,    0.080744,    0.079592,    0.078441,    0.072095,     0.07075,    0.069406,    0.068061,\n",
            "           0.066717,    0.063915,    0.061028,    0.056683,    0.053413,    0.050519,    0.048666,     0.04704,    0.045415,    0.039047,    0.037155,    0.035401,    0.033647,    0.027581,    0.025799,    0.024018,    0.022236,    0.021682,    0.021138,    0.020594,     0.02005,    0.019505,    0.018961,\n",
            "           0.018417,    0.017873,    0.017328,    0.016784,    0.015279,    0.013509,    0.011739,    0.010099,   0.0085312,   0.0069632,           0,           0,           0,           0,           0,           0,           0,           0,           0,           0,           0,           0,           0,\n",
            "                  0,           0,           0,           0,           0,           0,           0,           0,           0,           0,           0,           0,           0,           0,           0,           0,           0,           0,           0,           0,           0,           0,           0,\n",
            "                  0,           0,           0,           0,           0,           0,           0,           0,           0,           0,           0,           0,           0,           0,           0,           0,           0,           0,           0,           0,           0,           0,           0,\n",
            "                  0,           0,           0,           0,           0,           0,           0,           0,           0,           0,           0]]), 'Confidence', 'Recall']]\n",
            "fitness: 0.7639168073787315\n",
            "keys: ['metrics/precision(B)', 'metrics/recall(B)', 'metrics/mAP50(B)', 'metrics/mAP50-95(B)']\n",
            "maps: array([    0.73846])\n",
            "names: {0: 'license_plate'}\n",
            "plot: True\n",
            "results_dict: {'metrics/precision(B)': 0.9817895021391608, 'metrics/recall(B)': 0.9888888888888889, 'metrics/mAP50(B)': 0.993037634895282, 'metrics/mAP50-95(B)': 0.7384589376546703, 'fitness': 0.7639168073787315}\n",
            "save_dir: PosixPath('/content/yolo_training/license_plate_model')\n",
            "speed: {'preprocess': 0.2161052491929796, 'inference': 13.646287388271755, 'loss': 0.0009033415052625868, 'postprocess': 0.8945438596937392}\n",
            "task: 'detect'\n"
          ]
        }
      ],
      "source": [
        "results = model.val()\n",
        "print(results)\n"
      ]
    },
    {
      "cell_type": "code",
      "execution_count": null,
      "metadata": {
        "colab": {
          "base_uri": "https://localhost:8080/"
        },
        "id": "3UvHP_trOvXO",
        "outputId": "6b663c46-587d-4fd5-e953-51ab3178c755"
      },
      "outputs": [
        {
          "name": "stdout",
          "output_type": "stream",
          "text": [
            "\n",
            "image 1/1 /content/train/images/26.jpg: 384x640 1 license_plate, 72.2ms\n",
            "Speed: 4.8ms preprocess, 72.2ms inference, 2.3ms postprocess per image at shape (1, 3, 384, 640)\n",
            "[ultralytics.engine.results.Results object with attributes:\n",
            "\n",
            "boxes: ultralytics.engine.results.Boxes object\n",
            "keypoints: None\n",
            "masks: None\n",
            "names: {0: 'license_plate'}\n",
            "obb: None\n",
            "orig_img: array([[[167, 163, 162],\n",
            "        [166, 162, 161],\n",
            "        [165, 161, 160],\n",
            "        ...,\n",
            "        [107, 112, 111],\n",
            "        [113, 118, 116],\n",
            "        [110, 117, 114]],\n",
            "\n",
            "       [[166, 162, 161],\n",
            "        [166, 162, 161],\n",
            "        [165, 161, 160],\n",
            "        ...,\n",
            "        [145, 150, 149],\n",
            "        [120, 127, 124],\n",
            "        [119, 126, 123]],\n",
            "\n",
            "       [[173, 169, 168],\n",
            "        [172, 168, 167],\n",
            "        [171, 167, 166],\n",
            "        ...,\n",
            "        [147, 152, 151],\n",
            "        [121, 127, 126],\n",
            "        [118, 126, 125]],\n",
            "\n",
            "       ...,\n",
            "\n",
            "       [[ 33,  28,  29],\n",
            "        [ 35,  30,  31],\n",
            "        [ 38,  33,  34],\n",
            "        ...,\n",
            "        [ 93,  81,  75],\n",
            "        [ 97,  85,  79],\n",
            "        [ 97,  85,  79]],\n",
            "\n",
            "       [[ 31,  26,  27],\n",
            "        [ 32,  27,  28],\n",
            "        [ 33,  28,  29],\n",
            "        ...,\n",
            "        [ 93,  81,  75],\n",
            "        [ 92,  80,  74],\n",
            "        [ 92,  80,  74]],\n",
            "\n",
            "       [[ 31,  26,  27],\n",
            "        [ 30,  25,  26],\n",
            "        [ 30,  25,  26],\n",
            "        ...,\n",
            "        [ 91,  80,  76],\n",
            "        [ 85,  74,  70],\n",
            "        [ 85,  74,  70]]], dtype=uint8)\n",
            "orig_shape: (477, 850)\n",
            "path: '/content/train/images/26.jpg'\n",
            "probs: None\n",
            "save_dir: '/content/yolo_training/license_plate_model'\n",
            "speed: {'preprocess': 4.789829254150391, 'inference': 72.19076156616211, 'postprocess': 2.279996871948242}]\n"
          ]
        }
      ],
      "source": [
        "results = model.predict(\"/content/train/images/26.jpg\")\n",
        "print(results)"
      ]
    },
    {
      "cell_type": "code",
      "execution_count": null,
      "metadata": {
        "colab": {
          "base_uri": "https://localhost:8080/",
          "height": 542
        },
        "id": "lpihhPpaMYqR",
        "outputId": "d601650e-433b-40fc-c965-7dad4b2c5d76"
      },
      "outputs": [
        {
          "name": "stdout",
          "output_type": "stream",
          "text": [
            "\n",
            "0: 480x640 1 license_plate, 355.6ms\n",
            "Speed: 22.7ms preprocess, 355.6ms inference, 36.6ms postprocess per image at shape (1, 3, 480, 640)\n",
            "Detected boxes and confidence scores:\n",
            "License plate detected at coordinates: (104.11653137207031, 376.3848876953125), (206.9141387939453, 448.380859375) with confidence: 0.89 and class ID: 0.0\n"
          ]
        },
        {
          "data": {
            "image/png": "[encoded data removed]",
            "text/plain": [
              "<Figure size 640x480 with 1 Axes>"
            ]
          },
          "metadata": {},
          "output_type": "display_data"
        }
      ],
      "source": [
        "import torch\n",
        "import cv2\n",
        "import matplotlib.pyplot as plt\n",
        "\n",
        "# Load a test image\n",
        "image = cv2.imread('/content/extracted_detection_images/license_plates_detection_train/130.jpg')\n",
        "\n",
        "\n",
        "results = model(image)\n",
        "\n",
        "# Check if results are returned as a list and access the first image's results\n",
        "if isinstance(results, list):\n",
        "    results = results[0]  # Get the first result from the list (in case of multiple images)\n",
        "\n",
        "# The 'results' object should now have attributes like 'xyxy', 'confidence', etc.\n",
        "# To print detection results (e.g., bounding boxes and confidence scores)\n",
        "print(\"Detected boxes and confidence scores:\")\n",
        "for box in results.boxes:\n",
        "    # Get bounding box coordinates (x1, y1, x2, y2)\n",
        "    x1, y1, x2, y2 = box.xyxy[0].tolist()\n",
        "    conf = box.conf[0].item()  # Confidence score\n",
        "    cls = box.cls[0].item()  # Class ID (e.g., 'license_plate' ID)\n",
        "\n",
        "    print(f\"License plate detected at coordinates: ({x1}, {y1}), ({x2}, {y2}) with confidence: {conf:.2f} and class ID: {cls}\")\n",
        "\n",
        "    # Draw bounding boxes on the image\n",
        "    cv2.rectangle(image, (int(x1), int(y1)), (int(x2), int(y2)), (0, 255, 0), 2)\n",
        "    cv2.putText(image, f\"{conf:.2f}\", (int(x1), int(y1) - 10), cv2.FONT_HERSHEY_SIMPLEX, 1, (0, 255, 0), 2)\n",
        "\n",
        "# Show the image with bounding boxes\n",
        "plt.imshow(cv2.cvtColor(image, cv2.COLOR_BGR2RGB))\n",
        "plt.show()"
      ]
    },
    {
      "cell_type": "code",
      "execution_count": null,
      "metadata": {
        "id": "4Y_fh10iNhhK"
      },
      "outputs": [],
      "source": [
        "model.save('best.pt')"
      ]
    },
    {
      "cell_type": "code",
      "execution_count": null,
      "metadata": {
        "id": "nuZRriiEQJAF"
      },
      "outputs": [],
      "source": [
        "from ultralytics import YOLO\n",
        "\n",
        "# Path to the trained model weights\n",
        "model_path = '/content/best (1).pt'\n",
        "\n",
        "# Load the trained model\n",
        "model = YOLO(model_path)\n"
      ]
    },
    {
      "cell_type": "code",
      "source": [
        "!pip install pytesseract"
      ],
      "metadata": {
        "colab": {
          "base_uri": "https://localhost:8080/"
        },
        "id": "Av17O7xJySyB",
        "outputId": "cce3a1fd-b699-4891-d617-de45dee1a173"
      },
      "execution_count": null,
      "outputs": [
        {
          "output_type": "stream",
          "name": "stdout",
          "text": [
            "Collecting pytesseract\n",
            "  Downloading pytesseract-0.3.13-py3-none-any.whl.metadata (11 kB)\n",
            "Requirement already satisfied: packaging>=21.3 in /usr/local/lib/python3.10/dist-packages (from pytesseract) (24.2)\n",
            "Requirement already satisfied: Pillow>=8.0.0 in /usr/local/lib/python3.10/dist-packages (from pytesseract) (11.0.0)\n",
            "Downloading pytesseract-0.3.13-py3-none-any.whl (14 kB)\n",
            "Installing collected packages: pytesseract\n",
            "Successfully installed pytesseract-0.3.13\n"
          ]
        }
      ]
    },
    {
      "cell_type": "code",
      "execution_count": null,
      "metadata": {
        "colab": {
          "base_uri": "https://localhost:8080/"
        },
        "id": "mqjrODhVPelw",
        "outputId": "97c5e422-5e45-4627-82fc-d09800f335e4"
      },
      "outputs": [
        {
          "output_type": "stream",
          "name": "stderr",
          "text": [
            "WARNING:easyocr.easyocr:Neither CUDA nor MPS are available - defaulting to CPU. Note: This module is much faster with a GPU.\n"
          ]
        },
        {
          "output_type": "stream",
          "name": "stdout",
          "text": [
            "\n",
            "image 1/1 /content/extracted_detection_images/test/test/1060.jpg: 640x416 1 license_plate, 168.7ms\n",
            "Speed: 3.4ms preprocess, 168.7ms inference, 1.0ms postprocess per image at shape (1, 3, 640, 416)\n",
            "\n",
            "image 1/1 /content/extracted_detection_images/test/test/953.jpg: 480x640 1 license_plate, 170.3ms\n",
            "Speed: 3.0ms preprocess, 170.3ms inference, 1.0ms postprocess per image at shape (1, 3, 480, 640)\n",
            "\n",
            "image 1/1 /content/extracted_detection_images/test/test/1084.jpg: 480x640 1 license_plate, 176.7ms\n",
            "Speed: 4.5ms preprocess, 176.7ms inference, 1.0ms postprocess per image at shape (1, 3, 480, 640)\n",
            "\n",
            "image 1/1 /content/extracted_detection_images/test/test/911.jpg: 640x480 2 license_plates, 165.1ms\n",
            "Speed: 3.3ms preprocess, 165.1ms inference, 0.9ms postprocess per image at shape (1, 3, 640, 480)\n",
            "\n",
            "image 1/1 /content/extracted_detection_images/test/test/932.jpg: 640x480 1 license_plate, 158.4ms\n",
            "Speed: 3.2ms preprocess, 158.4ms inference, 0.9ms postprocess per image at shape (1, 3, 640, 480)\n",
            "\n",
            "image 1/1 /content/extracted_detection_images/test/test/1021.jpg: 640x384 1 license_plate, 151.3ms\n",
            "Speed: 2.8ms preprocess, 151.3ms inference, 0.9ms postprocess per image at shape (1, 3, 640, 384)\n",
            "\n",
            "image 1/1 /content/extracted_detection_images/test/test/1107.jpg: 480x640 1 license_plate, 170.1ms\n",
            "Speed: 4.1ms preprocess, 170.1ms inference, 0.9ms postprocess per image at shape (1, 3, 480, 640)\n",
            "\n",
            "image 1/1 /content/extracted_detection_images/test/test/979.jpg: 480x640 1 license_plate, 171.6ms\n",
            "Speed: 3.0ms preprocess, 171.6ms inference, 0.9ms postprocess per image at shape (1, 3, 480, 640)\n",
            "\n",
            "image 1/1 /content/extracted_detection_images/test/test/937.jpg: 480x640 1 license_plate, 163.1ms\n",
            "Speed: 2.9ms preprocess, 163.1ms inference, 1.0ms postprocess per image at shape (1, 3, 480, 640)\n",
            "\n",
            "image 1/1 /content/extracted_detection_images/test/test/920.jpg: 384x640 1 license_plate, 145.1ms\n",
            "Speed: 2.7ms preprocess, 145.1ms inference, 0.9ms postprocess per image at shape (1, 3, 384, 640)\n",
            "\n",
            "image 1/1 /content/extracted_detection_images/test/test/948.jpg: 384x640 1 license_plate, 132.8ms\n",
            "Speed: 2.6ms preprocess, 132.8ms inference, 1.0ms postprocess per image at shape (1, 3, 384, 640)\n",
            "\n",
            "image 1/1 /content/extracted_detection_images/test/test/919.jpg: 384x640 1 license_plate, 132.3ms\n",
            "Speed: 2.7ms preprocess, 132.3ms inference, 0.9ms postprocess per image at shape (1, 3, 384, 640)\n",
            "\n",
            "image 1/1 /content/extracted_detection_images/test/test/942.jpg: 384x640 1 license_plate, 139.3ms\n",
            "Speed: 2.5ms preprocess, 139.3ms inference, 1.3ms postprocess per image at shape (1, 3, 384, 640)\n",
            "\n",
            "image 1/1 /content/extracted_detection_images/test/test/1001.jpg: 640x384 1 license_plate, 139.2ms\n",
            "Speed: 3.1ms preprocess, 139.2ms inference, 0.9ms postprocess per image at shape (1, 3, 640, 384)\n",
            "\n",
            "image 1/1 /content/extracted_detection_images/test/test/952.jpg: 384x640 1 license_plate, 163.2ms\n",
            "Speed: 2.6ms preprocess, 163.2ms inference, 1.7ms postprocess per image at shape (1, 3, 384, 640)\n",
            "\n",
            "image 1/1 /content/extracted_detection_images/test/test/985.jpg: 640x480 1 license_plate, 271.9ms\n",
            "Speed: 3.9ms preprocess, 271.9ms inference, 1.2ms postprocess per image at shape (1, 3, 640, 480)\n",
            "\n",
            "image 1/1 /content/extracted_detection_images/test/test/1048.jpg: 480x640 1 license_plate, 262.9ms\n",
            "Speed: 4.2ms preprocess, 262.9ms inference, 1.1ms postprocess per image at shape (1, 3, 480, 640)\n",
            "\n",
            "image 1/1 /content/extracted_detection_images/test/test/909.jpg: 640x480 1 license_plate, 260.9ms\n",
            "Speed: 3.8ms preprocess, 260.9ms inference, 1.3ms postprocess per image at shape (1, 3, 640, 480)\n",
            "\n",
            "image 1/1 /content/extracted_detection_images/test/test/1053.jpg: 640x480 1 license_plate, 258.2ms\n",
            "Speed: 8.2ms preprocess, 258.2ms inference, 1.3ms postprocess per image at shape (1, 3, 640, 480)\n",
            "\n",
            "image 1/1 /content/extracted_detection_images/test/test/1020.jpg: 640x480 1 license_plate, 251.1ms\n",
            "Speed: 4.3ms preprocess, 251.1ms inference, 1.2ms postprocess per image at shape (1, 3, 640, 480)\n",
            "\n",
            "image 1/1 /content/extracted_detection_images/test/test/1042.jpg: 384x640 1 license_plate, 223.7ms\n",
            "Speed: 3.7ms preprocess, 223.7ms inference, 1.2ms postprocess per image at shape (1, 3, 384, 640)\n",
            "\n",
            "image 1/1 /content/extracted_detection_images/test/test/906.jpg: 384x640 1 license_plate, 217.0ms\n",
            "Speed: 4.4ms preprocess, 217.0ms inference, 1.3ms postprocess per image at shape (1, 3, 384, 640)\n",
            "\n",
            "image 1/1 /content/extracted_detection_images/test/test/925.jpg: 640x384 1 license_plate, 236.9ms\n",
            "Speed: 3.2ms preprocess, 236.9ms inference, 1.2ms postprocess per image at shape (1, 3, 640, 384)\n",
            "\n",
            "image 1/1 /content/extracted_detection_images/test/test/1016.jpg: 480x640 1 license_plate, 257.3ms\n",
            "Speed: 3.8ms preprocess, 257.3ms inference, 1.3ms postprocess per image at shape (1, 3, 480, 640)\n",
            "\n",
            "image 1/1 /content/extracted_detection_images/test/test/969.jpg: 640x480 1 license_plate, 157.9ms\n",
            "Speed: 3.0ms preprocess, 157.9ms inference, 1.0ms postprocess per image at shape (1, 3, 640, 480)\n",
            "\n",
            "image 1/1 /content/extracted_detection_images/test/test/1106.jpg: 640x480 2 license_plates, 159.8ms\n",
            "Speed: 2.6ms preprocess, 159.8ms inference, 0.9ms postprocess per image at shape (1, 3, 640, 480)\n",
            "\n",
            "image 1/1 /content/extracted_detection_images/test/test/1096.jpg: 480x640 1 license_plate, 175.1ms\n",
            "Speed: 3.0ms preprocess, 175.1ms inference, 1.0ms postprocess per image at shape (1, 3, 480, 640)\n",
            "\n",
            "image 1/1 /content/extracted_detection_images/test/test/1068.jpg: 480x640 1 license_plate, 163.5ms\n",
            "Speed: 5.3ms preprocess, 163.5ms inference, 1.0ms postprocess per image at shape (1, 3, 480, 640)\n",
            "\n",
            "image 1/1 /content/extracted_detection_images/test/test/1082.jpg: 640x480 1 license_plate, 173.3ms\n",
            "Speed: 3.3ms preprocess, 173.3ms inference, 0.9ms postprocess per image at shape (1, 3, 640, 480)\n",
            "\n",
            "image 1/1 /content/extracted_detection_images/test/test/1051.jpg: 416x640 1 license_plate, 144.0ms\n",
            "Speed: 3.3ms preprocess, 144.0ms inference, 0.9ms postprocess per image at shape (1, 3, 416, 640)\n",
            "\n",
            "image 1/1 /content/extracted_detection_images/test/test/913.jpg: 480x640 1 license_plate, 157.5ms\n",
            "Speed: 2.9ms preprocess, 157.5ms inference, 1.0ms postprocess per image at shape (1, 3, 480, 640)\n",
            "\n",
            "image 1/1 /content/extracted_detection_images/test/test/1023.jpg: 384x640 1 license_plate, 144.1ms\n",
            "Speed: 2.5ms preprocess, 144.1ms inference, 0.9ms postprocess per image at shape (1, 3, 384, 640)\n",
            "\n",
            "image 1/1 /content/extracted_detection_images/test/test/967.jpg: 640x480 1 license_plate, 163.9ms\n",
            "Speed: 3.8ms preprocess, 163.9ms inference, 0.9ms postprocess per image at shape (1, 3, 640, 480)\n",
            "\n",
            "image 1/1 /content/extracted_detection_images/test/test/997.jpg: 640x480 1 license_plate, 159.7ms\n",
            "Speed: 3.5ms preprocess, 159.7ms inference, 0.9ms postprocess per image at shape (1, 3, 640, 480)\n",
            "\n",
            "image 1/1 /content/extracted_detection_images/test/test/955.jpg: 640x384 1 license_plate, 150.7ms\n",
            "Speed: 2.6ms preprocess, 150.7ms inference, 1.0ms postprocess per image at shape (1, 3, 640, 384)\n",
            "\n",
            "image 1/1 /content/extracted_detection_images/test/test/1024.jpg: 384x640 1 license_plate, 137.2ms\n",
            "Speed: 2.7ms preprocess, 137.2ms inference, 0.9ms postprocess per image at shape (1, 3, 384, 640)\n",
            "\n",
            "image 1/1 /content/extracted_detection_images/test/test/1057.jpg: 640x544 1 license_plate, 190.5ms\n",
            "Speed: 4.0ms preprocess, 190.5ms inference, 1.1ms postprocess per image at shape (1, 3, 640, 544)\n",
            "\n",
            "image 1/1 /content/extracted_detection_images/test/test/1007.jpg: 640x384 1 license_plate, 145.8ms\n",
            "Speed: 3.3ms preprocess, 145.8ms inference, 0.9ms postprocess per image at shape (1, 3, 640, 384)\n",
            "\n",
            "image 1/1 /content/extracted_detection_images/test/test/945.jpg: 384x640 1 license_plate, 133.5ms\n",
            "Speed: 2.6ms preprocess, 133.5ms inference, 1.0ms postprocess per image at shape (1, 3, 384, 640)\n",
            "\n",
            "image 1/1 /content/extracted_detection_images/test/test/930.jpg: 448x640 1 license_plate, 158.3ms\n",
            "Speed: 3.0ms preprocess, 158.3ms inference, 0.9ms postprocess per image at shape (1, 3, 448, 640)\n",
            "\n",
            "image 1/1 /content/extracted_detection_images/test/test/1026.jpg: 640x480 2 license_plates, 164.9ms\n",
            "Speed: 3.3ms preprocess, 164.9ms inference, 1.0ms postprocess per image at shape (1, 3, 640, 480)\n",
            "\n",
            "image 1/1 /content/extracted_detection_images/test/test/917.jpg: 480x640 1 license_plate, 164.7ms\n",
            "Speed: 3.0ms preprocess, 164.7ms inference, 0.9ms postprocess per image at shape (1, 3, 480, 640)\n",
            "\n",
            "image 1/1 /content/extracted_detection_images/test/test/950.jpg: 480x640 1 license_plate, 157.2ms\n",
            "Speed: 3.1ms preprocess, 157.2ms inference, 1.0ms postprocess per image at shape (1, 3, 480, 640)\n",
            "\n",
            "image 1/1 /content/extracted_detection_images/test/test/1086.jpg: 384x640 1 license_plate, 135.5ms\n",
            "Speed: 2.5ms preprocess, 135.5ms inference, 0.9ms postprocess per image at shape (1, 3, 384, 640)\n",
            "\n",
            "image 1/1 /content/extracted_detection_images/test/test/1011.jpg: 640x384 1 license_plate, 136.1ms\n",
            "Speed: 3.6ms preprocess, 136.1ms inference, 0.9ms postprocess per image at shape (1, 3, 640, 384)\n",
            "\n",
            "image 1/1 /content/extracted_detection_images/test/test/961.jpg: 640x480 1 license_plate, 170.4ms\n",
            "Speed: 3.6ms preprocess, 170.4ms inference, 0.9ms postprocess per image at shape (1, 3, 640, 480)\n",
            "\n",
            "image 1/1 /content/extracted_detection_images/test/test/1074.jpg: 480x640 1 license_plate, 161.9ms\n",
            "Speed: 3.0ms preprocess, 161.9ms inference, 0.9ms postprocess per image at shape (1, 3, 480, 640)\n",
            "\n",
            "image 1/1 /content/extracted_detection_images/test/test/1078.jpg: 640x480 1 license_plate, 164.3ms\n",
            "Speed: 2.7ms preprocess, 164.3ms inference, 1.0ms postprocess per image at shape (1, 3, 640, 480)\n",
            "\n",
            "image 1/1 /content/extracted_detection_images/test/test/998.jpg: 640x480 1 license_plate, 256.2ms\n",
            "Speed: 3.9ms preprocess, 256.2ms inference, 1.3ms postprocess per image at shape (1, 3, 640, 480)\n",
            "\n",
            "image 1/1 /content/extracted_detection_images/test/test/992.jpg: 640x480 1 license_plate, 251.7ms\n",
            "Speed: 6.9ms preprocess, 251.7ms inference, 1.2ms postprocess per image at shape (1, 3, 640, 480)\n",
            "\n",
            "image 1/1 /content/extracted_detection_images/test/test/1000.jpg: 448x640 1 license_plate, 237.2ms\n",
            "Speed: 4.9ms preprocess, 237.2ms inference, 1.3ms postprocess per image at shape (1, 3, 448, 640)\n",
            "\n",
            "image 1/1 /content/extracted_detection_images/test/test/1012.jpg: 480x640 1 license_plate, 249.7ms\n",
            "Speed: 6.5ms preprocess, 249.7ms inference, 1.2ms postprocess per image at shape (1, 3, 480, 640)\n",
            "\n",
            "image 1/1 /content/extracted_detection_images/test/test/1070.jpg: 640x384 1 license_plate, 227.8ms\n",
            "Speed: 3.4ms preprocess, 227.8ms inference, 1.3ms postprocess per image at shape (1, 3, 640, 384)\n",
            "\n",
            "image 1/1 /content/extracted_detection_images/test/test/1067.jpg: 640x480 1 license_plate, 274.9ms\n",
            "Speed: 3.9ms preprocess, 274.9ms inference, 1.3ms postprocess per image at shape (1, 3, 640, 480)\n",
            "\n",
            "image 1/1 /content/extracted_detection_images/test/test/912.jpg: 384x640 1 license_plate, 228.6ms\n",
            "Speed: 3.6ms preprocess, 228.6ms inference, 1.3ms postprocess per image at shape (1, 3, 384, 640)\n",
            "\n",
            "image 1/1 /content/extracted_detection_images/test/test/1041.jpg: 384x640 1 license_plate, 152.8ms\n",
            "Speed: 3.5ms preprocess, 152.8ms inference, 1.2ms postprocess per image at shape (1, 3, 384, 640)\n",
            "\n",
            "image 1/1 /content/extracted_detection_images/test/test/971.jpg: 480x640 1 license_plate, 163.7ms\n",
            "Speed: 3.0ms preprocess, 163.7ms inference, 1.3ms postprocess per image at shape (1, 3, 480, 640)\n",
            "\n",
            "image 1/1 /content/extracted_detection_images/test/test/1095.jpg: 512x640 1 license_plate, 185.6ms\n",
            "Speed: 3.7ms preprocess, 185.6ms inference, 0.9ms postprocess per image at shape (1, 3, 512, 640)\n",
            "\n",
            "image 1/1 /content/extracted_detection_images/test/test/901.jpg: 640x480 1 license_plate, 161.6ms\n",
            "Speed: 3.2ms preprocess, 161.6ms inference, 1.0ms postprocess per image at shape (1, 3, 640, 480)\n",
            "\n",
            "image 1/1 /content/extracted_detection_images/test/test/1072.jpg: 480x640 1 license_plate, 163.2ms\n",
            "Speed: 2.9ms preprocess, 163.2ms inference, 1.0ms postprocess per image at shape (1, 3, 480, 640)\n",
            "\n",
            "image 1/1 /content/extracted_detection_images/test/test/957.jpg: 384x640 1 license_plate, 143.8ms\n",
            "Speed: 3.0ms preprocess, 143.8ms inference, 0.9ms postprocess per image at shape (1, 3, 384, 640)\n",
            "\n",
            "image 1/1 /content/extracted_detection_images/test/test/965.jpg: 640x480 1 license_plate, 175.4ms\n",
            "Speed: 3.4ms preprocess, 175.4ms inference, 0.9ms postprocess per image at shape (1, 3, 640, 480)\n",
            "\n",
            "image 1/1 /content/extracted_detection_images/test/test/1065.jpg: 640x544 1 license_plate, 181.9ms\n",
            "Speed: 3.4ms preprocess, 181.9ms inference, 0.9ms postprocess per image at shape (1, 3, 640, 544)\n",
            "\n",
            "image 1/1 /content/extracted_detection_images/test/test/1075.jpg: 640x480 1 license_plate, 158.1ms\n",
            "Speed: 2.9ms preprocess, 158.1ms inference, 0.9ms postprocess per image at shape (1, 3, 640, 480)\n",
            "\n",
            "image 1/1 /content/extracted_detection_images/test/test/1015.jpg: 480x640 1 license_plate, 179.6ms\n",
            "Speed: 5.1ms preprocess, 179.6ms inference, 1.0ms postprocess per image at shape (1, 3, 480, 640)\n",
            "\n",
            "image 1/1 /content/extracted_detection_images/test/test/949.jpg: 640x384 1 license_plate, 140.0ms\n",
            "Speed: 3.0ms preprocess, 140.0ms inference, 0.9ms postprocess per image at shape (1, 3, 640, 384)\n",
            "\n",
            "image 1/1 /content/extracted_detection_images/test/test/922.jpg: 640x640 1 license_plate, 228.9ms\n",
            "Speed: 4.6ms preprocess, 228.9ms inference, 1.0ms postprocess per image at shape (1, 3, 640, 640)\n",
            "\n",
            "image 1/1 /content/extracted_detection_images/test/test/977.jpg: 480x640 1 license_plate, 170.4ms\n",
            "Speed: 3.0ms preprocess, 170.4ms inference, 0.9ms postprocess per image at shape (1, 3, 480, 640)\n",
            "\n",
            "image 1/1 /content/extracted_detection_images/test/test/970.jpg: 384x640 1 license_plate, 139.3ms\n",
            "Speed: 2.9ms preprocess, 139.3ms inference, 0.9ms postprocess per image at shape (1, 3, 384, 640)\n",
            "\n",
            "image 1/1 /content/extracted_detection_images/test/test/938.jpg: 640x576 1 license_plate, 209.2ms\n",
            "Speed: 3.7ms preprocess, 209.2ms inference, 1.3ms postprocess per image at shape (1, 3, 640, 576)\n",
            "\n",
            "image 1/1 /content/extracted_detection_images/test/test/1013.jpg: 640x480 1 license_plate, 162.4ms\n",
            "Speed: 4.0ms preprocess, 162.4ms inference, 0.9ms postprocess per image at shape (1, 3, 640, 480)\n",
            "\n",
            "image 1/1 /content/extracted_detection_images/test/test/1002.jpg: 640x480 1 license_plate, 165.0ms\n",
            "Speed: 3.3ms preprocess, 165.0ms inference, 1.0ms postprocess per image at shape (1, 3, 640, 480)\n",
            "\n",
            "image 1/1 /content/extracted_detection_images/test/test/940.jpg: 448x640 1 license_plate, 156.2ms\n",
            "Speed: 2.8ms preprocess, 156.2ms inference, 1.2ms postprocess per image at shape (1, 3, 448, 640)\n",
            "\n",
            "image 1/1 /content/extracted_detection_images/test/test/1005.jpg: 640x384 1 license_plate, 136.6ms\n",
            "Speed: 2.6ms preprocess, 136.6ms inference, 0.9ms postprocess per image at shape (1, 3, 640, 384)\n",
            "\n",
            "image 1/1 /content/extracted_detection_images/test/test/1046.jpg: 640x480 1 license_plate, 173.2ms\n",
            "Speed: 7.6ms preprocess, 173.2ms inference, 1.0ms postprocess per image at shape (1, 3, 640, 480)\n",
            "\n",
            "image 1/1 /content/extracted_detection_images/test/test/944.jpg: 640x480 1 license_plate, 163.3ms\n",
            "Speed: 3.2ms preprocess, 163.3ms inference, 1.2ms postprocess per image at shape (1, 3, 640, 480)\n",
            "\n",
            "image 1/1 /content/extracted_detection_images/test/test/1006.jpg: 640x480 1 license_plate, 173.3ms\n",
            "Speed: 2.9ms preprocess, 173.3ms inference, 1.3ms postprocess per image at shape (1, 3, 640, 480)\n",
            "\n",
            "image 1/1 /content/extracted_detection_images/test/test/1035.jpg: 640x480 1 license_plate, 177.0ms\n",
            "Speed: 3.8ms preprocess, 177.0ms inference, 1.0ms postprocess per image at shape (1, 3, 640, 480)\n",
            "\n",
            "image 1/1 /content/extracted_detection_images/test/test/1047.jpg: 480x640 1 license_plate, 156.3ms\n",
            "Speed: 3.6ms preprocess, 156.3ms inference, 1.3ms postprocess per image at shape (1, 3, 480, 640)\n",
            "\n",
            "image 1/1 /content/extracted_detection_images/test/test/1066.jpg: 640x544 2 license_plates, 195.9ms\n",
            "Speed: 3.7ms preprocess, 195.9ms inference, 1.0ms postprocess per image at shape (1, 3, 640, 544)\n",
            "\n",
            "image 1/1 /content/extracted_detection_images/test/test/1087.jpg: 640x512 1 license_plate, 293.0ms\n",
            "Speed: 4.7ms preprocess, 293.0ms inference, 1.2ms postprocess per image at shape (1, 3, 640, 512)\n",
            "\n",
            "image 1/1 /content/extracted_detection_images/test/test/1102.jpg: 640x480 1 license_plate, 262.8ms\n",
            "Speed: 5.9ms preprocess, 262.8ms inference, 1.3ms postprocess per image at shape (1, 3, 640, 480)\n",
            "\n",
            "image 1/1 /content/extracted_detection_images/test/test/1062.jpg: 384x640 1 license_plate, 215.4ms\n",
            "Speed: 5.9ms preprocess, 215.4ms inference, 1.3ms postprocess per image at shape (1, 3, 384, 640)\n",
            "\n",
            "image 1/1 /content/extracted_detection_images/test/test/991.jpg: 480x640 1 license_plate, 244.9ms\n",
            "Speed: 3.8ms preprocess, 244.9ms inference, 1.2ms postprocess per image at shape (1, 3, 480, 640)\n",
            "\n",
            "image 1/1 /content/extracted_detection_images/test/test/1081.jpg: 640x480 1 license_plate, 268.3ms\n",
            "Speed: 3.9ms preprocess, 268.3ms inference, 1.1ms postprocess per image at shape (1, 3, 640, 480)\n",
            "\n",
            "image 1/1 /content/extracted_detection_images/test/test/1032.jpg: 640x480 1 license_plate, 270.2ms\n",
            "Speed: 4.1ms preprocess, 270.2ms inference, 1.2ms postprocess per image at shape (1, 3, 640, 480)\n",
            "\n",
            "image 1/1 /content/extracted_detection_images/test/test/963.jpg: 384x640 1 license_plate, 229.2ms\n",
            "Speed: 3.5ms preprocess, 229.2ms inference, 1.3ms postprocess per image at shape (1, 3, 384, 640)\n",
            "\n",
            "image 1/1 /content/extracted_detection_images/test/test/994.jpg: 640x480 1 license_plate, 273.6ms\n",
            "Speed: 3.7ms preprocess, 273.6ms inference, 1.3ms postprocess per image at shape (1, 3, 640, 480)\n",
            "\n",
            "image 1/1 /content/extracted_detection_images/test/test/910.jpg: 384x640 1 license_plate, 174.4ms\n",
            "Speed: 3.7ms preprocess, 174.4ms inference, 0.9ms postprocess per image at shape (1, 3, 384, 640)\n",
            "\n",
            "image 1/1 /content/extracted_detection_images/test/test/1054.jpg: 384x640 1 license_plate, 133.1ms\n",
            "Speed: 2.5ms preprocess, 133.1ms inference, 1.0ms postprocess per image at shape (1, 3, 384, 640)\n",
            "\n",
            "image 1/1 /content/extracted_detection_images/test/test/1003.jpg: 384x640 1 license_plate, 142.1ms\n",
            "Speed: 3.1ms preprocess, 142.1ms inference, 1.3ms postprocess per image at shape (1, 3, 384, 640)\n",
            "\n",
            "image 1/1 /content/extracted_detection_images/test/test/929.jpg: 480x640 1 license_plate, 164.5ms\n",
            "Speed: 2.9ms preprocess, 164.5ms inference, 0.9ms postprocess per image at shape (1, 3, 480, 640)\n",
            "\n",
            "image 1/1 /content/extracted_detection_images/test/test/1083.jpg: 640x480 1 license_plate, 173.8ms\n",
            "Speed: 3.4ms preprocess, 173.8ms inference, 1.0ms postprocess per image at shape (1, 3, 640, 480)\n",
            "\n",
            "image 1/1 /content/extracted_detection_images/test/test/1079.jpg: 640x384 1 license_plate, 137.4ms\n",
            "Speed: 2.6ms preprocess, 137.4ms inference, 0.9ms postprocess per image at shape (1, 3, 640, 384)\n",
            "\n",
            "image 1/1 /content/extracted_detection_images/test/test/999.jpg: 384x640 1 license_plate, 137.8ms\n",
            "Speed: 2.4ms preprocess, 137.8ms inference, 0.9ms postprocess per image at shape (1, 3, 384, 640)\n",
            "\n",
            "image 1/1 /content/extracted_detection_images/test/test/1010.jpg: 640x384 1 license_plate, 137.4ms\n",
            "Speed: 2.6ms preprocess, 137.4ms inference, 0.9ms postprocess per image at shape (1, 3, 640, 384)\n",
            "\n",
            "image 1/1 /content/extracted_detection_images/test/test/956.jpg: 384x640 2 license_plates, 137.6ms\n",
            "Speed: 2.3ms preprocess, 137.6ms inference, 1.0ms postprocess per image at shape (1, 3, 384, 640)\n",
            "\n",
            "image 1/1 /content/extracted_detection_images/test/test/924.jpg: 480x640 1 license_plate, 168.7ms\n",
            "Speed: 3.1ms preprocess, 168.7ms inference, 0.9ms postprocess per image at shape (1, 3, 480, 640)\n",
            "\n",
            "image 1/1 /content/extracted_detection_images/test/test/1008.jpg: 384x640 4 license_plates, 142.4ms\n",
            "Speed: 2.5ms preprocess, 142.4ms inference, 0.9ms postprocess per image at shape (1, 3, 384, 640)\n",
            "\n",
            "image 1/1 /content/extracted_detection_images/test/test/1069.jpg: 384x640 2 license_plates, 135.9ms\n",
            "Speed: 3.2ms preprocess, 135.9ms inference, 0.9ms postprocess per image at shape (1, 3, 384, 640)\n",
            "\n",
            "image 1/1 /content/extracted_detection_images/test/test/951.jpg: 384x640 1 license_plate, 130.9ms\n",
            "Speed: 2.5ms preprocess, 130.9ms inference, 0.9ms postprocess per image at shape (1, 3, 384, 640)\n",
            "\n",
            "image 1/1 /content/extracted_detection_images/test/test/1063.jpg: 640x480 1 license_plate, 161.7ms\n",
            "Speed: 3.4ms preprocess, 161.7ms inference, 1.0ms postprocess per image at shape (1, 3, 640, 480)\n",
            "\n",
            "image 1/1 /content/extracted_detection_images/test/test/1045.jpg: 480x640 1 license_plate, 163.4ms\n",
            "Speed: 2.8ms preprocess, 163.4ms inference, 1.3ms postprocess per image at shape (1, 3, 480, 640)\n",
            "\n",
            "image 1/1 /content/extracted_detection_images/test/test/996.jpg: 480x640 1 license_plate, 163.5ms\n",
            "Speed: 2.8ms preprocess, 163.5ms inference, 1.3ms postprocess per image at shape (1, 3, 480, 640)\n",
            "\n",
            "image 1/1 /content/extracted_detection_images/test/test/904.jpg: 384x640 1 license_plate, 134.6ms\n",
            "Speed: 2.5ms preprocess, 134.6ms inference, 1.0ms postprocess per image at shape (1, 3, 384, 640)\n",
            "\n",
            "image 1/1 /content/extracted_detection_images/test/test/1019.jpg: 384x640 1 license_plate, 144.4ms\n",
            "Speed: 2.5ms preprocess, 144.4ms inference, 0.9ms postprocess per image at shape (1, 3, 384, 640)\n",
            "\n",
            "image 1/1 /content/extracted_detection_images/test/test/995.jpg: 480x640 1 license_plate, 160.1ms\n",
            "Speed: 3.3ms preprocess, 160.1ms inference, 0.9ms postprocess per image at shape (1, 3, 480, 640)\n",
            "\n",
            "image 1/1 /content/extracted_detection_images/test/test/1017.jpg: 384x640 1 license_plate, 136.6ms\n",
            "Speed: 2.9ms preprocess, 136.6ms inference, 1.2ms postprocess per image at shape (1, 3, 384, 640)\n",
            "\n",
            "image 1/1 /content/extracted_detection_images/test/test/1014.jpg: 480x640 1 license_plate, 163.6ms\n",
            "Speed: 2.9ms preprocess, 163.6ms inference, 1.4ms postprocess per image at shape (1, 3, 480, 640)\n",
            "\n",
            "image 1/1 /content/extracted_detection_images/test/test/1110.jpg: 640x480 1 license_plate, 182.5ms\n",
            "Speed: 4.0ms preprocess, 182.5ms inference, 1.1ms postprocess per image at shape (1, 3, 640, 480)\n",
            "\n",
            "image 1/1 /content/extracted_detection_images/test/test/1112.jpg: 640x480 1 license_plate, 269.9ms\n",
            "Speed: 5.4ms preprocess, 269.9ms inference, 1.0ms postprocess per image at shape (1, 3, 640, 480)\n",
            "\n",
            "image 1/1 /content/extracted_detection_images/test/test/1040.jpg: 640x480 1 license_plate, 268.5ms\n",
            "Speed: 4.4ms preprocess, 268.5ms inference, 1.1ms postprocess per image at shape (1, 3, 640, 480)\n",
            "\n",
            "image 1/1 /content/extracted_detection_images/test/test/1098.jpg: 384x640 1 license_plate, 214.4ms\n",
            "Speed: 3.6ms preprocess, 214.4ms inference, 1.3ms postprocess per image at shape (1, 3, 384, 640)\n",
            "\n",
            "image 1/1 /content/extracted_detection_images/test/test/984.jpg: 480x640 (no detections), 257.4ms\n",
            "Speed: 4.3ms preprocess, 257.4ms inference, 0.7ms postprocess per image at shape (1, 3, 480, 640)\n",
            "\n",
            "image 1/1 /content/extracted_detection_images/test/test/1055.jpg: 640x384 1 license_plate, 221.0ms\n",
            "Speed: 3.0ms preprocess, 221.0ms inference, 1.2ms postprocess per image at shape (1, 3, 640, 384)\n",
            "\n",
            "image 1/1 /content/extracted_detection_images/test/test/935.jpg: 640x480 2 license_plates, 273.4ms\n",
            "Speed: 3.7ms preprocess, 273.4ms inference, 1.4ms postprocess per image at shape (1, 3, 640, 480)\n",
            "\n",
            "image 1/1 /content/extracted_detection_images/test/test/933.jpg: 640x480 1 license_plate, 255.1ms\n",
            "Speed: 4.0ms preprocess, 255.1ms inference, 1.3ms postprocess per image at shape (1, 3, 640, 480)\n",
            "\n",
            "image 1/1 /content/extracted_detection_images/test/test/1111.jpg: 640x384 1 license_plate, 214.6ms\n",
            "Speed: 3.0ms preprocess, 214.6ms inference, 1.4ms postprocess per image at shape (1, 3, 640, 384)\n",
            "\n",
            "image 1/1 /content/extracted_detection_images/test/test/972.jpg: 480x640 1 license_plate, 179.7ms\n",
            "Speed: 2.8ms preprocess, 179.7ms inference, 0.9ms postprocess per image at shape (1, 3, 480, 640)\n",
            "\n",
            "image 1/1 /content/extracted_detection_images/test/test/1031.jpg: 480x640 1 license_plate, 160.8ms\n",
            "Speed: 3.1ms preprocess, 160.8ms inference, 0.9ms postprocess per image at shape (1, 3, 480, 640)\n",
            "\n",
            "image 1/1 /content/extracted_detection_images/test/test/990.jpg: 640x480 1 license_plate, 163.9ms\n",
            "Speed: 2.8ms preprocess, 163.9ms inference, 1.0ms postprocess per image at shape (1, 3, 640, 480)\n",
            "\n",
            "image 1/1 /content/extracted_detection_images/test/test/941.jpg: 480x640 1 license_plate, 170.9ms\n",
            "Speed: 2.8ms preprocess, 170.9ms inference, 0.9ms postprocess per image at shape (1, 3, 480, 640)\n",
            "\n",
            "image 1/1 /content/extracted_detection_images/test/test/908.jpg: 384x640 1 license_plate, 138.8ms\n",
            "Speed: 2.4ms preprocess, 138.8ms inference, 0.9ms postprocess per image at shape (1, 3, 384, 640)\n",
            "\n",
            "image 1/1 /content/extracted_detection_images/test/test/966.jpg: 480x640 1 license_plate, 179.3ms\n",
            "Speed: 3.9ms preprocess, 179.3ms inference, 0.9ms postprocess per image at shape (1, 3, 480, 640)\n",
            "\n",
            "image 1/1 /content/extracted_detection_images/test/test/982.jpg: 640x384 1 license_plate, 136.8ms\n",
            "Speed: 2.6ms preprocess, 136.8ms inference, 0.9ms postprocess per image at shape (1, 3, 640, 384)\n",
            "\n",
            "image 1/1 /content/extracted_detection_images/test/test/975.jpg: 640x384 1 license_plate, 141.3ms\n",
            "Speed: 3.1ms preprocess, 141.3ms inference, 0.9ms postprocess per image at shape (1, 3, 640, 384)\n",
            "\n",
            "image 1/1 /content/extracted_detection_images/test/test/1022.jpg: 384x640 1 license_plate, 152.6ms\n",
            "Speed: 3.4ms preprocess, 152.6ms inference, 1.1ms postprocess per image at shape (1, 3, 384, 640)\n",
            "\n",
            "image 1/1 /content/extracted_detection_images/test/test/968.jpg: 640x480 1 license_plate, 168.0ms\n",
            "Speed: 4.0ms preprocess, 168.0ms inference, 1.0ms postprocess per image at shape (1, 3, 640, 480)\n",
            "\n",
            "image 1/1 /content/extracted_detection_images/test/test/1077.jpg: 480x640 1 license_plate, 170.5ms\n",
            "Speed: 2.8ms preprocess, 170.5ms inference, 1.0ms postprocess per image at shape (1, 3, 480, 640)\n",
            "\n",
            "image 1/1 /content/extracted_detection_images/test/test/1104.jpg: 640x384 1 license_plate, 140.3ms\n",
            "Speed: 2.3ms preprocess, 140.3ms inference, 0.9ms postprocess per image at shape (1, 3, 640, 384)\n",
            "\n",
            "image 1/1 /content/extracted_detection_images/test/test/1056.jpg: 640x480 1 license_plate, 160.2ms\n",
            "Speed: 2.8ms preprocess, 160.2ms inference, 1.0ms postprocess per image at shape (1, 3, 640, 480)\n",
            "\n",
            "image 1/1 /content/extracted_detection_images/test/test/1092.jpg: 384x640 1 license_plate, 138.0ms\n",
            "Speed: 2.6ms preprocess, 138.0ms inference, 0.9ms postprocess per image at shape (1, 3, 384, 640)\n",
            "\n",
            "image 1/1 /content/extracted_detection_images/test/test/1091.jpg: 384x640 1 license_plate, 132.1ms\n",
            "Speed: 2.4ms preprocess, 132.1ms inference, 0.9ms postprocess per image at shape (1, 3, 384, 640)\n",
            "\n",
            "image 1/1 /content/extracted_detection_images/test/test/986.jpg: 480x640 1 license_plate, 162.8ms\n",
            "Speed: 2.9ms preprocess, 162.8ms inference, 1.0ms postprocess per image at shape (1, 3, 480, 640)\n",
            "\n",
            "image 1/1 /content/extracted_detection_images/test/test/1076.jpg: 640x480 1 license_plate, 186.9ms\n",
            "Speed: 3.6ms preprocess, 186.9ms inference, 1.0ms postprocess per image at shape (1, 3, 640, 480)\n",
            "\n",
            "image 1/1 /content/extracted_detection_images/test/test/936.jpg: 384x640 1 license_plate, 131.8ms\n",
            "Speed: 2.5ms preprocess, 131.8ms inference, 0.9ms postprocess per image at shape (1, 3, 384, 640)\n",
            "\n",
            "image 1/1 /content/extracted_detection_images/test/test/1037.jpg: 384x640 1 license_plate, 150.1ms\n",
            "Speed: 2.6ms preprocess, 150.1ms inference, 0.9ms postprocess per image at shape (1, 3, 384, 640)\n",
            "\n",
            "image 1/1 /content/extracted_detection_images/test/test/1004.jpg: 640x384 1 license_plate, 163.0ms\n",
            "Speed: 3.2ms preprocess, 163.0ms inference, 1.1ms postprocess per image at shape (1, 3, 640, 384)\n",
            "\n",
            "image 1/1 /content/extracted_detection_images/test/test/978.jpg: 384x640 1 license_plate, 138.1ms\n",
            "Speed: 3.5ms preprocess, 138.1ms inference, 0.9ms postprocess per image at shape (1, 3, 384, 640)\n",
            "\n",
            "image 1/1 /content/extracted_detection_images/test/test/918.jpg: 480x640 1 license_plate, 165.2ms\n",
            "Speed: 3.0ms preprocess, 165.2ms inference, 1.0ms postprocess per image at shape (1, 3, 480, 640)\n",
            "\n",
            "image 1/1 /content/extracted_detection_images/test/test/905.jpg: 640x480 1 license_plate, 163.3ms\n",
            "Speed: 3.5ms preprocess, 163.3ms inference, 1.0ms postprocess per image at shape (1, 3, 640, 480)\n",
            "\n",
            "image 1/1 /content/extracted_detection_images/test/test/1033.jpg: 480x640 2 license_plates, 164.8ms\n",
            "Speed: 3.3ms preprocess, 164.8ms inference, 0.9ms postprocess per image at shape (1, 3, 480, 640)\n",
            "\n",
            "image 1/1 /content/extracted_detection_images/test/test/927.jpg: 640x480 1 license_plate, 178.5ms\n",
            "Speed: 3.6ms preprocess, 178.5ms inference, 1.0ms postprocess per image at shape (1, 3, 640, 480)\n",
            "\n",
            "image 1/1 /content/extracted_detection_images/test/test/1050.jpg: 512x640 1 license_plate, 224.1ms\n",
            "Speed: 5.0ms preprocess, 224.1ms inference, 1.4ms postprocess per image at shape (1, 3, 512, 640)\n",
            "\n",
            "image 1/1 /content/extracted_detection_images/test/test/1090.jpg: 640x480 1 license_plate, 295.1ms\n",
            "Speed: 5.7ms preprocess, 295.1ms inference, 1.2ms postprocess per image at shape (1, 3, 640, 480)\n",
            "\n",
            "image 1/1 /content/extracted_detection_images/test/test/1103.jpg: 480x640 1 license_plate, 252.4ms\n",
            "Speed: 4.0ms preprocess, 252.4ms inference, 1.2ms postprocess per image at shape (1, 3, 480, 640)\n",
            "\n",
            "image 1/1 /content/extracted_detection_images/test/test/988.jpg: 640x480 1 license_plate, 267.6ms\n",
            "Speed: 4.0ms preprocess, 267.6ms inference, 1.3ms postprocess per image at shape (1, 3, 640, 480)\n",
            "\n",
            "image 1/1 /content/extracted_detection_images/test/test/974.jpg: 448x640 1 license_plate, 247.2ms\n",
            "Speed: 4.1ms preprocess, 247.2ms inference, 1.3ms postprocess per image at shape (1, 3, 448, 640)\n",
            "\n",
            "image 1/1 /content/extracted_detection_images/test/test/1043.jpg: 640x544 1 license_plate, 293.6ms\n",
            "Speed: 4.7ms preprocess, 293.6ms inference, 1.2ms postprocess per image at shape (1, 3, 640, 544)\n",
            "\n",
            "image 1/1 /content/extracted_detection_images/test/test/1094.jpg: 480x640 1 license_plate, 265.1ms\n",
            "Speed: 4.0ms preprocess, 265.1ms inference, 1.3ms postprocess per image at shape (1, 3, 480, 640)\n",
            "\n",
            "image 1/1 /content/extracted_detection_images/test/test/1109.jpg: 640x384 1 license_plate, 229.3ms\n",
            "Speed: 7.3ms preprocess, 229.3ms inference, 1.2ms postprocess per image at shape (1, 3, 640, 384)\n",
            "\n",
            "image 1/1 /content/extracted_detection_images/test/test/921.jpg: 480x640 5 license_plates, 279.8ms\n",
            "Speed: 3.9ms preprocess, 279.8ms inference, 1.4ms postprocess per image at shape (1, 3, 480, 640)\n",
            "\n",
            "image 1/1 /content/extracted_detection_images/test/test/1058.jpg: 384x640 1 license_plate, 134.1ms\n",
            "Speed: 2.5ms preprocess, 134.1ms inference, 1.0ms postprocess per image at shape (1, 3, 384, 640)\n",
            "\n",
            "image 1/1 /content/extracted_detection_images/test/test/1018.jpg: 480x640 1 license_plate, 165.7ms\n",
            "Speed: 3.0ms preprocess, 165.7ms inference, 1.0ms postprocess per image at shape (1, 3, 480, 640)\n",
            "\n",
            "image 1/1 /content/extracted_detection_images/test/test/1085.jpg: 640x480 1 license_plate, 179.6ms\n",
            "Speed: 3.3ms preprocess, 179.6ms inference, 0.9ms postprocess per image at shape (1, 3, 640, 480)\n",
            "\n",
            "image 1/1 /content/extracted_detection_images/test/test/993.jpg: 640x384 1 license_plate, 136.7ms\n",
            "Speed: 3.4ms preprocess, 136.7ms inference, 0.9ms postprocess per image at shape (1, 3, 640, 384)\n",
            "\n",
            "image 1/1 /content/extracted_detection_images/test/test/1034.jpg: 640x480 1 license_plate, 162.8ms\n",
            "Speed: 5.0ms preprocess, 162.8ms inference, 0.9ms postprocess per image at shape (1, 3, 640, 480)\n",
            "\n",
            "image 1/1 /content/extracted_detection_images/test/test/926.jpg: 640x512 1 license_plate, 187.6ms\n",
            "Speed: 3.3ms preprocess, 187.6ms inference, 1.0ms postprocess per image at shape (1, 3, 640, 512)\n",
            "\n",
            "image 1/1 /content/extracted_detection_images/test/test/1100.jpg: 384x640 1 license_plate, 139.4ms\n",
            "Speed: 2.5ms preprocess, 139.4ms inference, 1.0ms postprocess per image at shape (1, 3, 384, 640)\n",
            "\n",
            "image 1/1 /content/extracted_detection_images/test/test/947.jpg: 640x384 1 license_plate, 136.3ms\n",
            "Speed: 2.6ms preprocess, 136.3ms inference, 0.9ms postprocess per image at shape (1, 3, 640, 384)\n",
            "\n",
            "image 1/1 /content/extracted_detection_images/test/test/1071.jpg: 640x480 1 license_plate, 179.7ms\n",
            "Speed: 3.2ms preprocess, 179.7ms inference, 1.0ms postprocess per image at shape (1, 3, 640, 480)\n",
            "\n",
            "image 1/1 /content/extracted_detection_images/test/test/1059.jpg: 384x640 1 license_plate, 148.5ms\n",
            "Speed: 4.8ms preprocess, 148.5ms inference, 0.9ms postprocess per image at shape (1, 3, 384, 640)\n",
            "\n",
            "image 1/1 /content/extracted_detection_images/test/test/923.jpg: 640x480 2 license_plates, 160.4ms\n",
            "Speed: 3.4ms preprocess, 160.4ms inference, 1.0ms postprocess per image at shape (1, 3, 640, 480)\n",
            "\n",
            "image 1/1 /content/extracted_detection_images/test/test/939.jpg: 480x640 1 license_plate, 178.2ms\n",
            "Speed: 3.0ms preprocess, 178.2ms inference, 1.0ms postprocess per image at shape (1, 3, 480, 640)\n",
            "\n",
            "image 1/1 /content/extracted_detection_images/test/test/1028.jpg: 640x480 1 license_plate, 170.1ms\n",
            "Speed: 4.1ms preprocess, 170.1ms inference, 1.1ms postprocess per image at shape (1, 3, 640, 480)\n",
            "\n",
            "image 1/1 /content/extracted_detection_images/test/test/959.jpg: 640x384 1 license_plate, 160.3ms\n",
            "Speed: 3.1ms preprocess, 160.3ms inference, 1.0ms postprocess per image at shape (1, 3, 640, 384)\n",
            "\n",
            "image 1/1 /content/extracted_detection_images/test/test/914.jpg: 384x640 1 license_plate, 154.5ms\n",
            "Speed: 2.6ms preprocess, 154.5ms inference, 1.0ms postprocess per image at shape (1, 3, 384, 640)\n",
            "\n",
            "image 1/1 /content/extracted_detection_images/test/test/1052.jpg: 384x640 2 license_plates, 140.9ms\n",
            "Speed: 2.8ms preprocess, 140.9ms inference, 0.9ms postprocess per image at shape (1, 3, 384, 640)\n",
            "\n",
            "image 1/1 /content/extracted_detection_images/test/test/1080.jpg: 640x480 1 license_plate, 182.5ms\n",
            "Speed: 3.6ms preprocess, 182.5ms inference, 1.0ms postprocess per image at shape (1, 3, 640, 480)\n",
            "\n",
            "image 1/1 /content/extracted_detection_images/test/test/903.jpg: 640x480 1 license_plate, 168.8ms\n",
            "Speed: 3.3ms preprocess, 168.8ms inference, 1.1ms postprocess per image at shape (1, 3, 640, 480)\n",
            "\n",
            "image 1/1 /content/extracted_detection_images/test/test/958.jpg: 384x640 1 license_plate, 154.3ms\n",
            "Speed: 2.8ms preprocess, 154.3ms inference, 0.9ms postprocess per image at shape (1, 3, 384, 640)\n",
            "\n",
            "image 1/1 /content/extracted_detection_images/test/test/907.jpg: 640x480 2 license_plates, 165.8ms\n",
            "Speed: 2.9ms preprocess, 165.8ms inference, 1.0ms postprocess per image at shape (1, 3, 640, 480)\n",
            "\n",
            "image 1/1 /content/extracted_detection_images/test/test/1073.jpg: 448x640 1 license_plate, 180.8ms\n",
            "Speed: 3.0ms preprocess, 180.8ms inference, 1.0ms postprocess per image at shape (1, 3, 448, 640)\n",
            "\n",
            "image 1/1 /content/extracted_detection_images/test/test/981.jpg: 448x640 1 license_plate, 156.0ms\n",
            "Speed: 3.2ms preprocess, 156.0ms inference, 1.0ms postprocess per image at shape (1, 3, 448, 640)\n",
            "\n",
            "image 1/1 /content/extracted_detection_images/test/test/931.jpg: 480x640 (no detections), 174.7ms\n",
            "Speed: 3.6ms preprocess, 174.7ms inference, 0.6ms postprocess per image at shape (1, 3, 480, 640)\n",
            "\n",
            "image 1/1 /content/extracted_detection_images/test/test/1089.jpg: 384x640 1 license_plate, 160.8ms\n",
            "Speed: 3.1ms preprocess, 160.8ms inference, 1.0ms postprocess per image at shape (1, 3, 384, 640)\n",
            "\n",
            "image 1/1 /content/extracted_detection_images/test/test/1025.jpg: 640x480 1 license_plate, 267.8ms\n",
            "Speed: 3.9ms preprocess, 267.8ms inference, 1.2ms postprocess per image at shape (1, 3, 640, 480)\n",
            "\n",
            "image 1/1 /content/extracted_detection_images/test/test/1113.jpg: 384x640 2 license_plates, 232.7ms\n",
            "Speed: 4.3ms preprocess, 232.7ms inference, 1.2ms postprocess per image at shape (1, 3, 384, 640)\n",
            "\n",
            "image 1/1 /content/extracted_detection_images/test/test/1027.jpg: 384x640 1 license_plate, 221.6ms\n",
            "Speed: 3.4ms preprocess, 221.6ms inference, 2.0ms postprocess per image at shape (1, 3, 384, 640)\n",
            "\n",
            "image 1/1 /content/extracted_detection_images/test/test/1044.jpg: 640x480 1 license_plate, 265.7ms\n",
            "Speed: 4.5ms preprocess, 265.7ms inference, 1.2ms postprocess per image at shape (1, 3, 640, 480)\n",
            "\n",
            "image 1/1 /content/extracted_detection_images/test/test/983.jpg: 480x640 1 license_plate, 276.6ms\n",
            "Speed: 4.0ms preprocess, 276.6ms inference, 1.4ms postprocess per image at shape (1, 3, 480, 640)\n",
            "\n",
            "image 1/1 /content/extracted_detection_images/test/test/1049.jpg: 640x480 1 license_plate, 271.8ms\n",
            "Speed: 3.6ms preprocess, 271.8ms inference, 1.7ms postprocess per image at shape (1, 3, 640, 480)\n",
            "\n",
            "image 1/1 /content/extracted_detection_images/test/test/1099.jpg: 480x640 1 license_plate, 274.7ms\n",
            "Speed: 4.4ms preprocess, 274.7ms inference, 1.3ms postprocess per image at shape (1, 3, 480, 640)\n",
            "\n",
            "image 1/1 /content/extracted_detection_images/test/test/1105.jpg: 640x480 1 license_plate, 274.6ms\n",
            "Speed: 4.3ms preprocess, 274.6ms inference, 1.3ms postprocess per image at shape (1, 3, 640, 480)\n",
            "\n",
            "image 1/1 /content/extracted_detection_images/test/test/1038.jpg: 640x384 1 license_plate, 226.0ms\n",
            "Speed: 7.2ms preprocess, 226.0ms inference, 1.3ms postprocess per image at shape (1, 3, 640, 384)\n",
            "\n",
            "image 1/1 /content/extracted_detection_images/test/test/976.jpg: 480x640 1 license_plate, 165.7ms\n",
            "Speed: 3.1ms preprocess, 165.7ms inference, 0.9ms postprocess per image at shape (1, 3, 480, 640)\n",
            "\n",
            "image 1/1 /content/extracted_detection_images/test/test/928.jpg: 480x640 1 license_plate, 164.4ms\n",
            "Speed: 4.5ms preprocess, 164.4ms inference, 1.3ms postprocess per image at shape (1, 3, 480, 640)\n",
            "\n",
            "image 1/1 /content/extracted_detection_images/test/test/1029.jpg: 384x640 1 license_plate, 137.3ms\n",
            "Speed: 2.4ms preprocess, 137.3ms inference, 0.9ms postprocess per image at shape (1, 3, 384, 640)\n",
            "\n",
            "image 1/1 /content/extracted_detection_images/test/test/973.jpg: 640x480 1 license_plate, 175.8ms\n",
            "Speed: 2.8ms preprocess, 175.8ms inference, 1.0ms postprocess per image at shape (1, 3, 640, 480)\n",
            "\n",
            "image 1/1 /content/extracted_detection_images/test/test/989.jpg: 384x640 1 license_plate, 133.0ms\n",
            "Speed: 2.5ms preprocess, 133.0ms inference, 0.9ms postprocess per image at shape (1, 3, 384, 640)\n",
            "\n",
            "image 1/1 /content/extracted_detection_images/test/test/915.jpg: 384x640 1 license_plate, 148.2ms\n",
            "Speed: 3.0ms preprocess, 148.2ms inference, 1.0ms postprocess per image at shape (1, 3, 384, 640)\n",
            "\n",
            "image 1/1 /content/extracted_detection_images/test/test/1030.jpg: 384x640 1 license_plate, 134.2ms\n",
            "Speed: 8.5ms preprocess, 134.2ms inference, 1.0ms postprocess per image at shape (1, 3, 384, 640)\n",
            "\n",
            "image 1/1 /content/extracted_detection_images/test/test/902.jpg: 384x640 1 license_plate, 136.5ms\n",
            "Speed: 2.5ms preprocess, 136.5ms inference, 1.0ms postprocess per image at shape (1, 3, 384, 640)\n",
            "\n",
            "image 1/1 /content/extracted_detection_images/test/test/954.jpg: 384x640 1 license_plate, 136.4ms\n",
            "Speed: 2.5ms preprocess, 136.4ms inference, 1.0ms postprocess per image at shape (1, 3, 384, 640)\n",
            "\n",
            "image 1/1 /content/extracted_detection_images/test/test/1039.jpg: 384x640 1 license_plate, 135.4ms\n",
            "Speed: 2.5ms preprocess, 135.4ms inference, 0.9ms postprocess per image at shape (1, 3, 384, 640)\n",
            "\n",
            "image 1/1 /content/extracted_detection_images/test/test/1088.jpg: 384x640 1 license_plate, 153.3ms\n",
            "Speed: 4.1ms preprocess, 153.3ms inference, 1.0ms postprocess per image at shape (1, 3, 384, 640)\n",
            "\n",
            "image 1/1 /content/extracted_detection_images/test/test/946.jpg: 480x640 1 license_plate, 174.4ms\n",
            "Speed: 4.1ms preprocess, 174.4ms inference, 0.9ms postprocess per image at shape (1, 3, 480, 640)\n",
            "\n",
            "image 1/1 /content/extracted_detection_images/test/test/964.jpg: 480x640 1 license_plate, 173.9ms\n",
            "Speed: 3.3ms preprocess, 173.9ms inference, 1.0ms postprocess per image at shape (1, 3, 480, 640)\n",
            "\n",
            "image 1/1 /content/extracted_detection_images/test/test/1101.jpg: 480x640 1 license_plate, 157.8ms\n",
            "Speed: 3.1ms preprocess, 157.8ms inference, 1.0ms postprocess per image at shape (1, 3, 480, 640)\n",
            "\n",
            "image 1/1 /content/extracted_detection_images/test/test/1036.jpg: 640x480 1 license_plate, 165.3ms\n",
            "Speed: 2.7ms preprocess, 165.3ms inference, 1.0ms postprocess per image at shape (1, 3, 640, 480)\n",
            "\n",
            "image 1/1 /content/extracted_detection_images/test/test/1093.jpg: 640x384 1 license_plate, 134.7ms\n",
            "Speed: 2.3ms preprocess, 134.7ms inference, 0.9ms postprocess per image at shape (1, 3, 640, 384)\n",
            "\n",
            "image 1/1 /content/extracted_detection_images/test/test/960.jpg: 416x640 1 license_plate, 177.3ms\n",
            "Speed: 2.8ms preprocess, 177.3ms inference, 1.0ms postprocess per image at shape (1, 3, 416, 640)\n",
            "\n",
            "image 1/1 /content/extracted_detection_images/test/test/987.jpg: 480x640 1 license_plate, 168.0ms\n",
            "Speed: 3.0ms preprocess, 168.0ms inference, 1.0ms postprocess per image at shape (1, 3, 480, 640)\n",
            "\n",
            "image 1/1 /content/extracted_detection_images/test/test/1108.jpg: 480x640 1 license_plate, 164.4ms\n",
            "Speed: 4.6ms preprocess, 164.4ms inference, 1.0ms postprocess per image at shape (1, 3, 480, 640)\n",
            "\n",
            "image 1/1 /content/extracted_detection_images/test/test/1061.jpg: 640x384 1 license_plate, 144.5ms\n",
            "Speed: 4.3ms preprocess, 144.5ms inference, 0.9ms postprocess per image at shape (1, 3, 640, 384)\n",
            "\n",
            "image 1/1 /content/extracted_detection_images/test/test/1064.jpg: 640x384 1 license_plate, 144.6ms\n",
            "Speed: 3.2ms preprocess, 144.6ms inference, 1.0ms postprocess per image at shape (1, 3, 640, 384)\n",
            "\n",
            "image 1/1 /content/extracted_detection_images/test/test/962.jpg: 384x640 1 license_plate, 140.9ms\n",
            "Speed: 3.6ms preprocess, 140.9ms inference, 1.2ms postprocess per image at shape (1, 3, 384, 640)\n",
            "\n",
            "image 1/1 /content/extracted_detection_images/test/test/1009.jpg: 384x640 1 license_plate, 136.6ms\n",
            "Speed: 2.4ms preprocess, 136.6ms inference, 0.9ms postprocess per image at shape (1, 3, 384, 640)\n",
            "\n",
            "image 1/1 /content/extracted_detection_images/test/test/934.jpg: 384x640 2 license_plates, 143.6ms\n",
            "Speed: 2.4ms preprocess, 143.6ms inference, 1.0ms postprocess per image at shape (1, 3, 384, 640)\n",
            "\n",
            "image 1/1 /content/extracted_detection_images/test/test/943.jpg: 640x576 1 license_plate, 305.7ms\n",
            "Speed: 5.7ms preprocess, 305.7ms inference, 1.3ms postprocess per image at shape (1, 3, 640, 576)\n",
            "CSV file with license plate predictions has been saved successfully.\n"
          ]
        }
      ],
      "source": [
        "import cv2\n",
        "import pandas as pd\n",
        "from pathlib import Path\n",
        "import easyocr\n",
        "from ultralytics import YOLO  # Use the ultralytics YOLO model\n",
        "\n",
        "# Initialize EasyOCR Reader (English language)\n",
        "reader = easyocr.Reader(['en'])\n",
        "\n",
        "# Path to the trained model weights\n",
        "model_path = '/content/best (1).pt'\n",
        "\n",
        "# Load the trained model\n",
        "model = YOLO(model_path)  # Load the custom YOLOv5 model\n",
        "\n",
        "# Function to extract text using EasyOCR\n",
        "def extract_text_from_plate(cropped_img):\n",
        "    # Perform OCR using EasyOCR\n",
        "    results = reader.readtext(cropped_img)\n",
        "    extracted_text = \"\"\n",
        "\n",
        "    # Collect text from the results (assuming the largest detected text block is the license plate)\n",
        "    for result in results:\n",
        "        extracted_text += result[1]  # Extract the text part\n",
        "\n",
        "    return extracted_text.strip()\n",
        "\n",
        "# Function to process and extract text from license plates\n",
        "def process_license_plates(image_path):\n",
        "    img = cv2.imread(image_path)\n",
        "    results = model(image_path)  # Use YOLO to detect objects in the image\n",
        "\n",
        "    # Iterate through the results (each is a detection)\n",
        "    license_plates = []\n",
        "    for result in results[0].boxes:  # Access the first item in the list (single image)\n",
        "        # Each result contains bounding box coordinates, class, and confidence\n",
        "        xmin, ymin, xmax, ymax = result.xyxy[0]  # Extract bounding box coordinates\n",
        "        xmin, ymin, xmax, ymax = int(xmin), int(ymin), int(xmax), int(ymax)\n",
        "\n",
        "        # Check if the detected object is a license plate (class 0 for license plates)\n",
        "        if result.cls[0] == 0:  # Class 0 corresponds to license plates in your model\n",
        "            cropped_img = img[ymin:ymax, xmin:xmax]  # Crop the detected license plate\n",
        "\n",
        "            # Perform text extraction using EasyOCR\n",
        "            plate_text = extract_text_from_plate(cropped_img)\n",
        "\n",
        "            # Add extracted text to list\n",
        "            license_plates.append(plate_text)\n",
        "\n",
        "    return license_plates\n",
        "\n",
        "# Set the path to your test images directory\n",
        "test_images_path = Path(\"/content/extracted_detection_images/test/test\")  # Replace with the correct directory path\n",
        "\n",
        "# Prepare CSV data\n",
        "csv_data = []\n",
        "\n",
        "# Character-to-index mapping (assuming you already have this mapping)\n",
        "char_to_idx = {str(i): i for i in range(10)}  # Example mapping (modify it based on your model)\n",
        "\n",
        "# Iterate over all test images\n",
        "for img_path in test_images_path.glob(\"*.jpg\"):\n",
        "    license_plates = process_license_plates(str(img_path))  # Extract license plate text\n",
        "    for i, plate_text in enumerate(license_plates):\n",
        "        # Ensure plate_text is no longer than 10 characters, truncate if necessary\n",
        "        plate_text = plate_text[:10]  # Truncate to 10 characters if it's too long\n",
        "\n",
        "        # Create a row with the image id and the characters in the license plate\n",
        "        row = [f\"{img_path.stem}_{i+1}\"] + [char_to_idx.get(c, 0) for c in plate_text]\n",
        "\n",
        "        # Make sure the row has a length of 11 (1 for id + 10 for characters)\n",
        "        row.extend([0] * (11 - len(row)))  # Ensure exactly 10 characters per row\n",
        "\n",
        "        # Add the row to csv data\n",
        "        csv_data.append(row)\n",
        "\n",
        "# Save the results to a CSV\n",
        "df = pd.DataFrame(csv_data, columns=[\"id\"] + [str(i) for i in range(10)])\n",
        "df.to_csv(\"license_plate_predictions2.csv\", index=False)\n",
        "\n",
        "print(\"CSV file with license plate predictions has been saved successfully.\")\n"
      ]
    }
  ],
  "metadata": {
    "colab": {
      "provenance": [],
      "gpuType": "T4"
    },
    "kernelspec": {
      "display_name": "Python 3",
      "name": "python3"
    },
    "language_info": {
      "name": "python"
    },
    "accelerator": "GPU"
  },
  "nbformat": 4,
  "nbformat_minor": 0
}